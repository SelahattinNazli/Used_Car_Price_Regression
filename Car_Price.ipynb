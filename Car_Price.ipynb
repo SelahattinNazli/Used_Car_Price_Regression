{
  "nbformat": 4,
  "nbformat_minor": 0,
  "metadata": {
    "colab": {
      "provenance": []
    },
    "kernelspec": {
      "name": "python3",
      "display_name": "Python 3"
    },
    "language_info": {
      "name": "python"
    }
  },
  "cells": [
    {
      "cell_type": "markdown",
      "source": [
        "# **1. Importing Libraries**\n",
        "\n",
        "\n"
      ],
      "metadata": {
        "id": "wOXEes94Vlkl"
      }
    },
    {
      "cell_type": "code",
      "source": [
        "!pip install catboost\n",
        "!pip install optuna\n",
        "!pip install xgboost\n",
        "!pip install lightgbm"
      ],
      "metadata": {
        "colab": {
          "base_uri": "https://localhost:8080/"
        },
        "collapsed": true,
        "id": "qyoDyMqhWpiV",
        "outputId": "349207f1-be3e-4ee0-8bef-c506a369ff8b"
      },
      "execution_count": 3,
      "outputs": [
        {
          "output_type": "stream",
          "name": "stdout",
          "text": [
            "Collecting catboost\n",
            "  Downloading catboost-1.2.7-cp310-cp310-manylinux2014_x86_64.whl.metadata (1.2 kB)\n",
            "Requirement already satisfied: graphviz in /usr/local/lib/python3.10/dist-packages (from catboost) (0.20.3)\n",
            "Requirement already satisfied: matplotlib in /usr/local/lib/python3.10/dist-packages (from catboost) (3.7.1)\n",
            "Requirement already satisfied: numpy<2.0,>=1.16.0 in /usr/local/lib/python3.10/dist-packages (from catboost) (1.26.4)\n",
            "Requirement already satisfied: pandas>=0.24 in /usr/local/lib/python3.10/dist-packages (from catboost) (2.1.4)\n",
            "Requirement already satisfied: scipy in /usr/local/lib/python3.10/dist-packages (from catboost) (1.13.1)\n",
            "Requirement already satisfied: plotly in /usr/local/lib/python3.10/dist-packages (from catboost) (5.24.1)\n",
            "Requirement already satisfied: six in /usr/local/lib/python3.10/dist-packages (from catboost) (1.16.0)\n",
            "Requirement already satisfied: python-dateutil>=2.8.2 in /usr/local/lib/python3.10/dist-packages (from pandas>=0.24->catboost) (2.8.2)\n",
            "Requirement already satisfied: pytz>=2020.1 in /usr/local/lib/python3.10/dist-packages (from pandas>=0.24->catboost) (2024.2)\n",
            "Requirement already satisfied: tzdata>=2022.1 in /usr/local/lib/python3.10/dist-packages (from pandas>=0.24->catboost) (2024.1)\n",
            "Requirement already satisfied: contourpy>=1.0.1 in /usr/local/lib/python3.10/dist-packages (from matplotlib->catboost) (1.3.0)\n",
            "Requirement already satisfied: cycler>=0.10 in /usr/local/lib/python3.10/dist-packages (from matplotlib->catboost) (0.12.1)\n",
            "Requirement already satisfied: fonttools>=4.22.0 in /usr/local/lib/python3.10/dist-packages (from matplotlib->catboost) (4.53.1)\n",
            "Requirement already satisfied: kiwisolver>=1.0.1 in /usr/local/lib/python3.10/dist-packages (from matplotlib->catboost) (1.4.7)\n",
            "Requirement already satisfied: packaging>=20.0 in /usr/local/lib/python3.10/dist-packages (from matplotlib->catboost) (24.1)\n",
            "Requirement already satisfied: pillow>=6.2.0 in /usr/local/lib/python3.10/dist-packages (from matplotlib->catboost) (10.4.0)\n",
            "Requirement already satisfied: pyparsing>=2.3.1 in /usr/local/lib/python3.10/dist-packages (from matplotlib->catboost) (3.1.4)\n",
            "Requirement already satisfied: tenacity>=6.2.0 in /usr/local/lib/python3.10/dist-packages (from plotly->catboost) (9.0.0)\n",
            "Downloading catboost-1.2.7-cp310-cp310-manylinux2014_x86_64.whl (98.7 MB)\n",
            "\u001b[2K   \u001b[90m━━━━━━━━━━━━━━━━━━━━━━━━━━━━━━━━━━━━━━━━\u001b[0m \u001b[32m98.7/98.7 MB\u001b[0m \u001b[31m7.2 MB/s\u001b[0m eta \u001b[36m0:00:00\u001b[0m\n",
            "\u001b[?25hInstalling collected packages: catboost\n",
            "Successfully installed catboost-1.2.7\n",
            "Collecting optuna\n",
            "  Downloading optuna-4.0.0-py3-none-any.whl.metadata (16 kB)\n",
            "Collecting alembic>=1.5.0 (from optuna)\n",
            "  Downloading alembic-1.13.3-py3-none-any.whl.metadata (7.4 kB)\n",
            "Collecting colorlog (from optuna)\n",
            "  Downloading colorlog-6.8.2-py3-none-any.whl.metadata (10 kB)\n",
            "Requirement already satisfied: numpy in /usr/local/lib/python3.10/dist-packages (from optuna) (1.26.4)\n",
            "Requirement already satisfied: packaging>=20.0 in /usr/local/lib/python3.10/dist-packages (from optuna) (24.1)\n",
            "Requirement already satisfied: sqlalchemy>=1.3.0 in /usr/local/lib/python3.10/dist-packages (from optuna) (2.0.35)\n",
            "Requirement already satisfied: tqdm in /usr/local/lib/python3.10/dist-packages (from optuna) (4.66.5)\n",
            "Requirement already satisfied: PyYAML in /usr/local/lib/python3.10/dist-packages (from optuna) (6.0.2)\n",
            "Collecting Mako (from alembic>=1.5.0->optuna)\n",
            "  Downloading Mako-1.3.5-py3-none-any.whl.metadata (2.9 kB)\n",
            "Requirement already satisfied: typing-extensions>=4 in /usr/local/lib/python3.10/dist-packages (from alembic>=1.5.0->optuna) (4.12.2)\n",
            "Requirement already satisfied: greenlet!=0.4.17 in /usr/local/lib/python3.10/dist-packages (from sqlalchemy>=1.3.0->optuna) (3.1.1)\n",
            "Requirement already satisfied: MarkupSafe>=0.9.2 in /usr/local/lib/python3.10/dist-packages (from Mako->alembic>=1.5.0->optuna) (2.1.5)\n",
            "Downloading optuna-4.0.0-py3-none-any.whl (362 kB)\n",
            "\u001b[2K   \u001b[90m━━━━━━━━━━━━━━━━━━━━━━━━━━━━━━━━━━━━━━━━\u001b[0m \u001b[32m362.8/362.8 kB\u001b[0m \u001b[31m5.6 MB/s\u001b[0m eta \u001b[36m0:00:00\u001b[0m\n",
            "\u001b[?25hDownloading alembic-1.13.3-py3-none-any.whl (233 kB)\n",
            "\u001b[2K   \u001b[90m━━━━━━━━━━━━━━━━━━━━━━━━━━━━━━━━━━━━━━━━\u001b[0m \u001b[32m233.2/233.2 kB\u001b[0m \u001b[31m929.4 kB/s\u001b[0m eta \u001b[36m0:00:00\u001b[0m\n",
            "\u001b[?25hDownloading colorlog-6.8.2-py3-none-any.whl (11 kB)\n",
            "Downloading Mako-1.3.5-py3-none-any.whl (78 kB)\n",
            "\u001b[2K   \u001b[90m━━━━━━━━━━━━━━━━━━━━━━━━━━━━━━━━━━━━━━━━\u001b[0m \u001b[32m78.6/78.6 kB\u001b[0m \u001b[31m4.3 MB/s\u001b[0m eta \u001b[36m0:00:00\u001b[0m\n",
            "\u001b[?25hInstalling collected packages: Mako, colorlog, alembic, optuna\n",
            "Successfully installed Mako-1.3.5 alembic-1.13.3 colorlog-6.8.2 optuna-4.0.0\n",
            "Requirement already satisfied: xgboost in /usr/local/lib/python3.10/dist-packages (2.1.1)\n",
            "Requirement already satisfied: numpy in /usr/local/lib/python3.10/dist-packages (from xgboost) (1.26.4)\n",
            "Requirement already satisfied: nvidia-nccl-cu12 in /usr/local/lib/python3.10/dist-packages (from xgboost) (2.23.4)\n",
            "Requirement already satisfied: scipy in /usr/local/lib/python3.10/dist-packages (from xgboost) (1.13.1)\n",
            "Requirement already satisfied: lightgbm in /usr/local/lib/python3.10/dist-packages (4.5.0)\n",
            "Requirement already satisfied: numpy>=1.17.0 in /usr/local/lib/python3.10/dist-packages (from lightgbm) (1.26.4)\n",
            "Requirement already satisfied: scipy in /usr/local/lib/python3.10/dist-packages (from lightgbm) (1.13.1)\n"
          ]
        }
      ]
    },
    {
      "cell_type": "code",
      "execution_count": 4,
      "metadata": {
        "colab": {
          "base_uri": "https://localhost:8080/"
        },
        "id": "zBYIytFNVfRN",
        "outputId": "b0cb8096-cc0f-42c0-a0c1-139bac73cef9"
      },
      "outputs": [
        {
          "output_type": "stream",
          "name": "stderr",
          "text": [
            "/usr/local/lib/python3.10/dist-packages/dask/dataframe/__init__.py:42: FutureWarning: \n",
            "Dask dataframe query planning is disabled because dask-expr is not installed.\n",
            "\n",
            "You can install it with `pip install dask[dataframe]` or `conda install dask`.\n",
            "This will raise in a future version.\n",
            "\n",
            "  warnings.warn(msg, FutureWarning)\n"
          ]
        }
      ],
      "source": [
        "import pandas as pd\n",
        "import matplotlib.pyplot as plt\n",
        "import seaborn as sns\n",
        "import re\n",
        "import matplotlib\n",
        "from collections import OrderedDict\n",
        "from sklearn.model_selection import train_test_split\n",
        "from xgboost.sklearn import XGBRegressor\n",
        "from lightgbm import LGBMRegressor\n",
        "from catboost import CatBoostRegressor\n",
        "from sklearn.linear_model import SGDRegressor\n",
        "from sklearn.linear_model import ElasticNet\n",
        "from sklearn.ensemble import GradientBoostingRegressor\n",
        "from sklearn.metrics import mean_squared_error as mse\n",
        "from sklearn.model_selection import cross_val_score as cv\n",
        "from sklearn.tree import DecisionTreeRegressor\n",
        "import optuna\n",
        "import math\n",
        "from datetime import datetime"
      ]
    },
    {
      "cell_type": "markdown",
      "source": [
        "# **2. Import Dataset**"
      ],
      "metadata": {
        "id": "gQMoayf7XSBq"
      }
    },
    {
      "cell_type": "code",
      "source": [
        "df = pd.read_csv(\"./used_cars.csv\")\n",
        "df.head()"
      ],
      "metadata": {
        "colab": {
          "base_uri": "https://localhost:8080/",
          "height": 484
        },
        "id": "X9nq93EzWmfN",
        "outputId": "3f897ba6-92f1-45f0-839e-89b7dfc4f2d8"
      },
      "execution_count": 5,
      "outputs": [
        {
          "output_type": "execute_result",
          "data": {
            "text/plain": [
              "      brand                            model  model_year      milage  \\\n",
              "0      Ford  Utility Police Interceptor Base        2013  51,000 mi.   \n",
              "1   Hyundai                     Palisade SEL        2021  34,742 mi.   \n",
              "2     Lexus                    RX 350 RX 350        2022  22,372 mi.   \n",
              "3  INFINITI                 Q50 Hybrid Sport        2015  88,900 mi.   \n",
              "4      Audi        Q3 45 S line Premium Plus        2021   9,835 mi.   \n",
              "\n",
              "       fuel_type                                             engine  \\\n",
              "0  E85 Flex Fuel  300.0HP 3.7L V6 Cylinder Engine Flex Fuel Capa...   \n",
              "1       Gasoline                               3.8L V6 24V GDI DOHC   \n",
              "2       Gasoline                                     3.5 Liter DOHC   \n",
              "3         Hybrid  354.0HP 3.5L V6 Cylinder Engine Gas/Electric H...   \n",
              "4       Gasoline                         2.0L I4 16V GDI DOHC Turbo   \n",
              "\n",
              "        transmission                 ext_col int_col  \\\n",
              "0        6-Speed A/T                   Black   Black   \n",
              "1  8-Speed Automatic         Moonlight Cloud    Gray   \n",
              "2          Automatic                    Blue   Black   \n",
              "3        7-Speed A/T                   Black   Black   \n",
              "4  8-Speed Automatic  Glacier White Metallic   Black   \n",
              "\n",
              "                                 accident clean_title    price  \n",
              "0  At least 1 accident or damage reported         Yes  $10,300  \n",
              "1  At least 1 accident or damage reported         Yes  $38,005  \n",
              "2                           None reported         NaN  $54,598  \n",
              "3                           None reported         Yes  $15,500  \n",
              "4                           None reported         NaN  $34,999  "
            ],
            "text/html": [
              "\n",
              "  <div id=\"df-0506a4e3-2295-4b3a-b962-1c209357c1d2\" class=\"colab-df-container\">\n",
              "    <div>\n",
              "<style scoped>\n",
              "    .dataframe tbody tr th:only-of-type {\n",
              "        vertical-align: middle;\n",
              "    }\n",
              "\n",
              "    .dataframe tbody tr th {\n",
              "        vertical-align: top;\n",
              "    }\n",
              "\n",
              "    .dataframe thead th {\n",
              "        text-align: right;\n",
              "    }\n",
              "</style>\n",
              "<table border=\"1\" class=\"dataframe\">\n",
              "  <thead>\n",
              "    <tr style=\"text-align: right;\">\n",
              "      <th></th>\n",
              "      <th>brand</th>\n",
              "      <th>model</th>\n",
              "      <th>model_year</th>\n",
              "      <th>milage</th>\n",
              "      <th>fuel_type</th>\n",
              "      <th>engine</th>\n",
              "      <th>transmission</th>\n",
              "      <th>ext_col</th>\n",
              "      <th>int_col</th>\n",
              "      <th>accident</th>\n",
              "      <th>clean_title</th>\n",
              "      <th>price</th>\n",
              "    </tr>\n",
              "  </thead>\n",
              "  <tbody>\n",
              "    <tr>\n",
              "      <th>0</th>\n",
              "      <td>Ford</td>\n",
              "      <td>Utility Police Interceptor Base</td>\n",
              "      <td>2013</td>\n",
              "      <td>51,000 mi.</td>\n",
              "      <td>E85 Flex Fuel</td>\n",
              "      <td>300.0HP 3.7L V6 Cylinder Engine Flex Fuel Capa...</td>\n",
              "      <td>6-Speed A/T</td>\n",
              "      <td>Black</td>\n",
              "      <td>Black</td>\n",
              "      <td>At least 1 accident or damage reported</td>\n",
              "      <td>Yes</td>\n",
              "      <td>$10,300</td>\n",
              "    </tr>\n",
              "    <tr>\n",
              "      <th>1</th>\n",
              "      <td>Hyundai</td>\n",
              "      <td>Palisade SEL</td>\n",
              "      <td>2021</td>\n",
              "      <td>34,742 mi.</td>\n",
              "      <td>Gasoline</td>\n",
              "      <td>3.8L V6 24V GDI DOHC</td>\n",
              "      <td>8-Speed Automatic</td>\n",
              "      <td>Moonlight Cloud</td>\n",
              "      <td>Gray</td>\n",
              "      <td>At least 1 accident or damage reported</td>\n",
              "      <td>Yes</td>\n",
              "      <td>$38,005</td>\n",
              "    </tr>\n",
              "    <tr>\n",
              "      <th>2</th>\n",
              "      <td>Lexus</td>\n",
              "      <td>RX 350 RX 350</td>\n",
              "      <td>2022</td>\n",
              "      <td>22,372 mi.</td>\n",
              "      <td>Gasoline</td>\n",
              "      <td>3.5 Liter DOHC</td>\n",
              "      <td>Automatic</td>\n",
              "      <td>Blue</td>\n",
              "      <td>Black</td>\n",
              "      <td>None reported</td>\n",
              "      <td>NaN</td>\n",
              "      <td>$54,598</td>\n",
              "    </tr>\n",
              "    <tr>\n",
              "      <th>3</th>\n",
              "      <td>INFINITI</td>\n",
              "      <td>Q50 Hybrid Sport</td>\n",
              "      <td>2015</td>\n",
              "      <td>88,900 mi.</td>\n",
              "      <td>Hybrid</td>\n",
              "      <td>354.0HP 3.5L V6 Cylinder Engine Gas/Electric H...</td>\n",
              "      <td>7-Speed A/T</td>\n",
              "      <td>Black</td>\n",
              "      <td>Black</td>\n",
              "      <td>None reported</td>\n",
              "      <td>Yes</td>\n",
              "      <td>$15,500</td>\n",
              "    </tr>\n",
              "    <tr>\n",
              "      <th>4</th>\n",
              "      <td>Audi</td>\n",
              "      <td>Q3 45 S line Premium Plus</td>\n",
              "      <td>2021</td>\n",
              "      <td>9,835 mi.</td>\n",
              "      <td>Gasoline</td>\n",
              "      <td>2.0L I4 16V GDI DOHC Turbo</td>\n",
              "      <td>8-Speed Automatic</td>\n",
              "      <td>Glacier White Metallic</td>\n",
              "      <td>Black</td>\n",
              "      <td>None reported</td>\n",
              "      <td>NaN</td>\n",
              "      <td>$34,999</td>\n",
              "    </tr>\n",
              "  </tbody>\n",
              "</table>\n",
              "</div>\n",
              "    <div class=\"colab-df-buttons\">\n",
              "\n",
              "  <div class=\"colab-df-container\">\n",
              "    <button class=\"colab-df-convert\" onclick=\"convertToInteractive('df-0506a4e3-2295-4b3a-b962-1c209357c1d2')\"\n",
              "            title=\"Convert this dataframe to an interactive table.\"\n",
              "            style=\"display:none;\">\n",
              "\n",
              "  <svg xmlns=\"http://www.w3.org/2000/svg\" height=\"24px\" viewBox=\"0 -960 960 960\">\n",
              "    <path d=\"M120-120v-720h720v720H120Zm60-500h600v-160H180v160Zm220 220h160v-160H400v160Zm0 220h160v-160H400v160ZM180-400h160v-160H180v160Zm440 0h160v-160H620v160ZM180-180h160v-160H180v160Zm440 0h160v-160H620v160Z\"/>\n",
              "  </svg>\n",
              "    </button>\n",
              "\n",
              "  <style>\n",
              "    .colab-df-container {\n",
              "      display:flex;\n",
              "      gap: 12px;\n",
              "    }\n",
              "\n",
              "    .colab-df-convert {\n",
              "      background-color: #E8F0FE;\n",
              "      border: none;\n",
              "      border-radius: 50%;\n",
              "      cursor: pointer;\n",
              "      display: none;\n",
              "      fill: #1967D2;\n",
              "      height: 32px;\n",
              "      padding: 0 0 0 0;\n",
              "      width: 32px;\n",
              "    }\n",
              "\n",
              "    .colab-df-convert:hover {\n",
              "      background-color: #E2EBFA;\n",
              "      box-shadow: 0px 1px 2px rgba(60, 64, 67, 0.3), 0px 1px 3px 1px rgba(60, 64, 67, 0.15);\n",
              "      fill: #174EA6;\n",
              "    }\n",
              "\n",
              "    .colab-df-buttons div {\n",
              "      margin-bottom: 4px;\n",
              "    }\n",
              "\n",
              "    [theme=dark] .colab-df-convert {\n",
              "      background-color: #3B4455;\n",
              "      fill: #D2E3FC;\n",
              "    }\n",
              "\n",
              "    [theme=dark] .colab-df-convert:hover {\n",
              "      background-color: #434B5C;\n",
              "      box-shadow: 0px 1px 3px 1px rgba(0, 0, 0, 0.15);\n",
              "      filter: drop-shadow(0px 1px 2px rgba(0, 0, 0, 0.3));\n",
              "      fill: #FFFFFF;\n",
              "    }\n",
              "  </style>\n",
              "\n",
              "    <script>\n",
              "      const buttonEl =\n",
              "        document.querySelector('#df-0506a4e3-2295-4b3a-b962-1c209357c1d2 button.colab-df-convert');\n",
              "      buttonEl.style.display =\n",
              "        google.colab.kernel.accessAllowed ? 'block' : 'none';\n",
              "\n",
              "      async function convertToInteractive(key) {\n",
              "        const element = document.querySelector('#df-0506a4e3-2295-4b3a-b962-1c209357c1d2');\n",
              "        const dataTable =\n",
              "          await google.colab.kernel.invokeFunction('convertToInteractive',\n",
              "                                                    [key], {});\n",
              "        if (!dataTable) return;\n",
              "\n",
              "        const docLinkHtml = 'Like what you see? Visit the ' +\n",
              "          '<a target=\"_blank\" href=https://colab.research.google.com/notebooks/data_table.ipynb>data table notebook</a>'\n",
              "          + ' to learn more about interactive tables.';\n",
              "        element.innerHTML = '';\n",
              "        dataTable['output_type'] = 'display_data';\n",
              "        await google.colab.output.renderOutput(dataTable, element);\n",
              "        const docLink = document.createElement('div');\n",
              "        docLink.innerHTML = docLinkHtml;\n",
              "        element.appendChild(docLink);\n",
              "      }\n",
              "    </script>\n",
              "  </div>\n",
              "\n",
              "\n",
              "<div id=\"df-fa42b2dd-6950-4f44-9a54-2fa21e118124\">\n",
              "  <button class=\"colab-df-quickchart\" onclick=\"quickchart('df-fa42b2dd-6950-4f44-9a54-2fa21e118124')\"\n",
              "            title=\"Suggest charts\"\n",
              "            style=\"display:none;\">\n",
              "\n",
              "<svg xmlns=\"http://www.w3.org/2000/svg\" height=\"24px\"viewBox=\"0 0 24 24\"\n",
              "     width=\"24px\">\n",
              "    <g>\n",
              "        <path d=\"M19 3H5c-1.1 0-2 .9-2 2v14c0 1.1.9 2 2 2h14c1.1 0 2-.9 2-2V5c0-1.1-.9-2-2-2zM9 17H7v-7h2v7zm4 0h-2V7h2v10zm4 0h-2v-4h2v4z\"/>\n",
              "    </g>\n",
              "</svg>\n",
              "  </button>\n",
              "\n",
              "<style>\n",
              "  .colab-df-quickchart {\n",
              "      --bg-color: #E8F0FE;\n",
              "      --fill-color: #1967D2;\n",
              "      --hover-bg-color: #E2EBFA;\n",
              "      --hover-fill-color: #174EA6;\n",
              "      --disabled-fill-color: #AAA;\n",
              "      --disabled-bg-color: #DDD;\n",
              "  }\n",
              "\n",
              "  [theme=dark] .colab-df-quickchart {\n",
              "      --bg-color: #3B4455;\n",
              "      --fill-color: #D2E3FC;\n",
              "      --hover-bg-color: #434B5C;\n",
              "      --hover-fill-color: #FFFFFF;\n",
              "      --disabled-bg-color: #3B4455;\n",
              "      --disabled-fill-color: #666;\n",
              "  }\n",
              "\n",
              "  .colab-df-quickchart {\n",
              "    background-color: var(--bg-color);\n",
              "    border: none;\n",
              "    border-radius: 50%;\n",
              "    cursor: pointer;\n",
              "    display: none;\n",
              "    fill: var(--fill-color);\n",
              "    height: 32px;\n",
              "    padding: 0;\n",
              "    width: 32px;\n",
              "  }\n",
              "\n",
              "  .colab-df-quickchart:hover {\n",
              "    background-color: var(--hover-bg-color);\n",
              "    box-shadow: 0 1px 2px rgba(60, 64, 67, 0.3), 0 1px 3px 1px rgba(60, 64, 67, 0.15);\n",
              "    fill: var(--button-hover-fill-color);\n",
              "  }\n",
              "\n",
              "  .colab-df-quickchart-complete:disabled,\n",
              "  .colab-df-quickchart-complete:disabled:hover {\n",
              "    background-color: var(--disabled-bg-color);\n",
              "    fill: var(--disabled-fill-color);\n",
              "    box-shadow: none;\n",
              "  }\n",
              "\n",
              "  .colab-df-spinner {\n",
              "    border: 2px solid var(--fill-color);\n",
              "    border-color: transparent;\n",
              "    border-bottom-color: var(--fill-color);\n",
              "    animation:\n",
              "      spin 1s steps(1) infinite;\n",
              "  }\n",
              "\n",
              "  @keyframes spin {\n",
              "    0% {\n",
              "      border-color: transparent;\n",
              "      border-bottom-color: var(--fill-color);\n",
              "      border-left-color: var(--fill-color);\n",
              "    }\n",
              "    20% {\n",
              "      border-color: transparent;\n",
              "      border-left-color: var(--fill-color);\n",
              "      border-top-color: var(--fill-color);\n",
              "    }\n",
              "    30% {\n",
              "      border-color: transparent;\n",
              "      border-left-color: var(--fill-color);\n",
              "      border-top-color: var(--fill-color);\n",
              "      border-right-color: var(--fill-color);\n",
              "    }\n",
              "    40% {\n",
              "      border-color: transparent;\n",
              "      border-right-color: var(--fill-color);\n",
              "      border-top-color: var(--fill-color);\n",
              "    }\n",
              "    60% {\n",
              "      border-color: transparent;\n",
              "      border-right-color: var(--fill-color);\n",
              "    }\n",
              "    80% {\n",
              "      border-color: transparent;\n",
              "      border-right-color: var(--fill-color);\n",
              "      border-bottom-color: var(--fill-color);\n",
              "    }\n",
              "    90% {\n",
              "      border-color: transparent;\n",
              "      border-bottom-color: var(--fill-color);\n",
              "    }\n",
              "  }\n",
              "</style>\n",
              "\n",
              "  <script>\n",
              "    async function quickchart(key) {\n",
              "      const quickchartButtonEl =\n",
              "        document.querySelector('#' + key + ' button');\n",
              "      quickchartButtonEl.disabled = true;  // To prevent multiple clicks.\n",
              "      quickchartButtonEl.classList.add('colab-df-spinner');\n",
              "      try {\n",
              "        const charts = await google.colab.kernel.invokeFunction(\n",
              "            'suggestCharts', [key], {});\n",
              "      } catch (error) {\n",
              "        console.error('Error during call to suggestCharts:', error);\n",
              "      }\n",
              "      quickchartButtonEl.classList.remove('colab-df-spinner');\n",
              "      quickchartButtonEl.classList.add('colab-df-quickchart-complete');\n",
              "    }\n",
              "    (() => {\n",
              "      let quickchartButtonEl =\n",
              "        document.querySelector('#df-fa42b2dd-6950-4f44-9a54-2fa21e118124 button');\n",
              "      quickchartButtonEl.style.display =\n",
              "        google.colab.kernel.accessAllowed ? 'block' : 'none';\n",
              "    })();\n",
              "  </script>\n",
              "</div>\n",
              "\n",
              "    </div>\n",
              "  </div>\n"
            ],
            "application/vnd.google.colaboratory.intrinsic+json": {
              "type": "dataframe",
              "variable_name": "df",
              "summary": "{\n  \"name\": \"df\",\n  \"rows\": 4009,\n  \"fields\": [\n    {\n      \"column\": \"brand\",\n      \"properties\": {\n        \"dtype\": \"category\",\n        \"num_unique_values\": 57,\n        \"samples\": [\n          \"Ford\",\n          \"Acura\",\n          \"Maserati\"\n        ],\n        \"semantic_type\": \"\",\n        \"description\": \"\"\n      }\n    },\n    {\n      \"column\": \"model\",\n      \"properties\": {\n        \"dtype\": \"category\",\n        \"num_unique_values\": 1898,\n        \"samples\": [\n          \"Expedition King Ranch\",\n          \"Outback 3.0 R VDC Limited\",\n          \"AMG GLC 43 AMG GLC 43\"\n        ],\n        \"semantic_type\": \"\",\n        \"description\": \"\"\n      }\n    },\n    {\n      \"column\": \"model_year\",\n      \"properties\": {\n        \"dtype\": \"number\",\n        \"std\": 6,\n        \"min\": 1974,\n        \"max\": 2024,\n        \"num_unique_values\": 34,\n        \"samples\": [\n          2012,\n          2009,\n          1998\n        ],\n        \"semantic_type\": \"\",\n        \"description\": \"\"\n      }\n    },\n    {\n      \"column\": \"milage\",\n      \"properties\": {\n        \"dtype\": \"string\",\n        \"num_unique_values\": 2818,\n        \"samples\": [\n          \"8,730 mi.\",\n          \"21,404 mi.\",\n          \"53,169 mi.\"\n        ],\n        \"semantic_type\": \"\",\n        \"description\": \"\"\n      }\n    },\n    {\n      \"column\": \"fuel_type\",\n      \"properties\": {\n        \"dtype\": \"category\",\n        \"num_unique_values\": 7,\n        \"samples\": [\n          \"E85 Flex Fuel\",\n          \"Gasoline\",\n          \"\\u2013\"\n        ],\n        \"semantic_type\": \"\",\n        \"description\": \"\"\n      }\n    },\n    {\n      \"column\": \"engine\",\n      \"properties\": {\n        \"dtype\": \"category\",\n        \"num_unique_values\": 1146,\n        \"samples\": [\n          \"2.5L I4 16V PDI DOHC Hybrid\",\n          \"330.0HP 2.0L 4 Cylinder Engine Gasoline Fuel\",\n          \"1.6L I4 16V GDI DOHC Turbo\"\n        ],\n        \"semantic_type\": \"\",\n        \"description\": \"\"\n      }\n    },\n    {\n      \"column\": \"transmission\",\n      \"properties\": {\n        \"dtype\": \"category\",\n        \"num_unique_values\": 62,\n        \"samples\": [\n          \"Automatic, 7-Spd S tronic Dual-Clutch\",\n          \"7-Speed DCT Automatic\",\n          \"6-Speed A/T\"\n        ],\n        \"semantic_type\": \"\",\n        \"description\": \"\"\n      }\n    },\n    {\n      \"column\": \"ext_col\",\n      \"properties\": {\n        \"dtype\": \"category\",\n        \"num_unique_values\": 319,\n        \"samples\": [\n          \"Ibis White\",\n          \"Carbonized Gray Metallic\",\n          \"Beige\"\n        ],\n        \"semantic_type\": \"\",\n        \"description\": \"\"\n      }\n    },\n    {\n      \"column\": \"int_col\",\n      \"properties\": {\n        \"dtype\": \"category\",\n        \"num_unique_values\": 156,\n        \"samples\": [\n          \"Slate\",\n          \"Tan\",\n          \"Almond Beige\"\n        ],\n        \"semantic_type\": \"\",\n        \"description\": \"\"\n      }\n    },\n    {\n      \"column\": \"accident\",\n      \"properties\": {\n        \"dtype\": \"category\",\n        \"num_unique_values\": 2,\n        \"samples\": [\n          \"None reported\",\n          \"At least 1 accident or damage reported\"\n        ],\n        \"semantic_type\": \"\",\n        \"description\": \"\"\n      }\n    },\n    {\n      \"column\": \"clean_title\",\n      \"properties\": {\n        \"dtype\": \"category\",\n        \"num_unique_values\": 1,\n        \"samples\": [\n          \"Yes\"\n        ],\n        \"semantic_type\": \"\",\n        \"description\": \"\"\n      }\n    },\n    {\n      \"column\": \"price\",\n      \"properties\": {\n        \"dtype\": \"category\",\n        \"num_unique_values\": 1569,\n        \"samples\": [\n          \"$44,600\"\n        ],\n        \"semantic_type\": \"\",\n        \"description\": \"\"\n      }\n    }\n  ]\n}"
            }
          },
          "metadata": {},
          "execution_count": 5
        }
      ]
    },
    {
      "cell_type": "code",
      "source": [
        "# Remove \"mi.\" and commas from the \"milage\" column and convert to numeric\n",
        "df['milage'] = df['milage'].replace({' mi.': '', ',': ''}, regex=True).astype(int)\n",
        "\n",
        "# Remove \"$\" and commas from the \"price\" column and convert to numeric\n",
        "df['price'] = df['price'].replace({'\\$': '', ',': ''}, regex=True).astype(int)\n"
      ],
      "metadata": {
        "id": "yjzneYHrZNAX"
      },
      "execution_count": 6,
      "outputs": []
    },
    {
      "cell_type": "code",
      "source": [
        "df.describe()"
      ],
      "metadata": {
        "colab": {
          "base_uri": "https://localhost:8080/",
          "height": 300
        },
        "id": "Stc35mO6ZXOv",
        "outputId": "30b857cf-fa04-46f5-9725-fbc6f0993eca"
      },
      "execution_count": 7,
      "outputs": [
        {
          "output_type": "execute_result",
          "data": {
            "text/plain": [
              "        model_year         milage         price\n",
              "count  4009.000000    4009.000000  4.009000e+03\n",
              "mean   2015.515590   64717.551010  4.455319e+04\n",
              "std       6.104816   52296.599459  7.871064e+04\n",
              "min    1974.000000     100.000000  2.000000e+03\n",
              "25%    2012.000000   23044.000000  1.720000e+04\n",
              "50%    2017.000000   52775.000000  3.100000e+04\n",
              "75%    2020.000000   94100.000000  4.999000e+04\n",
              "max    2024.000000  405000.000000  2.954083e+06"
            ],
            "text/html": [
              "\n",
              "  <div id=\"df-d2b2e327-7ab3-4fbe-ba45-749261bc56c9\" class=\"colab-df-container\">\n",
              "    <div>\n",
              "<style scoped>\n",
              "    .dataframe tbody tr th:only-of-type {\n",
              "        vertical-align: middle;\n",
              "    }\n",
              "\n",
              "    .dataframe tbody tr th {\n",
              "        vertical-align: top;\n",
              "    }\n",
              "\n",
              "    .dataframe thead th {\n",
              "        text-align: right;\n",
              "    }\n",
              "</style>\n",
              "<table border=\"1\" class=\"dataframe\">\n",
              "  <thead>\n",
              "    <tr style=\"text-align: right;\">\n",
              "      <th></th>\n",
              "      <th>model_year</th>\n",
              "      <th>milage</th>\n",
              "      <th>price</th>\n",
              "    </tr>\n",
              "  </thead>\n",
              "  <tbody>\n",
              "    <tr>\n",
              "      <th>count</th>\n",
              "      <td>4009.000000</td>\n",
              "      <td>4009.000000</td>\n",
              "      <td>4.009000e+03</td>\n",
              "    </tr>\n",
              "    <tr>\n",
              "      <th>mean</th>\n",
              "      <td>2015.515590</td>\n",
              "      <td>64717.551010</td>\n",
              "      <td>4.455319e+04</td>\n",
              "    </tr>\n",
              "    <tr>\n",
              "      <th>std</th>\n",
              "      <td>6.104816</td>\n",
              "      <td>52296.599459</td>\n",
              "      <td>7.871064e+04</td>\n",
              "    </tr>\n",
              "    <tr>\n",
              "      <th>min</th>\n",
              "      <td>1974.000000</td>\n",
              "      <td>100.000000</td>\n",
              "      <td>2.000000e+03</td>\n",
              "    </tr>\n",
              "    <tr>\n",
              "      <th>25%</th>\n",
              "      <td>2012.000000</td>\n",
              "      <td>23044.000000</td>\n",
              "      <td>1.720000e+04</td>\n",
              "    </tr>\n",
              "    <tr>\n",
              "      <th>50%</th>\n",
              "      <td>2017.000000</td>\n",
              "      <td>52775.000000</td>\n",
              "      <td>3.100000e+04</td>\n",
              "    </tr>\n",
              "    <tr>\n",
              "      <th>75%</th>\n",
              "      <td>2020.000000</td>\n",
              "      <td>94100.000000</td>\n",
              "      <td>4.999000e+04</td>\n",
              "    </tr>\n",
              "    <tr>\n",
              "      <th>max</th>\n",
              "      <td>2024.000000</td>\n",
              "      <td>405000.000000</td>\n",
              "      <td>2.954083e+06</td>\n",
              "    </tr>\n",
              "  </tbody>\n",
              "</table>\n",
              "</div>\n",
              "    <div class=\"colab-df-buttons\">\n",
              "\n",
              "  <div class=\"colab-df-container\">\n",
              "    <button class=\"colab-df-convert\" onclick=\"convertToInteractive('df-d2b2e327-7ab3-4fbe-ba45-749261bc56c9')\"\n",
              "            title=\"Convert this dataframe to an interactive table.\"\n",
              "            style=\"display:none;\">\n",
              "\n",
              "  <svg xmlns=\"http://www.w3.org/2000/svg\" height=\"24px\" viewBox=\"0 -960 960 960\">\n",
              "    <path d=\"M120-120v-720h720v720H120Zm60-500h600v-160H180v160Zm220 220h160v-160H400v160Zm0 220h160v-160H400v160ZM180-400h160v-160H180v160Zm440 0h160v-160H620v160ZM180-180h160v-160H180v160Zm440 0h160v-160H620v160Z\"/>\n",
              "  </svg>\n",
              "    </button>\n",
              "\n",
              "  <style>\n",
              "    .colab-df-container {\n",
              "      display:flex;\n",
              "      gap: 12px;\n",
              "    }\n",
              "\n",
              "    .colab-df-convert {\n",
              "      background-color: #E8F0FE;\n",
              "      border: none;\n",
              "      border-radius: 50%;\n",
              "      cursor: pointer;\n",
              "      display: none;\n",
              "      fill: #1967D2;\n",
              "      height: 32px;\n",
              "      padding: 0 0 0 0;\n",
              "      width: 32px;\n",
              "    }\n",
              "\n",
              "    .colab-df-convert:hover {\n",
              "      background-color: #E2EBFA;\n",
              "      box-shadow: 0px 1px 2px rgba(60, 64, 67, 0.3), 0px 1px 3px 1px rgba(60, 64, 67, 0.15);\n",
              "      fill: #174EA6;\n",
              "    }\n",
              "\n",
              "    .colab-df-buttons div {\n",
              "      margin-bottom: 4px;\n",
              "    }\n",
              "\n",
              "    [theme=dark] .colab-df-convert {\n",
              "      background-color: #3B4455;\n",
              "      fill: #D2E3FC;\n",
              "    }\n",
              "\n",
              "    [theme=dark] .colab-df-convert:hover {\n",
              "      background-color: #434B5C;\n",
              "      box-shadow: 0px 1px 3px 1px rgba(0, 0, 0, 0.15);\n",
              "      filter: drop-shadow(0px 1px 2px rgba(0, 0, 0, 0.3));\n",
              "      fill: #FFFFFF;\n",
              "    }\n",
              "  </style>\n",
              "\n",
              "    <script>\n",
              "      const buttonEl =\n",
              "        document.querySelector('#df-d2b2e327-7ab3-4fbe-ba45-749261bc56c9 button.colab-df-convert');\n",
              "      buttonEl.style.display =\n",
              "        google.colab.kernel.accessAllowed ? 'block' : 'none';\n",
              "\n",
              "      async function convertToInteractive(key) {\n",
              "        const element = document.querySelector('#df-d2b2e327-7ab3-4fbe-ba45-749261bc56c9');\n",
              "        const dataTable =\n",
              "          await google.colab.kernel.invokeFunction('convertToInteractive',\n",
              "                                                    [key], {});\n",
              "        if (!dataTable) return;\n",
              "\n",
              "        const docLinkHtml = 'Like what you see? Visit the ' +\n",
              "          '<a target=\"_blank\" href=https://colab.research.google.com/notebooks/data_table.ipynb>data table notebook</a>'\n",
              "          + ' to learn more about interactive tables.';\n",
              "        element.innerHTML = '';\n",
              "        dataTable['output_type'] = 'display_data';\n",
              "        await google.colab.output.renderOutput(dataTable, element);\n",
              "        const docLink = document.createElement('div');\n",
              "        docLink.innerHTML = docLinkHtml;\n",
              "        element.appendChild(docLink);\n",
              "      }\n",
              "    </script>\n",
              "  </div>\n",
              "\n",
              "\n",
              "<div id=\"df-da3f53a4-7385-4d8c-8d63-a9bc677654a2\">\n",
              "  <button class=\"colab-df-quickchart\" onclick=\"quickchart('df-da3f53a4-7385-4d8c-8d63-a9bc677654a2')\"\n",
              "            title=\"Suggest charts\"\n",
              "            style=\"display:none;\">\n",
              "\n",
              "<svg xmlns=\"http://www.w3.org/2000/svg\" height=\"24px\"viewBox=\"0 0 24 24\"\n",
              "     width=\"24px\">\n",
              "    <g>\n",
              "        <path d=\"M19 3H5c-1.1 0-2 .9-2 2v14c0 1.1.9 2 2 2h14c1.1 0 2-.9 2-2V5c0-1.1-.9-2-2-2zM9 17H7v-7h2v7zm4 0h-2V7h2v10zm4 0h-2v-4h2v4z\"/>\n",
              "    </g>\n",
              "</svg>\n",
              "  </button>\n",
              "\n",
              "<style>\n",
              "  .colab-df-quickchart {\n",
              "      --bg-color: #E8F0FE;\n",
              "      --fill-color: #1967D2;\n",
              "      --hover-bg-color: #E2EBFA;\n",
              "      --hover-fill-color: #174EA6;\n",
              "      --disabled-fill-color: #AAA;\n",
              "      --disabled-bg-color: #DDD;\n",
              "  }\n",
              "\n",
              "  [theme=dark] .colab-df-quickchart {\n",
              "      --bg-color: #3B4455;\n",
              "      --fill-color: #D2E3FC;\n",
              "      --hover-bg-color: #434B5C;\n",
              "      --hover-fill-color: #FFFFFF;\n",
              "      --disabled-bg-color: #3B4455;\n",
              "      --disabled-fill-color: #666;\n",
              "  }\n",
              "\n",
              "  .colab-df-quickchart {\n",
              "    background-color: var(--bg-color);\n",
              "    border: none;\n",
              "    border-radius: 50%;\n",
              "    cursor: pointer;\n",
              "    display: none;\n",
              "    fill: var(--fill-color);\n",
              "    height: 32px;\n",
              "    padding: 0;\n",
              "    width: 32px;\n",
              "  }\n",
              "\n",
              "  .colab-df-quickchart:hover {\n",
              "    background-color: var(--hover-bg-color);\n",
              "    box-shadow: 0 1px 2px rgba(60, 64, 67, 0.3), 0 1px 3px 1px rgba(60, 64, 67, 0.15);\n",
              "    fill: var(--button-hover-fill-color);\n",
              "  }\n",
              "\n",
              "  .colab-df-quickchart-complete:disabled,\n",
              "  .colab-df-quickchart-complete:disabled:hover {\n",
              "    background-color: var(--disabled-bg-color);\n",
              "    fill: var(--disabled-fill-color);\n",
              "    box-shadow: none;\n",
              "  }\n",
              "\n",
              "  .colab-df-spinner {\n",
              "    border: 2px solid var(--fill-color);\n",
              "    border-color: transparent;\n",
              "    border-bottom-color: var(--fill-color);\n",
              "    animation:\n",
              "      spin 1s steps(1) infinite;\n",
              "  }\n",
              "\n",
              "  @keyframes spin {\n",
              "    0% {\n",
              "      border-color: transparent;\n",
              "      border-bottom-color: var(--fill-color);\n",
              "      border-left-color: var(--fill-color);\n",
              "    }\n",
              "    20% {\n",
              "      border-color: transparent;\n",
              "      border-left-color: var(--fill-color);\n",
              "      border-top-color: var(--fill-color);\n",
              "    }\n",
              "    30% {\n",
              "      border-color: transparent;\n",
              "      border-left-color: var(--fill-color);\n",
              "      border-top-color: var(--fill-color);\n",
              "      border-right-color: var(--fill-color);\n",
              "    }\n",
              "    40% {\n",
              "      border-color: transparent;\n",
              "      border-right-color: var(--fill-color);\n",
              "      border-top-color: var(--fill-color);\n",
              "    }\n",
              "    60% {\n",
              "      border-color: transparent;\n",
              "      border-right-color: var(--fill-color);\n",
              "    }\n",
              "    80% {\n",
              "      border-color: transparent;\n",
              "      border-right-color: var(--fill-color);\n",
              "      border-bottom-color: var(--fill-color);\n",
              "    }\n",
              "    90% {\n",
              "      border-color: transparent;\n",
              "      border-bottom-color: var(--fill-color);\n",
              "    }\n",
              "  }\n",
              "</style>\n",
              "\n",
              "  <script>\n",
              "    async function quickchart(key) {\n",
              "      const quickchartButtonEl =\n",
              "        document.querySelector('#' + key + ' button');\n",
              "      quickchartButtonEl.disabled = true;  // To prevent multiple clicks.\n",
              "      quickchartButtonEl.classList.add('colab-df-spinner');\n",
              "      try {\n",
              "        const charts = await google.colab.kernel.invokeFunction(\n",
              "            'suggestCharts', [key], {});\n",
              "      } catch (error) {\n",
              "        console.error('Error during call to suggestCharts:', error);\n",
              "      }\n",
              "      quickchartButtonEl.classList.remove('colab-df-spinner');\n",
              "      quickchartButtonEl.classList.add('colab-df-quickchart-complete');\n",
              "    }\n",
              "    (() => {\n",
              "      let quickchartButtonEl =\n",
              "        document.querySelector('#df-da3f53a4-7385-4d8c-8d63-a9bc677654a2 button');\n",
              "      quickchartButtonEl.style.display =\n",
              "        google.colab.kernel.accessAllowed ? 'block' : 'none';\n",
              "    })();\n",
              "  </script>\n",
              "</div>\n",
              "\n",
              "    </div>\n",
              "  </div>\n"
            ],
            "application/vnd.google.colaboratory.intrinsic+json": {
              "type": "dataframe",
              "summary": "{\n  \"name\": \"df\",\n  \"rows\": 8,\n  \"fields\": [\n    {\n      \"column\": \"model_year\",\n      \"properties\": {\n        \"dtype\": \"number\",\n        \"std\": 1069.9313476916975,\n        \"min\": 6.10481624168727,\n        \"max\": 4009.0,\n        \"num_unique_values\": 8,\n        \"samples\": [\n          2015.515589922674,\n          2017.0,\n          4009.0\n        ],\n        \"semantic_type\": \"\",\n        \"description\": \"\"\n      }\n    },\n    {\n      \"column\": \"milage\",\n      \"properties\": {\n        \"dtype\": \"number\",\n        \"std\": 132328.638495213,\n        \"min\": 100.0,\n        \"max\": 405000.0,\n        \"num_unique_values\": 8,\n        \"samples\": [\n          64717.55101022699,\n          52775.0,\n          4009.0\n        ],\n        \"semantic_type\": \"\",\n        \"description\": \"\"\n      }\n    },\n    {\n      \"column\": \"price\",\n      \"properties\": {\n        \"dtype\": \"number\",\n        \"std\": 1033253.0739450733,\n        \"min\": 2000.0,\n        \"max\": 2954083.0,\n        \"num_unique_values\": 8,\n        \"samples\": [\n          44553.190321776005,\n          31000.0,\n          4009.0\n        ],\n        \"semantic_type\": \"\",\n        \"description\": \"\"\n      }\n    }\n  ]\n}"
            }
          },
          "metadata": {},
          "execution_count": 7
        }
      ]
    },
    {
      "cell_type": "code",
      "source": [
        "df.columns"
      ],
      "metadata": {
        "colab": {
          "base_uri": "https://localhost:8080/"
        },
        "id": "1HEiWouaZmsg",
        "outputId": "eec6f693-8b16-4f08-8306-d141df2d5abe"
      },
      "execution_count": 8,
      "outputs": [
        {
          "output_type": "execute_result",
          "data": {
            "text/plain": [
              "Index(['brand', 'model', 'model_year', 'milage', 'fuel_type', 'engine',\n",
              "       'transmission', 'ext_col', 'int_col', 'accident', 'clean_title',\n",
              "       'price'],\n",
              "      dtype='object')"
            ]
          },
          "metadata": {},
          "execution_count": 8
        }
      ]
    },
    {
      "cell_type": "code",
      "source": [
        "df.info()"
      ],
      "metadata": {
        "colab": {
          "base_uri": "https://localhost:8080/"
        },
        "id": "d0Pe3FdUZqhg",
        "outputId": "75cd9b53-b786-4fc3-8dfb-87a314fb2ec1"
      },
      "execution_count": 9,
      "outputs": [
        {
          "output_type": "stream",
          "name": "stdout",
          "text": [
            "<class 'pandas.core.frame.DataFrame'>\n",
            "RangeIndex: 4009 entries, 0 to 4008\n",
            "Data columns (total 12 columns):\n",
            " #   Column        Non-Null Count  Dtype \n",
            "---  ------        --------------  ----- \n",
            " 0   brand         4009 non-null   object\n",
            " 1   model         4009 non-null   object\n",
            " 2   model_year    4009 non-null   int64 \n",
            " 3   milage        4009 non-null   int64 \n",
            " 4   fuel_type     3839 non-null   object\n",
            " 5   engine        4009 non-null   object\n",
            " 6   transmission  4009 non-null   object\n",
            " 7   ext_col       4009 non-null   object\n",
            " 8   int_col       4009 non-null   object\n",
            " 9   accident      3896 non-null   object\n",
            " 10  clean_title   3413 non-null   object\n",
            " 11  price         4009 non-null   int64 \n",
            "dtypes: int64(3), object(9)\n",
            "memory usage: 376.0+ KB\n"
          ]
        }
      ]
    },
    {
      "cell_type": "markdown",
      "source": [
        "# **3. Exploratory Data Analysis**"
      ],
      "metadata": {
        "id": "aOUpq8T9Z580"
      }
    },
    {
      "cell_type": "markdown",
      "source": [
        "## **3.1. Missing Values**"
      ],
      "metadata": {
        "id": "TZb_Tqb8aZe1"
      }
    },
    {
      "cell_type": "code",
      "source": [
        "# Plotting the percentage of missing values as a horizontal bar chart\n",
        "ax = (df.isnull().sum()/df.shape[0] * 100).plot(kind = \"barh\")\n",
        "\n",
        "# Adding labels to the bars to show the percentage of missing values, formatted to two decimal places\n",
        "for container in ax.containers:\n",
        "    ax.bar_label(container, fmt='%.2f%%')\n",
        "\n",
        "# Setting the x-axis limit to display percentages from 0 to 15\n",
        "plt.xlim((0, 15))\n",
        "\n",
        "# Labeling the y-axis as \"Attributes\"\n",
        "plt.ylabel(\"Attributes\")\n",
        "\n",
        "# Labeling the x-axis as \"Missing values %\"\n",
        "plt.xlabel(\"Missing values %\")\n",
        "\n",
        "# Adding a title to the plot: \"Missing values\"\n",
        "plt.title(\"Missing values\")\n",
        "plt.show()"
      ],
      "metadata": {
        "colab": {
          "base_uri": "https://localhost:8080/",
          "height": 472
        },
        "id": "GD0suT2waruR",
        "outputId": "a8b653a4-f969-436e-9a7a-0fcc3a925685"
      },
      "execution_count": 10,
      "outputs": [
        {
          "output_type": "display_data",
          "data": {
            "text/plain": [
              "<Figure size 640x480 with 1 Axes>"
            ],
            "image/png": "[encoded data removed]"
          },
          "metadata": {}
        }
      ]
    },
    {
      "cell_type": "markdown",
      "source": [
        "**Conclusion**\n",
        "\n",
        "Only 3 attributes have missing values.\n",
        "\n",
        "*   clean_title: 4.87%\n",
        "*   accident: 2.82%\n",
        "*   fuel_type: 4.24%\n",
        "\n",
        "\n"
      ],
      "metadata": {
        "id": "p6jXnGqaa-Mu"
      }
    },
    {
      "cell_type": "code",
      "source": [
        "# fuel_type attribute investigation\n",
        "ax = df[\"fuel_type\"].value_counts(dropna = False).plot(kind = \"barh\")\n",
        "for container in ax.containers:\n",
        "    ax.bar_label(container)\n",
        "plt.title(\"Missing Values: fuel_type\");"
      ],
      "metadata": {
        "colab": {
          "base_uri": "https://localhost:8080/",
          "height": 452
        },
        "id": "DGS2h8FhcGNu",
        "outputId": "fb716655-5c75-406d-d629-21055b93786b"
      },
      "execution_count": 11,
      "outputs": [
        {
          "output_type": "display_data",
          "data": {
            "text/plain": [
              "<Figure size 640x480 with 1 Axes>"
            ],
            "image/png": "[encoded data removed]"
          },
          "metadata": {}
        }
      ]
    },
    {
      "cell_type": "code",
      "source": [
        "df[\"fuel_type\"].unique()"
      ],
      "metadata": {
        "colab": {
          "base_uri": "https://localhost:8080/"
        },
        "id": "LZA42xlFct8H",
        "outputId": "c9b88bfe-2fca-4635-fc9d-eee9fc326289"
      },
      "execution_count": 12,
      "outputs": [
        {
          "output_type": "execute_result",
          "data": {
            "text/plain": [
              "array(['E85 Flex Fuel', 'Gasoline', 'Hybrid', nan, 'Diesel',\n",
              "       'Plug-In Hybrid', '–', 'not supported'], dtype=object)"
            ]
          },
          "metadata": {},
          "execution_count": 12
        }
      ]
    },
    {
      "cell_type": "code",
      "source": [
        "df[(df[\"fuel_type\"].isna()) | (df[\"fuel_type\"] == \"not supported\") | (df[\"fuel_type\"] == \"–\")].to_csv(\"to_process.csv\")"
      ],
      "metadata": {
        "id": "3ghoVWNMc4r8"
      },
      "execution_count": 13,
      "outputs": []
    },
    {
      "cell_type": "markdown",
      "source": [
        "**Conclusion**\n",
        "\n",
        "Manually processed the missing fuel type with the data of engine details. Few of the records are still having missing and unwanted values. Dropping those records due to lack of more information."
      ],
      "metadata": {
        "id": "dKA9j-ANdY8u"
      }
    },
    {
      "cell_type": "code",
      "source": [
        "# Load the dataset and set 'Unnamed: 0' as the index\n",
        "processed_fuel_type_df = pd.read_csv(\"./to_process.csv\", index_col=\"Unnamed: 0\")\n",
        "\n",
        "# Display the first few rows to confirm the change\n",
        "processed_fuel_type_df.head()"
      ],
      "metadata": {
        "colab": {
          "base_uri": "https://localhost:8080/",
          "height": 553
        },
        "id": "SHl3JCmZkKVg",
        "outputId": "e80ace85-e161-40da-d8e8-c1ae82f49b81"
      },
      "execution_count": 14,
      "outputs": [
        {
          "output_type": "execute_result",
          "data": {
            "text/plain": [
              "      brand                    model  model_year  milage fuel_type  \\\n",
              "9     Tesla  Model X Long Range Plus        2020   34000       NaN   \n",
              "44    Lucid        Air Grand Touring        2022    3552       NaN   \n",
              "68    Lucid        Air Grand Touring        2022    4900       NaN   \n",
              "92   Rivian    R1S Adventure Package        2023    2800       NaN   \n",
              "122  Rivian    R1S Adventure Package        2023    2500       NaN   \n",
              "\n",
              "                                          engine transmission ext_col int_col  \\\n",
              "9    534.0HP Electric Motor Electric Fuel System          A/T   Black   Black   \n",
              "44   536.0HP Electric Motor Electric Fuel System  1-Speed A/T     Red   Beige   \n",
              "68   536.0HP Electric Motor Electric Fuel System  1-Speed A/T     Red   Black   \n",
              "92   835.0HP Electric Motor Electric Fuel System  1-Speed A/T   White   Green   \n",
              "122  835.0HP Electric Motor Electric Fuel System          A/T   Green   White   \n",
              "\n",
              "          accident clean_title   price  \n",
              "9    None reported         Yes   69950  \n",
              "44   None reported         Yes  119999  \n",
              "68   None reported         Yes   99000  \n",
              "92   None reported         Yes   92000  \n",
              "122  None reported         Yes   94000  "
            ],
            "text/html": [
              "\n",
              "  <div id=\"df-c3570f6a-15c7-439f-bfe0-902394ea75d2\" class=\"colab-df-container\">\n",
              "    <div>\n",
              "<style scoped>\n",
              "    .dataframe tbody tr th:only-of-type {\n",
              "        vertical-align: middle;\n",
              "    }\n",
              "\n",
              "    .dataframe tbody tr th {\n",
              "        vertical-align: top;\n",
              "    }\n",
              "\n",
              "    .dataframe thead th {\n",
              "        text-align: right;\n",
              "    }\n",
              "</style>\n",
              "<table border=\"1\" class=\"dataframe\">\n",
              "  <thead>\n",
              "    <tr style=\"text-align: right;\">\n",
              "      <th></th>\n",
              "      <th>brand</th>\n",
              "      <th>model</th>\n",
              "      <th>model_year</th>\n",
              "      <th>milage</th>\n",
              "      <th>fuel_type</th>\n",
              "      <th>engine</th>\n",
              "      <th>transmission</th>\n",
              "      <th>ext_col</th>\n",
              "      <th>int_col</th>\n",
              "      <th>accident</th>\n",
              "      <th>clean_title</th>\n",
              "      <th>price</th>\n",
              "    </tr>\n",
              "  </thead>\n",
              "  <tbody>\n",
              "    <tr>\n",
              "      <th>9</th>\n",
              "      <td>Tesla</td>\n",
              "      <td>Model X Long Range Plus</td>\n",
              "      <td>2020</td>\n",
              "      <td>34000</td>\n",
              "      <td>NaN</td>\n",
              "      <td>534.0HP Electric Motor Electric Fuel System</td>\n",
              "      <td>A/T</td>\n",
              "      <td>Black</td>\n",
              "      <td>Black</td>\n",
              "      <td>None reported</td>\n",
              "      <td>Yes</td>\n",
              "      <td>69950</td>\n",
              "    </tr>\n",
              "    <tr>\n",
              "      <th>44</th>\n",
              "      <td>Lucid</td>\n",
              "      <td>Air Grand Touring</td>\n",
              "      <td>2022</td>\n",
              "      <td>3552</td>\n",
              "      <td>NaN</td>\n",
              "      <td>536.0HP Electric Motor Electric Fuel System</td>\n",
              "      <td>1-Speed A/T</td>\n",
              "      <td>Red</td>\n",
              "      <td>Beige</td>\n",
              "      <td>None reported</td>\n",
              "      <td>Yes</td>\n",
              "      <td>119999</td>\n",
              "    </tr>\n",
              "    <tr>\n",
              "      <th>68</th>\n",
              "      <td>Lucid</td>\n",
              "      <td>Air Grand Touring</td>\n",
              "      <td>2022</td>\n",
              "      <td>4900</td>\n",
              "      <td>NaN</td>\n",
              "      <td>536.0HP Electric Motor Electric Fuel System</td>\n",
              "      <td>1-Speed A/T</td>\n",
              "      <td>Red</td>\n",
              "      <td>Black</td>\n",
              "      <td>None reported</td>\n",
              "      <td>Yes</td>\n",
              "      <td>99000</td>\n",
              "    </tr>\n",
              "    <tr>\n",
              "      <th>92</th>\n",
              "      <td>Rivian</td>\n",
              "      <td>R1S Adventure Package</td>\n",
              "      <td>2023</td>\n",
              "      <td>2800</td>\n",
              "      <td>NaN</td>\n",
              "      <td>835.0HP Electric Motor Electric Fuel System</td>\n",
              "      <td>1-Speed A/T</td>\n",
              "      <td>White</td>\n",
              "      <td>Green</td>\n",
              "      <td>None reported</td>\n",
              "      <td>Yes</td>\n",
              "      <td>92000</td>\n",
              "    </tr>\n",
              "    <tr>\n",
              "      <th>122</th>\n",
              "      <td>Rivian</td>\n",
              "      <td>R1S Adventure Package</td>\n",
              "      <td>2023</td>\n",
              "      <td>2500</td>\n",
              "      <td>NaN</td>\n",
              "      <td>835.0HP Electric Motor Electric Fuel System</td>\n",
              "      <td>A/T</td>\n",
              "      <td>Green</td>\n",
              "      <td>White</td>\n",
              "      <td>None reported</td>\n",
              "      <td>Yes</td>\n",
              "      <td>94000</td>\n",
              "    </tr>\n",
              "  </tbody>\n",
              "</table>\n",
              "</div>\n",
              "    <div class=\"colab-df-buttons\">\n",
              "\n",
              "  <div class=\"colab-df-container\">\n",
              "    <button class=\"colab-df-convert\" onclick=\"convertToInteractive('df-c3570f6a-15c7-439f-bfe0-902394ea75d2')\"\n",
              "            title=\"Convert this dataframe to an interactive table.\"\n",
              "            style=\"display:none;\">\n",
              "\n",
              "  <svg xmlns=\"http://www.w3.org/2000/svg\" height=\"24px\" viewBox=\"0 -960 960 960\">\n",
              "    <path d=\"M120-120v-720h720v720H120Zm60-500h600v-160H180v160Zm220 220h160v-160H400v160Zm0 220h160v-160H400v160ZM180-400h160v-160H180v160Zm440 0h160v-160H620v160ZM180-180h160v-160H180v160Zm440 0h160v-160H620v160Z\"/>\n",
              "  </svg>\n",
              "    </button>\n",
              "\n",
              "  <style>\n",
              "    .colab-df-container {\n",
              "      display:flex;\n",
              "      gap: 12px;\n",
              "    }\n",
              "\n",
              "    .colab-df-convert {\n",
              "      background-color: #E8F0FE;\n",
              "      border: none;\n",
              "      border-radius: 50%;\n",
              "      cursor: pointer;\n",
              "      display: none;\n",
              "      fill: #1967D2;\n",
              "      height: 32px;\n",
              "      padding: 0 0 0 0;\n",
              "      width: 32px;\n",
              "    }\n",
              "\n",
              "    .colab-df-convert:hover {\n",
              "      background-color: #E2EBFA;\n",
              "      box-shadow: 0px 1px 2px rgba(60, 64, 67, 0.3), 0px 1px 3px 1px rgba(60, 64, 67, 0.15);\n",
              "      fill: #174EA6;\n",
              "    }\n",
              "\n",
              "    .colab-df-buttons div {\n",
              "      margin-bottom: 4px;\n",
              "    }\n",
              "\n",
              "    [theme=dark] .colab-df-convert {\n",
              "      background-color: #3B4455;\n",
              "      fill: #D2E3FC;\n",
              "    }\n",
              "\n",
              "    [theme=dark] .colab-df-convert:hover {\n",
              "      background-color: #434B5C;\n",
              "      box-shadow: 0px 1px 3px 1px rgba(0, 0, 0, 0.15);\n",
              "      filter: drop-shadow(0px 1px 2px rgba(0, 0, 0, 0.3));\n",
              "      fill: #FFFFFF;\n",
              "    }\n",
              "  </style>\n",
              "\n",
              "    <script>\n",
              "      const buttonEl =\n",
              "        document.querySelector('#df-c3570f6a-15c7-439f-bfe0-902394ea75d2 button.colab-df-convert');\n",
              "      buttonEl.style.display =\n",
              "        google.colab.kernel.accessAllowed ? 'block' : 'none';\n",
              "\n",
              "      async function convertToInteractive(key) {\n",
              "        const element = document.querySelector('#df-c3570f6a-15c7-439f-bfe0-902394ea75d2');\n",
              "        const dataTable =\n",
              "          await google.colab.kernel.invokeFunction('convertToInteractive',\n",
              "                                                    [key], {});\n",
              "        if (!dataTable) return;\n",
              "\n",
              "        const docLinkHtml = 'Like what you see? Visit the ' +\n",
              "          '<a target=\"_blank\" href=https://colab.research.google.com/notebooks/data_table.ipynb>data table notebook</a>'\n",
              "          + ' to learn more about interactive tables.';\n",
              "        element.innerHTML = '';\n",
              "        dataTable['output_type'] = 'display_data';\n",
              "        await google.colab.output.renderOutput(dataTable, element);\n",
              "        const docLink = document.createElement('div');\n",
              "        docLink.innerHTML = docLinkHtml;\n",
              "        element.appendChild(docLink);\n",
              "      }\n",
              "    </script>\n",
              "  </div>\n",
              "\n",
              "\n",
              "<div id=\"df-704b57a1-d4f9-4572-8ac9-25f01a8f5773\">\n",
              "  <button class=\"colab-df-quickchart\" onclick=\"quickchart('df-704b57a1-d4f9-4572-8ac9-25f01a8f5773')\"\n",
              "            title=\"Suggest charts\"\n",
              "            style=\"display:none;\">\n",
              "\n",
              "<svg xmlns=\"http://www.w3.org/2000/svg\" height=\"24px\"viewBox=\"0 0 24 24\"\n",
              "     width=\"24px\">\n",
              "    <g>\n",
              "        <path d=\"M19 3H5c-1.1 0-2 .9-2 2v14c0 1.1.9 2 2 2h14c1.1 0 2-.9 2-2V5c0-1.1-.9-2-2-2zM9 17H7v-7h2v7zm4 0h-2V7h2v10zm4 0h-2v-4h2v4z\"/>\n",
              "    </g>\n",
              "</svg>\n",
              "  </button>\n",
              "\n",
              "<style>\n",
              "  .colab-df-quickchart {\n",
              "      --bg-color: #E8F0FE;\n",
              "      --fill-color: #1967D2;\n",
              "      --hover-bg-color: #E2EBFA;\n",
              "      --hover-fill-color: #174EA6;\n",
              "      --disabled-fill-color: #AAA;\n",
              "      --disabled-bg-color: #DDD;\n",
              "  }\n",
              "\n",
              "  [theme=dark] .colab-df-quickchart {\n",
              "      --bg-color: #3B4455;\n",
              "      --fill-color: #D2E3FC;\n",
              "      --hover-bg-color: #434B5C;\n",
              "      --hover-fill-color: #FFFFFF;\n",
              "      --disabled-bg-color: #3B4455;\n",
              "      --disabled-fill-color: #666;\n",
              "  }\n",
              "\n",
              "  .colab-df-quickchart {\n",
              "    background-color: var(--bg-color);\n",
              "    border: none;\n",
              "    border-radius: 50%;\n",
              "    cursor: pointer;\n",
              "    display: none;\n",
              "    fill: var(--fill-color);\n",
              "    height: 32px;\n",
              "    padding: 0;\n",
              "    width: 32px;\n",
              "  }\n",
              "\n",
              "  .colab-df-quickchart:hover {\n",
              "    background-color: var(--hover-bg-color);\n",
              "    box-shadow: 0 1px 2px rgba(60, 64, 67, 0.3), 0 1px 3px 1px rgba(60, 64, 67, 0.15);\n",
              "    fill: var(--button-hover-fill-color);\n",
              "  }\n",
              "\n",
              "  .colab-df-quickchart-complete:disabled,\n",
              "  .colab-df-quickchart-complete:disabled:hover {\n",
              "    background-color: var(--disabled-bg-color);\n",
              "    fill: var(--disabled-fill-color);\n",
              "    box-shadow: none;\n",
              "  }\n",
              "\n",
              "  .colab-df-spinner {\n",
              "    border: 2px solid var(--fill-color);\n",
              "    border-color: transparent;\n",
              "    border-bottom-color: var(--fill-color);\n",
              "    animation:\n",
              "      spin 1s steps(1) infinite;\n",
              "  }\n",
              "\n",
              "  @keyframes spin {\n",
              "    0% {\n",
              "      border-color: transparent;\n",
              "      border-bottom-color: var(--fill-color);\n",
              "      border-left-color: var(--fill-color);\n",
              "    }\n",
              "    20% {\n",
              "      border-color: transparent;\n",
              "      border-left-color: var(--fill-color);\n",
              "      border-top-color: var(--fill-color);\n",
              "    }\n",
              "    30% {\n",
              "      border-color: transparent;\n",
              "      border-left-color: var(--fill-color);\n",
              "      border-top-color: var(--fill-color);\n",
              "      border-right-color: var(--fill-color);\n",
              "    }\n",
              "    40% {\n",
              "      border-color: transparent;\n",
              "      border-right-color: var(--fill-color);\n",
              "      border-top-color: var(--fill-color);\n",
              "    }\n",
              "    60% {\n",
              "      border-color: transparent;\n",
              "      border-right-color: var(--fill-color);\n",
              "    }\n",
              "    80% {\n",
              "      border-color: transparent;\n",
              "      border-right-color: var(--fill-color);\n",
              "      border-bottom-color: var(--fill-color);\n",
              "    }\n",
              "    90% {\n",
              "      border-color: transparent;\n",
              "      border-bottom-color: var(--fill-color);\n",
              "    }\n",
              "  }\n",
              "</style>\n",
              "\n",
              "  <script>\n",
              "    async function quickchart(key) {\n",
              "      const quickchartButtonEl =\n",
              "        document.querySelector('#' + key + ' button');\n",
              "      quickchartButtonEl.disabled = true;  // To prevent multiple clicks.\n",
              "      quickchartButtonEl.classList.add('colab-df-spinner');\n",
              "      try {\n",
              "        const charts = await google.colab.kernel.invokeFunction(\n",
              "            'suggestCharts', [key], {});\n",
              "      } catch (error) {\n",
              "        console.error('Error during call to suggestCharts:', error);\n",
              "      }\n",
              "      quickchartButtonEl.classList.remove('colab-df-spinner');\n",
              "      quickchartButtonEl.classList.add('colab-df-quickchart-complete');\n",
              "    }\n",
              "    (() => {\n",
              "      let quickchartButtonEl =\n",
              "        document.querySelector('#df-704b57a1-d4f9-4572-8ac9-25f01a8f5773 button');\n",
              "      quickchartButtonEl.style.display =\n",
              "        google.colab.kernel.accessAllowed ? 'block' : 'none';\n",
              "    })();\n",
              "  </script>\n",
              "</div>\n",
              "\n",
              "    </div>\n",
              "  </div>\n"
            ],
            "application/vnd.google.colaboratory.intrinsic+json": {
              "type": "dataframe",
              "variable_name": "processed_fuel_type_df",
              "summary": "{\n  \"name\": \"processed_fuel_type_df\",\n  \"rows\": 217,\n  \"fields\": [\n    {\n      \"column\": \"brand\",\n      \"properties\": {\n        \"dtype\": \"category\",\n        \"num_unique_values\": 29,\n        \"samples\": [\n          \"Jeep\",\n          \"Dodge\",\n          \"Nissan\"\n        ],\n        \"semantic_type\": \"\",\n        \"description\": \"\"\n      }\n    },\n    {\n      \"column\": \"model\",\n      \"properties\": {\n        \"dtype\": \"string\",\n        \"num_unique_values\": 112,\n        \"samples\": [\n          \"Model X P90D\",\n          \"240SX Base\",\n          \"Pacifica Touring\"\n        ],\n        \"semantic_type\": \"\",\n        \"description\": \"\"\n      }\n    },\n    {\n      \"column\": \"model_year\",\n      \"properties\": {\n        \"dtype\": \"number\",\n        \"std\": 9,\n        \"min\": 1974,\n        \"max\": 2023,\n        \"num_unique_values\": 22,\n        \"samples\": [\n          2020,\n          2013,\n          2018\n        ],\n        \"semantic_type\": \"\",\n        \"description\": \"\"\n      }\n    },\n    {\n      \"column\": \"milage\",\n      \"properties\": {\n        \"dtype\": \"number\",\n        \"std\": 44909,\n        \"min\": 159,\n        \"max\": 233000,\n        \"num_unique_values\": 205,\n        \"samples\": [\n          7624,\n          8200,\n          18000\n        ],\n        \"semantic_type\": \"\",\n        \"description\": \"\"\n      }\n    },\n    {\n      \"column\": \"fuel_type\",\n      \"properties\": {\n        \"dtype\": \"category\",\n        \"num_unique_values\": 2,\n        \"samples\": [\n          \"not supported\",\n          \"\\u2013\"\n        ],\n        \"semantic_type\": \"\",\n        \"description\": \"\"\n      }\n    },\n    {\n      \"column\": \"engine\",\n      \"properties\": {\n        \"dtype\": \"category\",\n        \"num_unique_values\": 52,\n        \"samples\": [\n          \"290.0HP Electric Motor Electric Fuel System\",\n          \"416.0HP Electric Motor Electric Fuel System\"\n        ],\n        \"semantic_type\": \"\",\n        \"description\": \"\"\n      }\n    },\n    {\n      \"column\": \"transmission\",\n      \"properties\": {\n        \"dtype\": \"category\",\n        \"num_unique_values\": 15,\n        \"samples\": [\n          \"4-Speed A/T\",\n          \"2-Speed Automatic\"\n        ],\n        \"semantic_type\": \"\",\n        \"description\": \"\"\n      }\n    },\n    {\n      \"column\": \"ext_col\",\n      \"properties\": {\n        \"dtype\": \"category\",\n        \"num_unique_values\": 26,\n        \"samples\": [\n          \"Rapid Red Metallic Tinted Clearcoat\",\n          \"BLACK\"\n        ],\n        \"semantic_type\": \"\",\n        \"description\": \"\"\n      }\n    },\n    {\n      \"column\": \"int_col\",\n      \"properties\": {\n        \"dtype\": \"category\",\n        \"num_unique_values\": 19,\n        \"samples\": [\n          \"Black\",\n          \"Charcoal\"\n        ],\n        \"semantic_type\": \"\",\n        \"description\": \"\"\n      }\n    },\n    {\n      \"column\": \"accident\",\n      \"properties\": {\n        \"dtype\": \"category\",\n        \"num_unique_values\": 2,\n        \"samples\": [\n          \"At least 1 accident or damage reported\",\n          \"None reported\"\n        ],\n        \"semantic_type\": \"\",\n        \"description\": \"\"\n      }\n    },\n    {\n      \"column\": \"clean_title\",\n      \"properties\": {\n        \"dtype\": \"category\",\n        \"num_unique_values\": 1,\n        \"samples\": [\n          \"Yes\"\n        ],\n        \"semantic_type\": \"\",\n        \"description\": \"\"\n      }\n    },\n    {\n      \"column\": \"price\",\n      \"properties\": {\n        \"dtype\": \"number\",\n        \"std\": 47446,\n        \"min\": 2500,\n        \"max\": 599995,\n        \"num_unique_values\": 178,\n        \"samples\": [\n          95000\n        ],\n        \"semantic_type\": \"\",\n        \"description\": \"\"\n      }\n    }\n  ]\n}"
            }
          },
          "metadata": {},
          "execution_count": 14
        }
      ]
    },
    {
      "cell_type": "code",
      "source": [
        "for index,row in processed_fuel_type_df.iterrows():\n",
        "    df.iloc[index, df.columns.get_loc('fuel_type')] = row[\"fuel_type\"]"
      ],
      "metadata": {
        "id": "OCpp4Y17mlRQ"
      },
      "execution_count": 15,
      "outputs": []
    },
    {
      "cell_type": "code",
      "source": [
        "ax = df[\"fuel_type\"].value_counts(dropna = False).plot(kind = \"barh\")\n",
        "for container in ax.containers:\n",
        "    ax.bar_label(container)\n",
        "plt.title(\"Missing Values: fuel_type\");"
      ],
      "metadata": {
        "colab": {
          "base_uri": "https://localhost:8080/",
          "height": 452
        },
        "id": "iW0pyZdNmq2d",
        "outputId": "73f3320b-09b1-4a78-ae15-a04e02a9b146"
      },
      "execution_count": 16,
      "outputs": [
        {
          "output_type": "display_data",
          "data": {
            "text/plain": [
              "<Figure size 640x480 with 1 Axes>"
            ],
            "image/png": "[encoded data removed]"
          },
          "metadata": {}
        }
      ]
    },
    {
      "cell_type": "markdown",
      "source": [
        "Dropping improper rows based fuel_type attribute"
      ],
      "metadata": {
        "id": "2QiPWdGfm2GM"
      }
    },
    {
      "cell_type": "code",
      "source": [
        "df = df[(~df[\"fuel_type\"].isna()) & (df[\"fuel_type\"] != \"–\")]\n",
        "df[\"fuel_type\"].unique()"
      ],
      "metadata": {
        "colab": {
          "base_uri": "https://localhost:8080/"
        },
        "id": "hIOVGS7Mm3Rv",
        "outputId": "3cb6575f-b7a3-435f-b5d0-48130d138fe9"
      },
      "execution_count": 17,
      "outputs": [
        {
          "output_type": "execute_result",
          "data": {
            "text/plain": [
              "array(['E85 Flex Fuel', 'Gasoline', 'Hybrid', 'Diesel', 'Plug-In Hybrid',\n",
              "       'not supported'], dtype=object)"
            ]
          },
          "metadata": {},
          "execution_count": 17
        }
      ]
    },
    {
      "cell_type": "code",
      "source": [
        "df[\"clean_title\"].value_counts(dropna = False).plot(kind = \"barh\")\n",
        "plt.title(\"Missing Values: clean_title\");"
      ],
      "metadata": {
        "colab": {
          "base_uri": "https://localhost:8080/",
          "height": 452
        },
        "id": "ao1-uZE_nC9y",
        "outputId": "187aca0b-1c8a-4267-df9d-baa93819ec91"
      },
      "execution_count": 18,
      "outputs": [
        {
          "output_type": "display_data",
          "data": {
            "text/plain": [
              "<Figure size 640x480 with 1 Axes>"
            ],
            "image/png": "[encoded data removed]"
          },
          "metadata": {}
        }
      ]
    },
    {
      "cell_type": "markdown",
      "source": [
        " **Conclusion**\n",
        "\n",
        "Since we have Yes and null values, let's consider the null values as No"
      ],
      "metadata": {
        "id": "SrTfTWAgnYWt"
      }
    },
    {
      "cell_type": "markdown",
      "source": [
        "Replacing null values with No"
      ],
      "metadata": {
        "id": "5ocF_10nnfLK"
      }
    },
    {
      "cell_type": "code",
      "source": [
        "df[\"clean_title\"] = df[\"clean_title\"].fillna(\"No\")"
      ],
      "metadata": {
        "id": "krO-XEWKng8O"
      },
      "execution_count": 19,
      "outputs": []
    },
    {
      "cell_type": "code",
      "source": [
        "df[\"accident\"].value_counts(dropna = False).plot(kind = \"barh\")\n",
        "plt.title(\"Missing Values: accident\");"
      ],
      "metadata": {
        "colab": {
          "base_uri": "https://localhost:8080/",
          "height": 452
        },
        "id": "oEDH9fuunolB",
        "outputId": "9be61b34-3688-4778-c648-56f11a485ad9"
      },
      "execution_count": 20,
      "outputs": [
        {
          "output_type": "display_data",
          "data": {
            "text/plain": [
              "<Figure size 640x480 with 1 Axes>"
            ],
            "image/png": "[encoded data removed]"
          },
          "metadata": {}
        }
      ]
    },
    {
      "cell_type": "markdown",
      "source": [
        "**Conclusion**\n",
        "\n",
        "Since we only have few unique values, one of them being null, considering null values as 'No data'"
      ],
      "metadata": {
        "id": "CwY5CWLCoHZs"
      }
    },
    {
      "cell_type": "code",
      "source": [
        "df[\"accident\"] = df[\"accident\"].fillna(\"No data\")"
      ],
      "metadata": {
        "id": "SPSnMqmAoI7M"
      },
      "execution_count": 21,
      "outputs": []
    },
    {
      "cell_type": "markdown",
      "source": [
        "**Resolving discrepencies in attributes¶**\n",
        "\n",
        "Checking for discrepencies in other attritues"
      ],
      "metadata": {
        "id": "3e2Oc2o4oknl"
      }
    },
    {
      "cell_type": "code",
      "source": [
        "df[\"brand\"].unique()"
      ],
      "metadata": {
        "colab": {
          "base_uri": "https://localhost:8080/"
        },
        "id": "equaPkEKoT7e",
        "outputId": "3969d7c7-9296-46ce-bc27-dafe4fa82a4c"
      },
      "execution_count": 22,
      "outputs": [
        {
          "output_type": "execute_result",
          "data": {
            "text/plain": [
              "array(['Ford', 'Hyundai', 'Lexus', 'INFINITI', 'Audi', 'Acura', 'BMW',\n",
              "       'Land', 'Aston', 'Toyota', 'Lincoln', 'Jaguar', 'Mercedes-Benz',\n",
              "       'Dodge', 'Nissan', 'Genesis', 'Chevrolet', 'Kia', 'Jeep',\n",
              "       'Bentley', 'Honda', 'MINI', 'Porsche', 'Hummer', 'Chrysler',\n",
              "       'Volvo', 'Cadillac', 'Lamborghini', 'Maserati', 'Volkswagen',\n",
              "       'Subaru', 'GMC', 'RAM', 'Alfa', 'Ferrari', 'Scion', 'Mitsubishi',\n",
              "       'Mazda', 'Saturn', 'Bugatti', 'Rolls-Royce', 'McLaren', 'Buick',\n",
              "       'Lotus', 'Pontiac', 'FIAT', 'Saab', 'Mercury', 'Plymouth', 'smart',\n",
              "       'Maybach', 'Suzuki'], dtype=object)"
            ]
          },
          "metadata": {},
          "execution_count": 22
        }
      ]
    },
    {
      "cell_type": "markdown",
      "source": [
        "**Conclusion**\n",
        "\n",
        "No discrepencies found"
      ],
      "metadata": {
        "id": "Du1ezW6KotuG"
      }
    },
    {
      "cell_type": "markdown",
      "source": [
        "**model attribute**"
      ],
      "metadata": {
        "id": "nlYZtZAKpjAI"
      }
    },
    {
      "cell_type": "code",
      "source": [
        "df[df[\"model\"]== \"–\"].shape"
      ],
      "metadata": {
        "colab": {
          "base_uri": "https://localhost:8080/"
        },
        "id": "febsxRUhpkg5",
        "outputId": "b98f54c4-4261-4fa4-c6ef-b6defa1efa73"
      },
      "execution_count": 23,
      "outputs": [
        {
          "output_type": "execute_result",
          "data": {
            "text/plain": [
              "(0, 12)"
            ]
          },
          "metadata": {},
          "execution_count": 23
        }
      ]
    },
    {
      "cell_type": "markdown",
      "source": [
        "**Conclusion**\n",
        "\n",
        "No discrepencies found"
      ],
      "metadata": {
        "id": "UuuOsPVgpqF7"
      }
    },
    {
      "cell_type": "markdown",
      "source": [
        "**model_year attribute**"
      ],
      "metadata": {
        "id": "rBPx0ZLWpu08"
      }
    },
    {
      "cell_type": "code",
      "source": [
        "df[\"model_year\"].value_counts().plot(kind= \"bar\")"
      ],
      "metadata": {
        "colab": {
          "base_uri": "https://localhost:8080/",
          "height": 489
        },
        "id": "QPBAGSRkprd0",
        "outputId": "a6f957bf-16a7-4aa4-d34d-ae384214c57b"
      },
      "execution_count": 24,
      "outputs": [
        {
          "output_type": "execute_result",
          "data": {
            "text/plain": [
              "<Axes: xlabel='model_year'>"
            ]
          },
          "metadata": {},
          "execution_count": 24
        },
        {
          "output_type": "display_data",
          "data": {
            "text/plain": [
              "<Figure size 640x480 with 1 Axes>"
            ],
            "image/png": "[encoded data removed]"
          },
          "metadata": {}
        }
      ]
    },
    {
      "cell_type": "markdown",
      "source": [
        "**Conclusion**\n",
        "\n",
        "No discrepencies found"
      ],
      "metadata": {
        "id": "5WtzQhoMp4JN"
      }
    },
    {
      "cell_type": "markdown",
      "source": [
        "**milage aatribute**"
      ],
      "metadata": {
        "id": "otm2x1PBp6UY"
      }
    },
    {
      "cell_type": "code",
      "source": [
        "df[\"milage\"].plot(kind= \"hist\")\n"
      ],
      "metadata": {
        "colab": {
          "base_uri": "https://localhost:8080/",
          "height": 448
        },
        "id": "A3L3cIr0p-QC",
        "outputId": "35ba55cf-7796-4f69-e09a-425637b5bc78"
      },
      "execution_count": 25,
      "outputs": [
        {
          "output_type": "execute_result",
          "data": {
            "text/plain": [
              "<Axes: ylabel='Frequency'>"
            ]
          },
          "metadata": {},
          "execution_count": 25
        },
        {
          "output_type": "display_data",
          "data": {
            "text/plain": [
              "<Figure size 640x480 with 1 Axes>"
            ],
            "image/png": "[encoded data removed]"
          },
          "metadata": {}
        }
      ]
    },
    {
      "cell_type": "markdown",
      "source": [
        "**Conclusion**\n",
        "\n",
        "No discrepencies found"
      ],
      "metadata": {
        "id": "9tLL96toqFvq"
      }
    },
    {
      "cell_type": "markdown",
      "source": [
        "**engine attribute**"
      ],
      "metadata": {
        "id": "GZvRtmDEqK41"
      }
    },
    {
      "cell_type": "code",
      "source": [
        "df[\"engine\"].unique()"
      ],
      "metadata": {
        "colab": {
          "base_uri": "https://localhost:8080/"
        },
        "id": "5mKLgkAsqHYA",
        "outputId": "d1fe11a4-9dfe-4270-83dc-67bf9128cd67"
      },
      "execution_count": 26,
      "outputs": [
        {
          "output_type": "execute_result",
          "data": {
            "text/plain": [
              "array(['300.0HP 3.7L V6 Cylinder Engine Flex Fuel Capability',\n",
              "       '3.8L V6 24V GDI DOHC', '3.5 Liter DOHC', ...,\n",
              "       '136.0HP 1.8L 4 Cylinder Engine Gasoline Fuel',\n",
              "       '270.0HP 2.0L 4 Cylinder Engine Gasoline Fuel',\n",
              "       '420.0HP 5.9L 12 Cylinder Engine Gasoline Fuel'], dtype=object)"
            ]
          },
          "metadata": {},
          "execution_count": 26
        }
      ]
    },
    {
      "cell_type": "code",
      "source": [
        "df[df[\"engine\"]== \"–\"].shape"
      ],
      "metadata": {
        "colab": {
          "base_uri": "https://localhost:8080/"
        },
        "id": "6Stt1WvpqU7u",
        "outputId": "2084debb-559b-4489-a47c-a56620a159c7"
      },
      "execution_count": 27,
      "outputs": [
        {
          "output_type": "execute_result",
          "data": {
            "text/plain": [
              "(0, 12)"
            ]
          },
          "metadata": {},
          "execution_count": 27
        }
      ]
    },
    {
      "cell_type": "markdown",
      "source": [
        "**Conclusion**\n",
        "\n",
        "engine attribute contains '–' value. Droppig the rows containing this value"
      ],
      "metadata": {
        "id": "Q9kGERaNqYit"
      }
    },
    {
      "cell_type": "code",
      "source": [
        "df = df[~(df[\"engine\"]== \"–\")]"
      ],
      "metadata": {
        "id": "50wJ4fYQqcxq"
      },
      "execution_count": 28,
      "outputs": []
    },
    {
      "cell_type": "markdown",
      "source": [
        "**transmission attribute**"
      ],
      "metadata": {
        "id": "BmkJXyTGqiHc"
      }
    },
    {
      "cell_type": "code",
      "source": [
        "df[\"transmission\"].unique()"
      ],
      "metadata": {
        "colab": {
          "base_uri": "https://localhost:8080/"
        },
        "id": "HHOQukP6qjex",
        "outputId": "29418b36-5ed0-4791-e4a4-26af49a898c3"
      },
      "execution_count": 29,
      "outputs": [
        {
          "output_type": "execute_result",
          "data": {
            "text/plain": [
              "array(['6-Speed A/T', '8-Speed Automatic', 'Automatic', '7-Speed A/T',\n",
              "       'F', 'A/T', '8-Speed A/T', 'Transmission w/Dual Shift Mode',\n",
              "       '9-Speed Automatic', '6-Speed M/T', '10-Speed A/T', '9-Speed A/T',\n",
              "       '5-Speed A/T', 'Automatic CVT',\n",
              "       '7-Speed Automatic with Auto-Shift', 'CVT-F', 'M/T',\n",
              "       '6-Speed Automatic with Auto-Shift', '10-Speed Automatic',\n",
              "       'CVT Transmission', '4-Speed A/T', '6-Speed Automatic',\n",
              "       '4-Speed Automatic', '7-Speed M/T',\n",
              "       '8-Speed Automatic with Auto-Shift', '5-Speed Automatic',\n",
              "       '8-SPEED AT', '1-Speed Automatic', '5-Speed M/T', 'Manual',\n",
              "       '6-Speed Manual', 'Variable', '2', '7-Speed Manual',\n",
              "       'Automatic, 9-Spd 9G-Tronic', 'Automatic, 8-Spd',\n",
              "       'Automatic, 8-Spd Sport w/Sport & Manual Modes', '–',\n",
              "       'Auto, 6-Spd w/CmdShft', 'Transmission Overdrive Switch',\n",
              "       '7-Speed Automatic', 'Automatic, 8-Spd PDK Dual-Clutch',\n",
              "       'Automatic, 8-Spd M STEPTRONIC w/Drivelogic, Sport & Manual Modes',\n",
              "       'Automatic, 8-Spd Dual-Clutch', '6-Speed', 'Automatic, 10-Spd',\n",
              "       '7-Speed', 'Automatic, 7-Spd S tronic Dual-Clutch',\n",
              "       'Manual, 6-Spd',\n",
              "       '6-Speed Electronically Controlled Automatic with O',\n",
              "       '6 Speed At/Mt', '8-SPEED A/T',\n",
              "       '10-Speed Automatic with Overdrive', '7-Speed DCT Automatic',\n",
              "       '9-Speed Automatic with Auto-Shift',\n",
              "       'SCHEDULED FOR OR IN PRODUCTION', '6 Speed Mt', '8-Speed Manual'],\n",
              "      dtype=object)"
            ]
          },
          "metadata": {},
          "execution_count": 29
        }
      ]
    },
    {
      "cell_type": "code",
      "source": [
        "df[df[\"transmission\"]==\"SCHEDULED FOR OR IN PRODUCTION\"]"
      ],
      "metadata": {
        "colab": {
          "base_uri": "https://localhost:8080/",
          "height": 133
        },
        "id": "0-hLH9ooqqtU",
        "outputId": "f8eee0b1-6167-4f22-f6a9-829b9f22166c"
      },
      "execution_count": 30,
      "outputs": [
        {
          "output_type": "execute_result",
          "data": {
            "text/plain": [
              "     brand         model  model_year  milage fuel_type           engine  \\\n",
              "2620   BMW  X6 xDrive40i        2021   72903    Hybrid  3.0 Liter Turbo   \n",
              "\n",
              "                        transmission                  ext_col int_col  \\\n",
              "2620  SCHEDULED FOR OR IN PRODUCTION  Black Sapphire Metallic   Black   \n",
              "\n",
              "                                    accident clean_title  price  \n",
              "2620  At least 1 accident or damage reported          No  53998  "
            ],
            "text/html": [
              "\n",
              "  <div id=\"df-449fcce9-245d-43aa-9770-2b916ee321c7\" class=\"colab-df-container\">\n",
              "    <div>\n",
              "<style scoped>\n",
              "    .dataframe tbody tr th:only-of-type {\n",
              "        vertical-align: middle;\n",
              "    }\n",
              "\n",
              "    .dataframe tbody tr th {\n",
              "        vertical-align: top;\n",
              "    }\n",
              "\n",
              "    .dataframe thead th {\n",
              "        text-align: right;\n",
              "    }\n",
              "</style>\n",
              "<table border=\"1\" class=\"dataframe\">\n",
              "  <thead>\n",
              "    <tr style=\"text-align: right;\">\n",
              "      <th></th>\n",
              "      <th>brand</th>\n",
              "      <th>model</th>\n",
              "      <th>model_year</th>\n",
              "      <th>milage</th>\n",
              "      <th>fuel_type</th>\n",
              "      <th>engine</th>\n",
              "      <th>transmission</th>\n",
              "      <th>ext_col</th>\n",
              "      <th>int_col</th>\n",
              "      <th>accident</th>\n",
              "      <th>clean_title</th>\n",
              "      <th>price</th>\n",
              "    </tr>\n",
              "  </thead>\n",
              "  <tbody>\n",
              "    <tr>\n",
              "      <th>2620</th>\n",
              "      <td>BMW</td>\n",
              "      <td>X6 xDrive40i</td>\n",
              "      <td>2021</td>\n",
              "      <td>72903</td>\n",
              "      <td>Hybrid</td>\n",
              "      <td>3.0 Liter Turbo</td>\n",
              "      <td>SCHEDULED FOR OR IN PRODUCTION</td>\n",
              "      <td>Black Sapphire Metallic</td>\n",
              "      <td>Black</td>\n",
              "      <td>At least 1 accident or damage reported</td>\n",
              "      <td>No</td>\n",
              "      <td>53998</td>\n",
              "    </tr>\n",
              "  </tbody>\n",
              "</table>\n",
              "</div>\n",
              "    <div class=\"colab-df-buttons\">\n",
              "\n",
              "  <div class=\"colab-df-container\">\n",
              "    <button class=\"colab-df-convert\" onclick=\"convertToInteractive('df-449fcce9-245d-43aa-9770-2b916ee321c7')\"\n",
              "            title=\"Convert this dataframe to an interactive table.\"\n",
              "            style=\"display:none;\">\n",
              "\n",
              "  <svg xmlns=\"http://www.w3.org/2000/svg\" height=\"24px\" viewBox=\"0 -960 960 960\">\n",
              "    <path d=\"M120-120v-720h720v720H120Zm60-500h600v-160H180v160Zm220 220h160v-160H400v160Zm0 220h160v-160H400v160ZM180-400h160v-160H180v160Zm440 0h160v-160H620v160ZM180-180h160v-160H180v160Zm440 0h160v-160H620v160Z\"/>\n",
              "  </svg>\n",
              "    </button>\n",
              "\n",
              "  <style>\n",
              "    .colab-df-container {\n",
              "      display:flex;\n",
              "      gap: 12px;\n",
              "    }\n",
              "\n",
              "    .colab-df-convert {\n",
              "      background-color: #E8F0FE;\n",
              "      border: none;\n",
              "      border-radius: 50%;\n",
              "      cursor: pointer;\n",
              "      display: none;\n",
              "      fill: #1967D2;\n",
              "      height: 32px;\n",
              "      padding: 0 0 0 0;\n",
              "      width: 32px;\n",
              "    }\n",
              "\n",
              "    .colab-df-convert:hover {\n",
              "      background-color: #E2EBFA;\n",
              "      box-shadow: 0px 1px 2px rgba(60, 64, 67, 0.3), 0px 1px 3px 1px rgba(60, 64, 67, 0.15);\n",
              "      fill: #174EA6;\n",
              "    }\n",
              "\n",
              "    .colab-df-buttons div {\n",
              "      margin-bottom: 4px;\n",
              "    }\n",
              "\n",
              "    [theme=dark] .colab-df-convert {\n",
              "      background-color: #3B4455;\n",
              "      fill: #D2E3FC;\n",
              "    }\n",
              "\n",
              "    [theme=dark] .colab-df-convert:hover {\n",
              "      background-color: #434B5C;\n",
              "      box-shadow: 0px 1px 3px 1px rgba(0, 0, 0, 0.15);\n",
              "      filter: drop-shadow(0px 1px 2px rgba(0, 0, 0, 0.3));\n",
              "      fill: #FFFFFF;\n",
              "    }\n",
              "  </style>\n",
              "\n",
              "    <script>\n",
              "      const buttonEl =\n",
              "        document.querySelector('#df-449fcce9-245d-43aa-9770-2b916ee321c7 button.colab-df-convert');\n",
              "      buttonEl.style.display =\n",
              "        google.colab.kernel.accessAllowed ? 'block' : 'none';\n",
              "\n",
              "      async function convertToInteractive(key) {\n",
              "        const element = document.querySelector('#df-449fcce9-245d-43aa-9770-2b916ee321c7');\n",
              "        const dataTable =\n",
              "          await google.colab.kernel.invokeFunction('convertToInteractive',\n",
              "                                                    [key], {});\n",
              "        if (!dataTable) return;\n",
              "\n",
              "        const docLinkHtml = 'Like what you see? Visit the ' +\n",
              "          '<a target=\"_blank\" href=https://colab.research.google.com/notebooks/data_table.ipynb>data table notebook</a>'\n",
              "          + ' to learn more about interactive tables.';\n",
              "        element.innerHTML = '';\n",
              "        dataTable['output_type'] = 'display_data';\n",
              "        await google.colab.output.renderOutput(dataTable, element);\n",
              "        const docLink = document.createElement('div');\n",
              "        docLink.innerHTML = docLinkHtml;\n",
              "        element.appendChild(docLink);\n",
              "      }\n",
              "    </script>\n",
              "  </div>\n",
              "\n",
              "\n",
              "    </div>\n",
              "  </div>\n"
            ],
            "application/vnd.google.colaboratory.intrinsic+json": {
              "type": "dataframe",
              "summary": "{\n  \"name\": \"df[df[\\\"transmission\\\"]==\\\"SCHEDULED FOR OR IN PRODUCTION\\\"]\",\n  \"rows\": 1,\n  \"fields\": [\n    {\n      \"column\": \"brand\",\n      \"properties\": {\n        \"dtype\": \"string\",\n        \"num_unique_values\": 1,\n        \"samples\": [\n          \"BMW\"\n        ],\n        \"semantic_type\": \"\",\n        \"description\": \"\"\n      }\n    },\n    {\n      \"column\": \"model\",\n      \"properties\": {\n        \"dtype\": \"string\",\n        \"num_unique_values\": 1,\n        \"samples\": [\n          \"X6 xDrive40i\"\n        ],\n        \"semantic_type\": \"\",\n        \"description\": \"\"\n      }\n    },\n    {\n      \"column\": \"model_year\",\n      \"properties\": {\n        \"dtype\": \"number\",\n        \"std\": null,\n        \"min\": 2021,\n        \"max\": 2021,\n        \"num_unique_values\": 1,\n        \"samples\": [\n          2021\n        ],\n        \"semantic_type\": \"\",\n        \"description\": \"\"\n      }\n    },\n    {\n      \"column\": \"milage\",\n      \"properties\": {\n        \"dtype\": \"number\",\n        \"std\": null,\n        \"min\": 72903,\n        \"max\": 72903,\n        \"num_unique_values\": 1,\n        \"samples\": [\n          72903\n        ],\n        \"semantic_type\": \"\",\n        \"description\": \"\"\n      }\n    },\n    {\n      \"column\": \"fuel_type\",\n      \"properties\": {\n        \"dtype\": \"string\",\n        \"num_unique_values\": 1,\n        \"samples\": [\n          \"Hybrid\"\n        ],\n        \"semantic_type\": \"\",\n        \"description\": \"\"\n      }\n    },\n    {\n      \"column\": \"engine\",\n      \"properties\": {\n        \"dtype\": \"string\",\n        \"num_unique_values\": 1,\n        \"samples\": [\n          \"3.0 Liter Turbo\"\n        ],\n        \"semantic_type\": \"\",\n        \"description\": \"\"\n      }\n    },\n    {\n      \"column\": \"transmission\",\n      \"properties\": {\n        \"dtype\": \"string\",\n        \"num_unique_values\": 1,\n        \"samples\": [\n          \"SCHEDULED FOR OR IN PRODUCTION\"\n        ],\n        \"semantic_type\": \"\",\n        \"description\": \"\"\n      }\n    },\n    {\n      \"column\": \"ext_col\",\n      \"properties\": {\n        \"dtype\": \"string\",\n        \"num_unique_values\": 1,\n        \"samples\": [\n          \"Black Sapphire Metallic\"\n        ],\n        \"semantic_type\": \"\",\n        \"description\": \"\"\n      }\n    },\n    {\n      \"column\": \"int_col\",\n      \"properties\": {\n        \"dtype\": \"string\",\n        \"num_unique_values\": 1,\n        \"samples\": [\n          \"Black\"\n        ],\n        \"semantic_type\": \"\",\n        \"description\": \"\"\n      }\n    },\n    {\n      \"column\": \"accident\",\n      \"properties\": {\n        \"dtype\": \"string\",\n        \"num_unique_values\": 1,\n        \"samples\": [\n          \"At least 1 accident or damage reported\"\n        ],\n        \"semantic_type\": \"\",\n        \"description\": \"\"\n      }\n    },\n    {\n      \"column\": \"clean_title\",\n      \"properties\": {\n        \"dtype\": \"string\",\n        \"num_unique_values\": 1,\n        \"samples\": [\n          \"No\"\n        ],\n        \"semantic_type\": \"\",\n        \"description\": \"\"\n      }\n    },\n    {\n      \"column\": \"price\",\n      \"properties\": {\n        \"dtype\": \"number\",\n        \"std\": null,\n        \"min\": 53998,\n        \"max\": 53998,\n        \"num_unique_values\": 1,\n        \"samples\": [\n          53998\n        ],\n        \"semantic_type\": \"\",\n        \"description\": \"\"\n      }\n    }\n  ]\n}"
            }
          },
          "metadata": {},
          "execution_count": 30
        }
      ]
    },
    {
      "cell_type": "code",
      "source": [
        "df[df[\"transmission\"]==\"2\"]"
      ],
      "metadata": {
        "colab": {
          "base_uri": "https://localhost:8080/",
          "height": 248
        },
        "id": "kDGurcyJqw7k",
        "outputId": "c117242c-b699-44b7-ab5d-84e5eaa9d7ba"
      },
      "execution_count": 31,
      "outputs": [
        {
          "output_type": "execute_result",
          "data": {
            "text/plain": [
              "      brand                     model  model_year  milage fuel_type  \\\n",
              "269   Acura      TLX w/A-Spec Package        2022   14896  Gasoline   \n",
              "516   Acura  MDX w/Technology Package        2022   30177  Gasoline   \n",
              "2381  Acura           RDX PMC Edition        2021   44457  Gasoline   \n",
              "\n",
              "                       engine transmission                ext_col   int_col  \\\n",
              "269      2.0 Liter DOHC Turbo            2  Lunar Silver Metallic     Ebony   \n",
              "516   3.5L 24V SOHC I-VTEC V6            2   Majestic Black Pearl  Espresso   \n",
              "2381          2.0 Liter Turbo            2   Majestic Black Pearl     Ebony   \n",
              "\n",
              "           accident clean_title  price  \n",
              "269   None reported          No  39998  \n",
              "516   None reported          No  46598  \n",
              "2381  None reported          No  40598  "
            ],
            "text/html": [
              "\n",
              "  <div id=\"df-cdd7c264-9e20-44c8-ae6a-197ab23fc201\" class=\"colab-df-container\">\n",
              "    <div>\n",
              "<style scoped>\n",
              "    .dataframe tbody tr th:only-of-type {\n",
              "        vertical-align: middle;\n",
              "    }\n",
              "\n",
              "    .dataframe tbody tr th {\n",
              "        vertical-align: top;\n",
              "    }\n",
              "\n",
              "    .dataframe thead th {\n",
              "        text-align: right;\n",
              "    }\n",
              "</style>\n",
              "<table border=\"1\" class=\"dataframe\">\n",
              "  <thead>\n",
              "    <tr style=\"text-align: right;\">\n",
              "      <th></th>\n",
              "      <th>brand</th>\n",
              "      <th>model</th>\n",
              "      <th>model_year</th>\n",
              "      <th>milage</th>\n",
              "      <th>fuel_type</th>\n",
              "      <th>engine</th>\n",
              "      <th>transmission</th>\n",
              "      <th>ext_col</th>\n",
              "      <th>int_col</th>\n",
              "      <th>accident</th>\n",
              "      <th>clean_title</th>\n",
              "      <th>price</th>\n",
              "    </tr>\n",
              "  </thead>\n",
              "  <tbody>\n",
              "    <tr>\n",
              "      <th>269</th>\n",
              "      <td>Acura</td>\n",
              "      <td>TLX w/A-Spec Package</td>\n",
              "      <td>2022</td>\n",
              "      <td>14896</td>\n",
              "      <td>Gasoline</td>\n",
              "      <td>2.0 Liter DOHC Turbo</td>\n",
              "      <td>2</td>\n",
              "      <td>Lunar Silver Metallic</td>\n",
              "      <td>Ebony</td>\n",
              "      <td>None reported</td>\n",
              "      <td>No</td>\n",
              "      <td>39998</td>\n",
              "    </tr>\n",
              "    <tr>\n",
              "      <th>516</th>\n",
              "      <td>Acura</td>\n",
              "      <td>MDX w/Technology Package</td>\n",
              "      <td>2022</td>\n",
              "      <td>30177</td>\n",
              "      <td>Gasoline</td>\n",
              "      <td>3.5L 24V SOHC I-VTEC V6</td>\n",
              "      <td>2</td>\n",
              "      <td>Majestic Black Pearl</td>\n",
              "      <td>Espresso</td>\n",
              "      <td>None reported</td>\n",
              "      <td>No</td>\n",
              "      <td>46598</td>\n",
              "    </tr>\n",
              "    <tr>\n",
              "      <th>2381</th>\n",
              "      <td>Acura</td>\n",
              "      <td>RDX PMC Edition</td>\n",
              "      <td>2021</td>\n",
              "      <td>44457</td>\n",
              "      <td>Gasoline</td>\n",
              "      <td>2.0 Liter Turbo</td>\n",
              "      <td>2</td>\n",
              "      <td>Majestic Black Pearl</td>\n",
              "      <td>Ebony</td>\n",
              "      <td>None reported</td>\n",
              "      <td>No</td>\n",
              "      <td>40598</td>\n",
              "    </tr>\n",
              "  </tbody>\n",
              "</table>\n",
              "</div>\n",
              "    <div class=\"colab-df-buttons\">\n",
              "\n",
              "  <div class=\"colab-df-container\">\n",
              "    <button class=\"colab-df-convert\" onclick=\"convertToInteractive('df-cdd7c264-9e20-44c8-ae6a-197ab23fc201')\"\n",
              "            title=\"Convert this dataframe to an interactive table.\"\n",
              "            style=\"display:none;\">\n",
              "\n",
              "  <svg xmlns=\"http://www.w3.org/2000/svg\" height=\"24px\" viewBox=\"0 -960 960 960\">\n",
              "    <path d=\"M120-120v-720h720v720H120Zm60-500h600v-160H180v160Zm220 220h160v-160H400v160Zm0 220h160v-160H400v160ZM180-400h160v-160H180v160Zm440 0h160v-160H620v160ZM180-180h160v-160H180v160Zm440 0h160v-160H620v160Z\"/>\n",
              "  </svg>\n",
              "    </button>\n",
              "\n",
              "  <style>\n",
              "    .colab-df-container {\n",
              "      display:flex;\n",
              "      gap: 12px;\n",
              "    }\n",
              "\n",
              "    .colab-df-convert {\n",
              "      background-color: #E8F0FE;\n",
              "      border: none;\n",
              "      border-radius: 50%;\n",
              "      cursor: pointer;\n",
              "      display: none;\n",
              "      fill: #1967D2;\n",
              "      height: 32px;\n",
              "      padding: 0 0 0 0;\n",
              "      width: 32px;\n",
              "    }\n",
              "\n",
              "    .colab-df-convert:hover {\n",
              "      background-color: #E2EBFA;\n",
              "      box-shadow: 0px 1px 2px rgba(60, 64, 67, 0.3), 0px 1px 3px 1px rgba(60, 64, 67, 0.15);\n",
              "      fill: #174EA6;\n",
              "    }\n",
              "\n",
              "    .colab-df-buttons div {\n",
              "      margin-bottom: 4px;\n",
              "    }\n",
              "\n",
              "    [theme=dark] .colab-df-convert {\n",
              "      background-color: #3B4455;\n",
              "      fill: #D2E3FC;\n",
              "    }\n",
              "\n",
              "    [theme=dark] .colab-df-convert:hover {\n",
              "      background-color: #434B5C;\n",
              "      box-shadow: 0px 1px 3px 1px rgba(0, 0, 0, 0.15);\n",
              "      filter: drop-shadow(0px 1px 2px rgba(0, 0, 0, 0.3));\n",
              "      fill: #FFFFFF;\n",
              "    }\n",
              "  </style>\n",
              "\n",
              "    <script>\n",
              "      const buttonEl =\n",
              "        document.querySelector('#df-cdd7c264-9e20-44c8-ae6a-197ab23fc201 button.colab-df-convert');\n",
              "      buttonEl.style.display =\n",
              "        google.colab.kernel.accessAllowed ? 'block' : 'none';\n",
              "\n",
              "      async function convertToInteractive(key) {\n",
              "        const element = document.querySelector('#df-cdd7c264-9e20-44c8-ae6a-197ab23fc201');\n",
              "        const dataTable =\n",
              "          await google.colab.kernel.invokeFunction('convertToInteractive',\n",
              "                                                    [key], {});\n",
              "        if (!dataTable) return;\n",
              "\n",
              "        const docLinkHtml = 'Like what you see? Visit the ' +\n",
              "          '<a target=\"_blank\" href=https://colab.research.google.com/notebooks/data_table.ipynb>data table notebook</a>'\n",
              "          + ' to learn more about interactive tables.';\n",
              "        element.innerHTML = '';\n",
              "        dataTable['output_type'] = 'display_data';\n",
              "        await google.colab.output.renderOutput(dataTable, element);\n",
              "        const docLink = document.createElement('div');\n",
              "        docLink.innerHTML = docLinkHtml;\n",
              "        element.appendChild(docLink);\n",
              "      }\n",
              "    </script>\n",
              "  </div>\n",
              "\n",
              "\n",
              "<div id=\"df-6299086f-891e-449b-86ce-994ca8f38e2f\">\n",
              "  <button class=\"colab-df-quickchart\" onclick=\"quickchart('df-6299086f-891e-449b-86ce-994ca8f38e2f')\"\n",
              "            title=\"Suggest charts\"\n",
              "            style=\"display:none;\">\n",
              "\n",
              "<svg xmlns=\"http://www.w3.org/2000/svg\" height=\"24px\"viewBox=\"0 0 24 24\"\n",
              "     width=\"24px\">\n",
              "    <g>\n",
              "        <path d=\"M19 3H5c-1.1 0-2 .9-2 2v14c0 1.1.9 2 2 2h14c1.1 0 2-.9 2-2V5c0-1.1-.9-2-2-2zM9 17H7v-7h2v7zm4 0h-2V7h2v10zm4 0h-2v-4h2v4z\"/>\n",
              "    </g>\n",
              "</svg>\n",
              "  </button>\n",
              "\n",
              "<style>\n",
              "  .colab-df-quickchart {\n",
              "      --bg-color: #E8F0FE;\n",
              "      --fill-color: #1967D2;\n",
              "      --hover-bg-color: #E2EBFA;\n",
              "      --hover-fill-color: #174EA6;\n",
              "      --disabled-fill-color: #AAA;\n",
              "      --disabled-bg-color: #DDD;\n",
              "  }\n",
              "\n",
              "  [theme=dark] .colab-df-quickchart {\n",
              "      --bg-color: #3B4455;\n",
              "      --fill-color: #D2E3FC;\n",
              "      --hover-bg-color: #434B5C;\n",
              "      --hover-fill-color: #FFFFFF;\n",
              "      --disabled-bg-color: #3B4455;\n",
              "      --disabled-fill-color: #666;\n",
              "  }\n",
              "\n",
              "  .colab-df-quickchart {\n",
              "    background-color: var(--bg-color);\n",
              "    border: none;\n",
              "    border-radius: 50%;\n",
              "    cursor: pointer;\n",
              "    display: none;\n",
              "    fill: var(--fill-color);\n",
              "    height: 32px;\n",
              "    padding: 0;\n",
              "    width: 32px;\n",
              "  }\n",
              "\n",
              "  .colab-df-quickchart:hover {\n",
              "    background-color: var(--hover-bg-color);\n",
              "    box-shadow: 0 1px 2px rgba(60, 64, 67, 0.3), 0 1px 3px 1px rgba(60, 64, 67, 0.15);\n",
              "    fill: var(--button-hover-fill-color);\n",
              "  }\n",
              "\n",
              "  .colab-df-quickchart-complete:disabled,\n",
              "  .colab-df-quickchart-complete:disabled:hover {\n",
              "    background-color: var(--disabled-bg-color);\n",
              "    fill: var(--disabled-fill-color);\n",
              "    box-shadow: none;\n",
              "  }\n",
              "\n",
              "  .colab-df-spinner {\n",
              "    border: 2px solid var(--fill-color);\n",
              "    border-color: transparent;\n",
              "    border-bottom-color: var(--fill-color);\n",
              "    animation:\n",
              "      spin 1s steps(1) infinite;\n",
              "  }\n",
              "\n",
              "  @keyframes spin {\n",
              "    0% {\n",
              "      border-color: transparent;\n",
              "      border-bottom-color: var(--fill-color);\n",
              "      border-left-color: var(--fill-color);\n",
              "    }\n",
              "    20% {\n",
              "      border-color: transparent;\n",
              "      border-left-color: var(--fill-color);\n",
              "      border-top-color: var(--fill-color);\n",
              "    }\n",
              "    30% {\n",
              "      border-color: transparent;\n",
              "      border-left-color: var(--fill-color);\n",
              "      border-top-color: var(--fill-color);\n",
              "      border-right-color: var(--fill-color);\n",
              "    }\n",
              "    40% {\n",
              "      border-color: transparent;\n",
              "      border-right-color: var(--fill-color);\n",
              "      border-top-color: var(--fill-color);\n",
              "    }\n",
              "    60% {\n",
              "      border-color: transparent;\n",
              "      border-right-color: var(--fill-color);\n",
              "    }\n",
              "    80% {\n",
              "      border-color: transparent;\n",
              "      border-right-color: var(--fill-color);\n",
              "      border-bottom-color: var(--fill-color);\n",
              "    }\n",
              "    90% {\n",
              "      border-color: transparent;\n",
              "      border-bottom-color: var(--fill-color);\n",
              "    }\n",
              "  }\n",
              "</style>\n",
              "\n",
              "  <script>\n",
              "    async function quickchart(key) {\n",
              "      const quickchartButtonEl =\n",
              "        document.querySelector('#' + key + ' button');\n",
              "      quickchartButtonEl.disabled = true;  // To prevent multiple clicks.\n",
              "      quickchartButtonEl.classList.add('colab-df-spinner');\n",
              "      try {\n",
              "        const charts = await google.colab.kernel.invokeFunction(\n",
              "            'suggestCharts', [key], {});\n",
              "      } catch (error) {\n",
              "        console.error('Error during call to suggestCharts:', error);\n",
              "      }\n",
              "      quickchartButtonEl.classList.remove('colab-df-spinner');\n",
              "      quickchartButtonEl.classList.add('colab-df-quickchart-complete');\n",
              "    }\n",
              "    (() => {\n",
              "      let quickchartButtonEl =\n",
              "        document.querySelector('#df-6299086f-891e-449b-86ce-994ca8f38e2f button');\n",
              "      quickchartButtonEl.style.display =\n",
              "        google.colab.kernel.accessAllowed ? 'block' : 'none';\n",
              "    })();\n",
              "  </script>\n",
              "</div>\n",
              "\n",
              "    </div>\n",
              "  </div>\n"
            ],
            "application/vnd.google.colaboratory.intrinsic+json": {
              "type": "dataframe",
              "summary": "{\n  \"name\": \"df[df[\\\"transmission\\\"]==\\\"2\\\"]\",\n  \"rows\": 3,\n  \"fields\": [\n    {\n      \"column\": \"brand\",\n      \"properties\": {\n        \"dtype\": \"category\",\n        \"num_unique_values\": 1,\n        \"samples\": [\n          \"Acura\"\n        ],\n        \"semantic_type\": \"\",\n        \"description\": \"\"\n      }\n    },\n    {\n      \"column\": \"model\",\n      \"properties\": {\n        \"dtype\": \"string\",\n        \"num_unique_values\": 3,\n        \"samples\": [\n          \"TLX w/A-Spec Package\"\n        ],\n        \"semantic_type\": \"\",\n        \"description\": \"\"\n      }\n    },\n    {\n      \"column\": \"model_year\",\n      \"properties\": {\n        \"dtype\": \"number\",\n        \"std\": 0,\n        \"min\": 2021,\n        \"max\": 2022,\n        \"num_unique_values\": 2,\n        \"samples\": [\n          2021\n        ],\n        \"semantic_type\": \"\",\n        \"description\": \"\"\n      }\n    },\n    {\n      \"column\": \"milage\",\n      \"properties\": {\n        \"dtype\": \"number\",\n        \"std\": 14783,\n        \"min\": 14896,\n        \"max\": 44457,\n        \"num_unique_values\": 3,\n        \"samples\": [\n          14896\n        ],\n        \"semantic_type\": \"\",\n        \"description\": \"\"\n      }\n    },\n    {\n      \"column\": \"fuel_type\",\n      \"properties\": {\n        \"dtype\": \"category\",\n        \"num_unique_values\": 1,\n        \"samples\": [\n          \"Gasoline\"\n        ],\n        \"semantic_type\": \"\",\n        \"description\": \"\"\n      }\n    },\n    {\n      \"column\": \"engine\",\n      \"properties\": {\n        \"dtype\": \"string\",\n        \"num_unique_values\": 3,\n        \"samples\": [\n          \"2.0 Liter DOHC Turbo\"\n        ],\n        \"semantic_type\": \"\",\n        \"description\": \"\"\n      }\n    },\n    {\n      \"column\": \"transmission\",\n      \"properties\": {\n        \"dtype\": \"category\",\n        \"num_unique_values\": 1,\n        \"samples\": [\n          \"2\"\n        ],\n        \"semantic_type\": \"\",\n        \"description\": \"\"\n      }\n    },\n    {\n      \"column\": \"ext_col\",\n      \"properties\": {\n        \"dtype\": \"string\",\n        \"num_unique_values\": 2,\n        \"samples\": [\n          \"Majestic Black Pearl\"\n        ],\n        \"semantic_type\": \"\",\n        \"description\": \"\"\n      }\n    },\n    {\n      \"column\": \"int_col\",\n      \"properties\": {\n        \"dtype\": \"string\",\n        \"num_unique_values\": 2,\n        \"samples\": [\n          \"Espresso\"\n        ],\n        \"semantic_type\": \"\",\n        \"description\": \"\"\n      }\n    },\n    {\n      \"column\": \"accident\",\n      \"properties\": {\n        \"dtype\": \"category\",\n        \"num_unique_values\": 1,\n        \"samples\": [\n          \"None reported\"\n        ],\n        \"semantic_type\": \"\",\n        \"description\": \"\"\n      }\n    },\n    {\n      \"column\": \"clean_title\",\n      \"properties\": {\n        \"dtype\": \"category\",\n        \"num_unique_values\": 1,\n        \"samples\": [\n          \"No\"\n        ],\n        \"semantic_type\": \"\",\n        \"description\": \"\"\n      }\n    },\n    {\n      \"column\": \"price\",\n      \"properties\": {\n        \"dtype\": \"number\",\n        \"std\": 3649,\n        \"min\": 39998,\n        \"max\": 46598,\n        \"num_unique_values\": 3,\n        \"samples\": [\n          39998\n        ],\n        \"semantic_type\": \"\",\n        \"description\": \"\"\n      }\n    }\n  ]\n}"
            }
          },
          "metadata": {},
          "execution_count": 31
        }
      ]
    },
    {
      "cell_type": "markdown",
      "source": [
        "**Conclusion**\n",
        "\n",
        "Dropping entries with '2' and 'SCHEDULED FOR OR IN PRODUCTION' due to insufficient data"
      ],
      "metadata": {
        "id": "hTH13y_Wq6dW"
      }
    },
    {
      "cell_type": "code",
      "source": [
        "df = df[~(df[\"transmission\"].isin([\"2\", \"SCHEDULED FOR OR IN PRODUCTION\"]))]"
      ],
      "metadata": {
        "id": "bPJkI4Dyq_wc"
      },
      "execution_count": 32,
      "outputs": []
    },
    {
      "cell_type": "markdown",
      "source": [
        "**int_col attribute**"
      ],
      "metadata": {
        "id": "cNPSlPTNrGJK"
      }
    },
    {
      "cell_type": "code",
      "source": [
        "df[\"int_col\"].unique()"
      ],
      "metadata": {
        "colab": {
          "base_uri": "https://localhost:8080/"
        },
        "id": "l7NJrDrDrHmM",
        "outputId": "399415c4-3543-49bd-8203-dfc3cfc8954f"
      },
      "execution_count": 33,
      "outputs": [
        {
          "output_type": "execute_result",
          "data": {
            "text/plain": [
              "array(['Black', 'Gray', 'Ebony.', 'Green', 'Pimento / Ebony', 'Brown',\n",
              "       'White', '–', 'Beige', 'Jet Black', 'Light Gray', 'Anthracite',\n",
              "       'Red', 'Nero Ade', 'Blue', 'Charcoal', 'Rioja Red',\n",
              "       'Canberra Beige/Black', 'Roast', 'Ivory / Ebony',\n",
              "       'Silk Beige/Black', 'Medium Pewter', 'Ice', 'Black / Express Red',\n",
              "       'Obsidian Black', 'Ebony', 'Orange', 'Caramel', 'Orchid',\n",
              "       'Graphite', 'Tan/Ebony', 'Cappuccino', 'Nero', 'Sahara Tan',\n",
              "       'BLACK', 'Hotspur', 'Blk', 'Nougat Brown', 'Titan Black',\n",
              "       'Oyster W/Contrast', 'Macchiato Beige/Black', 'Sand Beige',\n",
              "       'Navy Pier', 'WHITE', 'Parchment.', 'Sarder Brown', 'Grace White',\n",
              "       'Cloud', 'Mesa', 'Whisper Beige', 'Medium Dark Slate', 'Gold',\n",
              "       'Camel Leather', 'Tupelo', 'Black/Red', 'Parchment', 'Beluga Hide',\n",
              "       'Charles Blue', 'Global Black', 'Titan Black / Quarzit', 'Mocha',\n",
              "       'Portland', 'Medium Light Camel', 'Black / Saddle', 'Ash',\n",
              "       'Ebony / Pimento', 'Tan', 'Mistral Gray / Raven', 'Silver',\n",
              "       'Graystone', 'Satin Black', 'Sandstone', 'Medium Stone', 'ORANGE',\n",
              "       'Black Onyx', 'Pimento Red w/Ebony', 'Macchiato', 'Ebony Black',\n",
              "       'Pearl Beige', 'Sakhir Orange', 'Kyalami Orange', 'Almond Beige',\n",
              "       'Medium Earth Gray', 'Diesel Gray / Black', 'Boulder', 'Walnut',\n",
              "       'Espresso', 'Charcoal Black', 'Dark Auburn', 'Tan/Ebony/Ebony',\n",
              "       'Amber', 'Silk Beige/Espresso Brown', 'Black / Brown',\n",
              "       'Sakhir Orange/Black', 'Black / Stone Grey', 'AMG Black', 'Slate',\n",
              "       'Canberra Beige', 'Magma Red', 'Saiga Beige', 'Saddle Brown',\n",
              "       'Light Titanium', 'Dark Gray', 'Platinum',\n",
              "       'Ebony/Light Oyster Stitch', 'Shale', 'Red/Black', 'Agave Green',\n",
              "       'Deep Cypress', 'Ceramic', 'Camel', 'Rhapsody Blue',\n",
              "       'Light Platinum / Jet Black', 'Shara Beige', 'Dark Galvanized',\n",
              "       'Giallo Taurus / Nero Ade', 'Yellow', 'Black w/Red Stitching',\n",
              "       'Black/Saddle Brown', 'Light Slate', 'Black/Gun Metal',\n",
              "       'White / Brown', 'Brandy', 'Mountain Brown', 'Linen', 'Porpoise',\n",
              "       'Aragon Brown', 'Oyster/Black', 'Gideon', 'Chestnut',\n",
              "       'Red / Black', 'Bianco Polar', 'Deep Garnet', 'Dark Ash',\n",
              "       'Ebony / Ebony Accents', 'Rock Gray', 'Cocoa / Dune', 'Beluga',\n",
              "       'Carbon Black', 'Sport', 'Medium Ash Gray', 'Black/Graphite',\n",
              "       'Macchiato/Magmagrey', 'Classic Red', 'Chateau',\n",
              "       'Graphite w/Gun Metal', 'Tension', 'Adrenaline Red',\n",
              "       'Hotspur Hide', 'Very Light Cashmere', 'Black / Gray',\n",
              "       'Deep Chestnut', 'Black / Graphite'], dtype=object)"
            ]
          },
          "metadata": {},
          "execution_count": 33
        }
      ]
    },
    {
      "cell_type": "code",
      "source": [
        "df[df[\"int_col\"] == \"–\"].shape"
      ],
      "metadata": {
        "colab": {
          "base_uri": "https://localhost:8080/"
        },
        "id": "U12WzMcurNUS",
        "outputId": "a76b0368-25f6-4fec-a55a-c19e716c2c85"
      },
      "execution_count": 34,
      "outputs": [
        {
          "output_type": "execute_result",
          "data": {
            "text/plain": [
              "(126, 12)"
            ]
          },
          "metadata": {},
          "execution_count": 34
        }
      ]
    },
    {
      "cell_type": "markdown",
      "source": [
        "**Conclusion**\n",
        "\n",
        "int_col attribute contains '–' value. Droppig the rows containing this value"
      ],
      "metadata": {
        "id": "bHLRH3gErRff"
      }
    },
    {
      "cell_type": "code",
      "source": [
        "df = df[~(df[\"int_col\"] == \"–\")]"
      ],
      "metadata": {
        "id": "wsmRzh0hrWG1"
      },
      "execution_count": 35,
      "outputs": []
    },
    {
      "cell_type": "markdown",
      "source": [
        "**ext_col attribute**"
      ],
      "metadata": {
        "id": "ayD_zVFiraHD"
      }
    },
    {
      "cell_type": "code",
      "source": [
        "df[\"ext_col\"].unique()"
      ],
      "metadata": {
        "colab": {
          "base_uri": "https://localhost:8080/"
        },
        "id": "roqb3IMqrZpS",
        "outputId": "f14b7b98-935a-436d-da90-010bd6fb769a"
      },
      "execution_count": 36,
      "outputs": [
        {
          "output_type": "execute_result",
          "data": {
            "text/plain": [
              "array(['Black', 'Moonlight Cloud', 'Blue', 'Glacier White Metallic',\n",
              "       'Silver', 'Green', 'Fuji White', 'Yellow', 'White', 'Gray',\n",
              "       'Iconic Silver Metallic', 'Mythos Black Metallic', 'Red', 'Gold',\n",
              "       'Lunar Silver Metallic', 'Mountain Air Metallic', 'Caspian Blue',\n",
              "       'Tango Red Metallic', 'Alpine White', 'BLU ELEOS', 'Horizon Blue',\n",
              "       'Granite Crystal Clearcoat Metallic', 'Orange', 'Beige',\n",
              "       'Rift Metallic', 'Atomic Silver', 'Summit White',\n",
              "       'Imperial Blue Metallic', 'Magnetic Gray Clearcoat',\n",
              "       'Bright White Clearcoat', 'Typhoon Gray', 'Crystal Black Silica',\n",
              "       'Arctic Gray Metallic', 'Selenite Grey Metallic', 'Ultra Black',\n",
              "       'Lunare White Metallic', 'Hyper Red', 'Daytona Gray Pearl Effect',\n",
              "       'Vik Black', 'Pacific Blue Metallic', 'Obsidian Black Metallic',\n",
              "       'Silver Ice Metallic', 'Sonic Silver Metallic', 'Nightfall Mica',\n",
              "       'Apex Blue', 'Go Mango!', 'Ingot Silver Metallic',\n",
              "       'Midnight Black Metallic', 'Black Clearcoat', 'Bianco Monocerus',\n",
              "       'Verde', 'Wind Chill Pearl', 'Patriot Blue Pearlcoat',\n",
              "       'Black Cherry', 'Yulong White', 'Donington Grey Metallic',\n",
              "       'Ruby Red Metallic Tinted Clearcoat', 'Platinum Quartz Metallic',\n",
              "       'Matador Red Metallic', 'Blu', 'Jungle Green', 'BLACK',\n",
              "       'Deep Crystal Blue Mica', 'Beluga Black', 'Ebony Black',\n",
              "       'Mythos Black', 'Brown', 'Indus Silver', 'Ibis White',\n",
              "       'Bianco Icarus Metallic', 'Infrared Tintcoat', 'Midnight Black',\n",
              "       'Phytonic Blue Metallic', 'Quartz White', 'Cobra Beige Metallic',\n",
              "       'Pure White', 'Snow White Pearl', 'DB Black Clearcoat',\n",
              "       'Firenze Red Metallic', 'Anodized Blue Metallic',\n",
              "       'MANUFAKTUR Diamond White Bright', 'Santorin Black',\n",
              "       'Delmonico Red Pearlcoat', 'Brilliant Black', '–',\n",
              "       'Magnetite Black Metallic', 'Carpathian Grey Premium Metallic',\n",
              "       'Northsky Blue Metallic', 'Baltic Gray', 'Machine Gray Metallic',\n",
              "       'Twilight Black', 'Pearl White', 'Diamond Black', 'Maroon',\n",
              "       'Firecracker Red Clearcoat', 'Oxford White', 'Glacier White',\n",
              "       'Flame Red Clearcoat', 'White Clearcoat',\n",
              "       'Rapid Red Metallic Tinted Clearcoat', 'Majestic Black Pearl',\n",
              "       'Ice', 'Silver Zynith', 'Silky Silver', 'Ametrin Metallic',\n",
              "       'Deep Black Pearl Effect', 'Shimmering Silver', 'Gecko Pearlcoat',\n",
              "       'Onyx', 'Rosso Mars Metallic', 'Shoreline Blue Pearl',\n",
              "       'Santorini Black', 'Mosaic Black Metallic',\n",
              "       'White Platinum Tri-Coat Metallic', 'Sparkling Silver', 'Chalk',\n",
              "       'BLUE', 'Dazzling White', 'Santorini Black Metallic',\n",
              "       'Selenite Gray Metallic', 'Metallic', 'Ebony Twilight Metallic',\n",
              "       'Polymetal Gray Metallic', 'Oryx White Prl', 'Purple',\n",
              "       'Black Forest Green', 'Gun Metallic', 'Jet Black Mica',\n",
              "       'Firenze Red', 'Glacial White Pearl',\n",
              "       'designo Diamond White Metallic', 'Blue Metallic',\n",
              "       'Isle of Man Green Metallic', 'Black Noir Pearl',\n",
              "       'Volcano Grey Metallic', 'Soul Red Crystal Metallic', 'Dark Moss',\n",
              "       'Passion Red', 'Onyx Black', 'Redline Red',\n",
              "       'Brands Hatch Gray Metallic',\n",
              "       'Daytona Gray Pearl Effect w/ Black Roof', 'Hampton Gray',\n",
              "       'Ultra White', 'Hydro Blue Pearlcoat', 'Sandstone Metallic',\n",
              "       'Portofino Blue Metallic', 'Sangria Red', 'Magnetic Metallic',\n",
              "       'Tan', 'Platinum White Pearl', 'designo Diamond White',\n",
              "       'Anthracite Blue Metallic', 'Velvet Red Pearlcoat', 'Silver Mist',\n",
              "       'Antimatter Blue Metallic', 'Cirrus Silver Metallic', 'Pink',\n",
              "       'Cayenne Red Tintcoat', 'Garnet Red Metallic', 'Black Obsidian',\n",
              "       'Pristine White', 'Nebula Gray Pearl', 'Super White',\n",
              "       'Midnight Blue Metallic', 'Yulong', 'Rosso Corsa', 'Matte White',\n",
              "       'Navarra Blue', 'Silver Radiance', 'Iridium Metallic',\n",
              "       'Magnetic Black', 'Chronos Gray Metallic', 'Pacific Blue',\n",
              "       'Eiger Grey Metallic', 'White Diamond Tri-Coat', 'Stormy Sea',\n",
              "       'Dark Matter Metallic', 'Billet Clearcoat Metallic',\n",
              "       'Liquid Platinum', 'Vulcano Black Metallic', 'Diamond White',\n",
              "       'White Frost Tri-Coat', 'Aventurine Green Metallic', 'Alfa White',\n",
              "       'Titanium Silver', 'Caviar', 'Kodiak Brown Metallic',\n",
              "       'Majestic Plum Metallic', 'Navarre Blue', 'Bronze Dune Metallic',\n",
              "       'Radiant Red Metallic II', 'Dark Moon Blue Metallic',\n",
              "       'Manhattan Noir Metallic', 'Agate Black Metallic', 'Frozen White',\n",
              "       'Bianco Isis', 'Phantom Black Pearl Effect / Black Roof',\n",
              "       'Kemora Gray Metallic', 'Shadow Black', 'Graphite Grey Metallic',\n",
              "       'Emerald Green Metallic', 'Orca Black Metallic', 'Chronos Gray',\n",
              "       'Daytona Gray', 'Billet Silver Metallic Clearcoat',\n",
              "       'Sting Gray Clearcoat', 'Maximum Steel Metallic',\n",
              "       'Carbonized Gray Metallic', 'Ruby Flare Pearl',\n",
              "       'Crimson Red Tintcoat', 'Blueprint', 'Balloon White',\n",
              "       'Snowflake White Pearl', 'Crystal White Pearl',\n",
              "       'Quicksilver Metallic', 'Dark Sapphire', 'Carbon Black Metallic',\n",
              "       'Sunset Drift Chromaflair', 'Shadow Gray Metallic', 'Granite',\n",
              "       'Frozen Dark Silver Metallic', 'Black Sapphire Metallic',\n",
              "       'Quartz Blue Pearl', 'Iridescent Pearl Tricoat',\n",
              "       'Satin Steel Metallic', 'Aurora Black', 'Black Raven',\n",
              "       'Florett Silver', 'Cajun Red Tintcoat', 'Dark Ash Metallic',\n",
              "       'Rich Garnet Metallic', 'Nero Noctis', 'Scarlet Ember',\n",
              "       'Blue Reflex Mica', 'Snowflake White Pearl Metallic',\n",
              "       'Grigio Nimbus', 'Granite Crystal Metallic Clearcoat',\n",
              "       'Eiger Grey', 'Stellar Black Metallic', 'Dark Slate Metallic',\n",
              "       'Vega Blue', 'Stone Gray Metallic', 'Matador Red Mica',\n",
              "       'Barcelona Red', 'Bayside Blue', 'Tungsten Metallic',\n",
              "       'Mineral White', 'Siren Red Tintcoat', 'Octane Red Pearlcoat',\n",
              "       'Wolf Gray', 'Fountain Blue', 'Volcanic Orange',\n",
              "       'Dark Graphite Metallic', 'Brilliant Silver Metallic',\n",
              "       'Designo Magno Matte', 'Phantom Black', 'Crystal Black',\n",
              "       'Red Quartz Tintcoat', 'Carrara White Metallic', 'Blue Caelum',\n",
              "       'designo Diamond White Bright', 'Iridium Silver Metallic',\n",
              "       'Mango Tango Pearlcoat', 'GT SILVER', 'Crystal Black Pearl',\n",
              "       'Eminent White Pearl', 'Lunar Blue Metallic',\n",
              "       'Magnetic Gray Metallic', 'Arctic White', 'Silver Flare Metallic',\n",
              "       'Emin White', 'Custom Color', 'Ember Pearlcoat',\n",
              "       'Twilight Blue Metallic', 'Burnished Bronze Metallic',\n",
              "       'Ice Silver Metallic', 'Magnetite Gray Metallic', 'Jupiter Red',\n",
              "       'Hellayella Clearcoat', 'Ironman Silver', 'Alta White',\n",
              "       'Python Green', 'China Blue', 'Portofino Gray',\n",
              "       'White Knuckle Clearcoat', 'Nautical Blue Pearl',\n",
              "       'Silician Yellow', 'Arancio Borealis', 'Rosso', 'Lizard Green',\n",
              "       'Super Black', 'Kinetic Blue', 'Electric Blue Metallic',\n",
              "       'Glacier Blue Metallic', 'Red Obsession', 'Platinum Gray Metallic',\n",
              "       'Remington Red Metallic', 'Reflex Silver',\n",
              "       'Glacier Silver Metallic', 'Carpathian Grey',\n",
              "       'Nightfall Gray Metallic', 'Lunar Rock', 'Quartzite Grey Metallic',\n",
              "       'C / C'], dtype=object)"
            ]
          },
          "metadata": {},
          "execution_count": 36
        }
      ]
    },
    {
      "cell_type": "markdown",
      "source": [
        "**Conclusion**\n",
        "\n",
        "No discrepencies found"
      ],
      "metadata": {
        "id": "m8lmntx0rj7J"
      }
    },
    {
      "cell_type": "markdown",
      "source": [
        "**transmission attribute**"
      ],
      "metadata": {
        "id": "l2njMNIDrnhY"
      }
    },
    {
      "cell_type": "code",
      "source": [
        "df[\"transmission\"].unique()"
      ],
      "metadata": {
        "colab": {
          "base_uri": "https://localhost:8080/"
        },
        "id": "_uPoH3Flrq6x",
        "outputId": "3b685c78-0b35-49a6-cd39-c6d734e09564"
      },
      "execution_count": 37,
      "outputs": [
        {
          "output_type": "execute_result",
          "data": {
            "text/plain": [
              "array(['6-Speed A/T', '8-Speed Automatic', 'Automatic', '7-Speed A/T',\n",
              "       'F', 'A/T', '8-Speed A/T', 'Transmission w/Dual Shift Mode',\n",
              "       '9-Speed Automatic', '10-Speed A/T', '9-Speed A/T', '5-Speed A/T',\n",
              "       'Automatic CVT', '6-Speed M/T',\n",
              "       '7-Speed Automatic with Auto-Shift', 'M/T',\n",
              "       '6-Speed Automatic with Auto-Shift', '10-Speed Automatic',\n",
              "       'CVT Transmission', '4-Speed A/T', '6-Speed Automatic',\n",
              "       '4-Speed Automatic', '7-Speed M/T',\n",
              "       '8-Speed Automatic with Auto-Shift', '5-Speed Automatic',\n",
              "       '8-SPEED AT', '1-Speed Automatic', '5-Speed M/T', '6-Speed Manual',\n",
              "       'Variable', '7-Speed Manual', 'Automatic, 9-Spd 9G-Tronic',\n",
              "       'Automatic, 8-Spd Sport w/Sport & Manual Modes',\n",
              "       'Transmission Overdrive Switch', 'Automatic, 8-Spd',\n",
              "       '7-Speed Automatic', 'Automatic, 8-Spd PDK Dual-Clutch',\n",
              "       'Automatic, 8-Spd M STEPTRONIC w/Drivelogic, Sport & Manual Modes',\n",
              "       '6-Speed', '7-Speed', 'Automatic, 7-Spd S tronic Dual-Clutch',\n",
              "       'Manual, 6-Spd',\n",
              "       '6-Speed Electronically Controlled Automatic with O',\n",
              "       '6 Speed At/Mt', '8-SPEED A/T', 'Manual',\n",
              "       '10-Speed Automatic with Overdrive',\n",
              "       '9-Speed Automatic with Auto-Shift', '6 Speed Mt',\n",
              "       '8-Speed Manual'], dtype=object)"
            ]
          },
          "metadata": {},
          "execution_count": 37
        }
      ]
    },
    {
      "cell_type": "markdown",
      "source": [
        "**price attribute**"
      ],
      "metadata": {
        "id": "dfcXKGAlr40e"
      }
    },
    {
      "cell_type": "code",
      "source": [
        "df[\"price\"].plot(kind=\"hist\")"
      ],
      "metadata": {
        "colab": {
          "base_uri": "https://localhost:8080/",
          "height": 466
        },
        "id": "ECJq2bShr6P3",
        "outputId": "8b645156-769c-412a-f33b-d6dfd3879a01"
      },
      "execution_count": 38,
      "outputs": [
        {
          "output_type": "execute_result",
          "data": {
            "text/plain": [
              "<Axes: ylabel='Frequency'>"
            ]
          },
          "metadata": {},
          "execution_count": 38
        },
        {
          "output_type": "display_data",
          "data": {
            "text/plain": [
              "<Figure size 640x480 with 1 Axes>"
            ],
            "image/png": "[encoded data removed]"
          },
          "metadata": {}
        }
      ]
    },
    {
      "cell_type": "markdown",
      "source": [
        "**Conclusion**\n",
        "\n",
        "No discrepencies found"
      ],
      "metadata": {
        "id": "2UJxQts2sCj9"
      }
    },
    {
      "cell_type": "markdown",
      "source": [
        "**Extracting HP form engine type**"
      ],
      "metadata": {
        "id": "bJVwwrwjsWTQ"
      }
    },
    {
      "cell_type": "code",
      "source": [
        "def extract_hp(x):\n",
        "    matches = re.findall(\"\\\\b(\\d*[.]\\d*)(?=HP\\\\b)\", x)\n",
        "    if(len(matches) == 0):\n",
        "        return 0\n",
        "    else:\n",
        "        return float(matches[0])"
      ],
      "metadata": {
        "id": "R-60GWdhsYKK"
      },
      "execution_count": 39,
      "outputs": []
    },
    {
      "cell_type": "code",
      "source": [
        "df[\"hp\"] = df[\"engine\"].apply(extract_hp)\n",
        "df[\"hp\"].isnull().sum()"
      ],
      "metadata": {
        "colab": {
          "base_uri": "https://localhost:8080/"
        },
        "id": "gcnuYnwVsd3i",
        "outputId": "f892f53f-0c21-475e-8a2d-4aec1f36e3fa"
      },
      "execution_count": 40,
      "outputs": [
        {
          "output_type": "execute_result",
          "data": {
            "text/plain": [
              "0"
            ]
          },
          "metadata": {},
          "execution_count": 40
        }
      ]
    },
    {
      "cell_type": "markdown",
      "source": [
        "**Extracting engine capacity**"
      ],
      "metadata": {
        "id": "3F3qjIzWsjkh"
      }
    },
    {
      "cell_type": "code",
      "source": [
        "def extract_engine_capacity(x):\n",
        "    matches = re.findall(\"\\\\b(\\d*[.]\\d*)(?=L\\\\b)\", x)\n",
        "    if(len(matches) == 0):\n",
        "        return 0\n",
        "    else:\n",
        "        return float(matches[0])\n"
      ],
      "metadata": {
        "id": "GJzdetLbsjCu"
      },
      "execution_count": 41,
      "outputs": []
    },
    {
      "cell_type": "code",
      "source": [
        "df[\"engine_capacity\"] = df[\"engine\"].apply(extract_engine_capacity)\n",
        "df[\"engine_capacity\"].isnull().sum()"
      ],
      "metadata": {
        "colab": {
          "base_uri": "https://localhost:8080/"
        },
        "id": "-Yxu4kLHsq-P",
        "outputId": "e263176e-9e0c-4a65-85e8-f32ca7cb4383"
      },
      "execution_count": 42,
      "outputs": [
        {
          "output_type": "execute_result",
          "data": {
            "text/plain": [
              "0"
            ]
          },
          "metadata": {},
          "execution_count": 42
        }
      ]
    },
    {
      "cell_type": "markdown",
      "source": [
        "**Extracting No. of Cylinders**"
      ],
      "metadata": {
        "id": "VL2DK-X1swQv"
      }
    },
    {
      "cell_type": "code",
      "source": [
        "def extract_cylinder(x):\n",
        "    matches = re.findall(\"\\\\b\\d+(?= Cylinder\\\\b)\", x)\n",
        "    if(len(matches) == 0):\n",
        "        return 0\n",
        "    else:\n",
        "        return int(matches[0])"
      ],
      "metadata": {
        "id": "8j0A50Lesx5n"
      },
      "execution_count": 43,
      "outputs": []
    },
    {
      "cell_type": "code",
      "source": [
        "df[\"cylinders\"] = df[\"engine\"].apply(extract_cylinder)\n",
        "df[\"cylinders\"].unique()"
      ],
      "metadata": {
        "colab": {
          "base_uri": "https://localhost:8080/"
        },
        "id": "SMQ70hkQs3BH",
        "outputId": "37b8b5a4-7f02-4677-e5ec-385c51707203"
      },
      "execution_count": 44,
      "outputs": [
        {
          "output_type": "execute_result",
          "data": {
            "text/plain": [
              "array([ 0,  4,  8, 12,  6,  3,  5, 10])"
            ]
          },
          "metadata": {},
          "execution_count": 44
        }
      ]
    },
    {
      "cell_type": "markdown",
      "source": [
        "**Extracting transmission type**"
      ],
      "metadata": {
        "id": "n1oJwPr5s7FT"
      }
    },
    {
      "cell_type": "code",
      "source": [
        "def extract_transmission_type(x):\n",
        "    data = None\n",
        "    if(re.search(\"(Automatic|A\\/T|AT|At)\", x) != None):\n",
        "        data = \"Automatic\"\n",
        "    if(re.search(\"(Manual|M\\/T|MT|Mt)\", x) != None):\n",
        "        data = \"Manual\"\n",
        "    if(re.search(\"(CVT|Variable)\", x) != None ):\n",
        "        data = \"CVT\"\n",
        "    if(\"DCT\" in x):\n",
        "        data = \"DCT\"\n",
        "    if(data == None):\n",
        "        data = \"Other\"\n",
        "\n",
        "    return data"
      ],
      "metadata": {
        "id": "Xy1JR2E9s8c7"
      },
      "execution_count": 45,
      "outputs": []
    },
    {
      "cell_type": "code",
      "source": [
        "df[\"transmission\"] = df[\"transmission\"].apply(extract_transmission_type)\n",
        "df[\"transmission\"].unique()"
      ],
      "metadata": {
        "colab": {
          "base_uri": "https://localhost:8080/"
        },
        "id": "z0q3Ar9etADu",
        "outputId": "fa6c0aff-fd6c-4b2e-acc6-b03d63eb6c3d"
      },
      "execution_count": 46,
      "outputs": [
        {
          "output_type": "execute_result",
          "data": {
            "text/plain": [
              "array(['Automatic', 'Other', 'CVT', 'Manual'], dtype=object)"
            ]
          },
          "metadata": {},
          "execution_count": 46
        }
      ]
    },
    {
      "cell_type": "markdown",
      "source": [
        "**Extracting exterior color**"
      ],
      "metadata": {
        "id": "NM-NmKCFtGZy"
      }
    },
    {
      "cell_type": "code",
      "source": [
        "def get_matplot_color(colors):\n",
        "    for color in colors.split():\n",
        "        if(color.lower() in matplotlib.colors.cnames.keys()):\n",
        "            return color.lower()\n",
        "    return color.lower()"
      ],
      "metadata": {
        "id": "LBq5WxZQtK0O"
      },
      "execution_count": 47,
      "outputs": []
    },
    {
      "cell_type": "code",
      "source": [
        "df[\"ext_col\"] = df[\"ext_col\"].apply(get_matplot_color)\n",
        "df[\"ext_col\"].unique()"
      ],
      "metadata": {
        "colab": {
          "base_uri": "https://localhost:8080/"
        },
        "id": "VXGpQTdOtN5R",
        "outputId": "21f594fc-468f-4b97-cb1d-01f1f26ac8e7"
      },
      "execution_count": 48,
      "outputs": [
        {
          "output_type": "execute_result",
          "data": {
            "text/plain": [
              "array(['black', 'cloud', 'blue', 'white', 'silver', 'green', 'yellow',\n",
              "       'gray', 'red', 'gold', 'metallic', 'eleos', 'orange', 'beige',\n",
              "       'grey', 'mica', 'mango!', 'monocerus', 'verde', 'pearl', 'blu',\n",
              "       'brown', 'tintcoat', 'snow', '–', 'maroon', 'ice', 'pearlcoat',\n",
              "       'onyx', 'chalk', 'purple', 'moss', 'tan', 'pink', 'yulong',\n",
              "       'corsa', 'sea', 'platinum', 'caviar', 'plum', 'isis', 'crimson',\n",
              "       'blueprint', 'sapphire', 'chromaflair', 'granite', 'tricoat',\n",
              "       'noctis', 'ember', 'nimbus', 'clearcoat', 'matte', 'color',\n",
              "       'borealis', 'rosso', 'rock', 'c'], dtype=object)"
            ]
          },
          "metadata": {},
          "execution_count": 48
        }
      ]
    },
    {
      "cell_type": "code",
      "source": [
        "top_10_ext_cols = df[\"ext_col\"].value_counts(ascending=False).index[:10]\n",
        "top_10_ext_cols"
      ],
      "metadata": {
        "colab": {
          "base_uri": "https://localhost:8080/"
        },
        "id": "sTCqvw73tSuU",
        "outputId": "64e5a87b-4d23-486c-b9cd-ec3af567e47d"
      },
      "execution_count": 49,
      "outputs": [
        {
          "output_type": "execute_result",
          "data": {
            "text/plain": [
              "Index(['black', 'white', 'gray', 'silver', 'blue', 'red', 'green', 'metallic',\n",
              "       'gold', 'brown'],\n",
              "      dtype='object', name='ext_col')"
            ]
          },
          "metadata": {},
          "execution_count": 49
        }
      ]
    },
    {
      "cell_type": "code",
      "source": [
        "def top_10_cols(x, cols):\n",
        "    if x in cols:\n",
        "        return x\n",
        "    else:\n",
        "        return \"other\""
      ],
      "metadata": {
        "id": "8fHfwr5ntWN5"
      },
      "execution_count": 50,
      "outputs": []
    },
    {
      "cell_type": "code",
      "source": [
        "df[\"ext_col\"] = df[\"ext_col\"].apply(lambda x: top_10_cols(x, top_10_ext_cols))\n",
        "df[\"ext_col\"].unique()"
      ],
      "metadata": {
        "colab": {
          "base_uri": "https://localhost:8080/"
        },
        "id": "hHXajUq4100U",
        "outputId": "0aa0be88-737f-47b3-e5a4-841f108389b5"
      },
      "execution_count": 51,
      "outputs": [
        {
          "output_type": "execute_result",
          "data": {
            "text/plain": [
              "array(['black', 'other', 'blue', 'white', 'silver', 'green', 'gray',\n",
              "       'red', 'gold', 'metallic', 'brown'], dtype=object)"
            ]
          },
          "metadata": {},
          "execution_count": 51
        }
      ]
    },
    {
      "cell_type": "markdown",
      "source": [
        "**Extracting interior color**"
      ],
      "metadata": {
        "id": "dELljC_G2V3g"
      }
    },
    {
      "cell_type": "code",
      "source": [
        "df[\"int_col\"] = df[\"int_col\"].apply(get_matplot_color)\n",
        "df[\"int_col\"].unique()"
      ],
      "metadata": {
        "colab": {
          "base_uri": "https://localhost:8080/"
        },
        "id": "vquWkQ2G2UHV",
        "outputId": "102df536-cd8e-40cb-9f6f-fd973a5632da"
      },
      "execution_count": 52,
      "outputs": [
        {
          "output_type": "execute_result",
          "data": {
            "text/plain": [
              "array(['black', 'gray', 'ebony.', 'green', 'ebony', 'brown', 'white',\n",
              "       'beige', 'anthracite', 'red', 'ade', 'blue', 'charcoal',\n",
              "       'beige/black', 'roast', 'ivory', 'pewter', 'ice', 'orange',\n",
              "       'caramel', 'orchid', 'graphite', 'tan/ebony', 'cappuccino', 'nero',\n",
              "       'tan', 'hotspur', 'blk', 'w/contrast', 'navy', 'parchment.',\n",
              "       'cloud', 'mesa', 'slate', 'gold', 'leather', 'tupelo', 'black/red',\n",
              "       'parchment', 'hide', 'mocha', 'portland', 'camel', 'ash',\n",
              "       'pimento', 'silver', 'graystone', 'sandstone', 'stone',\n",
              "       'macchiato', 'boulder', 'walnut', 'espresso', 'auburn',\n",
              "       'tan/ebony/ebony', 'amber', 'orange/black', 'titanium', 'platinum',\n",
              "       'stitch', 'shale', 'red/black', 'cypress', 'ceramic', 'galvanized',\n",
              "       'yellow', 'metal', 'brandy', 'linen', 'porpoise', 'oyster/black',\n",
              "       'gideon', 'chestnut', 'polar', 'garnet', 'accents', 'dune',\n",
              "       'beluga', 'sport', 'black/graphite', 'macchiato/magmagrey',\n",
              "       'chateau', 'tension', 'cashmere'], dtype=object)"
            ]
          },
          "metadata": {},
          "execution_count": 52
        }
      ]
    },
    {
      "cell_type": "code",
      "source": [
        "top_10_int_cols = df[\"int_col\"].value_counts(ascending=False).index[:10]\n",
        "top_10_int_cols"
      ],
      "metadata": {
        "colab": {
          "base_uri": "https://localhost:8080/"
        },
        "id": "TduqboGv2cgX",
        "outputId": "cb4065be-53c8-49ad-d6be-d5c6999b9a56"
      },
      "execution_count": 53,
      "outputs": [
        {
          "output_type": "execute_result",
          "data": {
            "text/plain": [
              "Index(['black', 'beige', 'gray', 'brown', 'red', 'white', 'ebony', 'blue',\n",
              "       'orange', 'silver'],\n",
              "      dtype='object', name='int_col')"
            ]
          },
          "metadata": {},
          "execution_count": 53
        }
      ]
    },
    {
      "cell_type": "code",
      "source": [
        "df[\"int_col\"] = df[\"int_col\"].apply(lambda x: top_10_cols(x, top_10_int_cols))\n",
        "df[\"int_col\"].unique()"
      ],
      "metadata": {
        "colab": {
          "base_uri": "https://localhost:8080/"
        },
        "id": "xynyGQCn2ho_",
        "outputId": "bdee1a73-6ac2-4d32-e1cc-12237fd80ddc"
      },
      "execution_count": 54,
      "outputs": [
        {
          "output_type": "execute_result",
          "data": {
            "text/plain": [
              "array(['black', 'gray', 'other', 'ebony', 'brown', 'white', 'beige',\n",
              "       'red', 'blue', 'orange', 'silver'], dtype=object)"
            ]
          },
          "metadata": {},
          "execution_count": 54
        }
      ]
    },
    {
      "cell_type": "markdown",
      "source": [
        "**Brand vs Avg Price**"
      ],
      "metadata": {
        "id": "NWewINiZ2m1C"
      }
    },
    {
      "cell_type": "code",
      "source": [
        "temp = df[[\"brand\",\"price\"]].groupby(\"brand\").mean().sort_values(\"price\",ascending = False)\n",
        "ax = temp.plot(kind=\"bar\", figsize=(15, 5))\n",
        "for container in ax.containers:\n",
        "    ax.bar_label(container, rotation = 90)\n",
        "plt.ylabel(\"Avg Price\")\n",
        "plt.xlabel(\"Brands\")\n",
        "plt.title(\"Brand vs Avg Price\");"
      ],
      "metadata": {
        "colab": {
          "base_uri": "https://localhost:8080/",
          "height": 540
        },
        "id": "SIFZejra25o5",
        "outputId": "1713c71b-5639-4225-ee48-9cea8b990b23"
      },
      "execution_count": 55,
      "outputs": [
        {
          "output_type": "display_data",
          "data": {
            "text/plain": [
              "<Figure size 1500x500 with 1 Axes>"
            ],
            "image/png": "[encoded data removed]"
          },
          "metadata": {}
        }
      ]
    },
    {
      "cell_type": "code",
      "source": [
        "car_index = df[[\"brand\",\"price\"]].groupby(\"brand\").mean().sort_values(\"price\",ascending = False).index\n",
        "car_index"
      ],
      "metadata": {
        "colab": {
          "base_uri": "https://localhost:8080/"
        },
        "id": "Kn3tB6iv3ESv",
        "outputId": "9272c19e-aa34-4883-c5e9-0a569132c232"
      },
      "execution_count": 56,
      "outputs": [
        {
          "output_type": "execute_result",
          "data": {
            "text/plain": [
              "Index(['Bugatti', 'Rolls-Royce', 'Lamborghini', 'Ferrari', 'McLaren',\n",
              "       'Maserati', 'Bentley', 'Aston', 'Porsche', 'Land', 'Lotus',\n",
              "       'Mercedes-Benz', 'RAM', 'Genesis', 'Cadillac', 'BMW', 'Audi', 'Alfa',\n",
              "       'Chevrolet', 'GMC', 'Lexus', 'Dodge', 'Ford', 'Jaguar', 'Jeep',\n",
              "       'Toyota', 'Plymouth', 'Kia', 'Lincoln', 'Acura', 'Nissan', 'Volvo',\n",
              "       'INFINITI', 'Honda', 'Volkswagen', 'Subaru', 'Mazda', 'Buick', 'Hummer',\n",
              "       'Mercury', 'Hyundai', 'Mitsubishi', 'FIAT', 'Chrysler', 'MINI',\n",
              "       'Pontiac', 'Saturn', 'Saab', 'Scion', 'Suzuki', 'smart'],\n",
              "      dtype='object', name='brand')"
            ]
          },
          "metadata": {},
          "execution_count": 56
        }
      ]
    },
    {
      "cell_type": "code",
      "source": [
        "luxury_car_brand = car_index[:7]\n",
        "premium_car_brand = car_index[7:24]\n",
        "expensive_car_brand = car_index[24:47]\n",
        "cheap_car_brand = car_index[47:]"
      ],
      "metadata": {
        "id": "rj7lcoNb3M22"
      },
      "execution_count": 57,
      "outputs": []
    },
    {
      "cell_type": "code",
      "source": [
        "luxury_car_brand, premium_car_brand, expensive_car_brand, cheap_car_brand"
      ],
      "metadata": {
        "colab": {
          "base_uri": "https://localhost:8080/"
        },
        "id": "uH4y9rVE3YiQ",
        "outputId": "532e951c-f7ca-4390-c866-2fb6960a014f"
      },
      "execution_count": 58,
      "outputs": [
        {
          "output_type": "execute_result",
          "data": {
            "text/plain": [
              "(Index(['Bugatti', 'Rolls-Royce', 'Lamborghini', 'Ferrari', 'McLaren',\n",
              "        'Maserati', 'Bentley'],\n",
              "       dtype='object', name='brand'),\n",
              " Index(['Aston', 'Porsche', 'Land', 'Lotus', 'Mercedes-Benz', 'RAM', 'Genesis',\n",
              "        'Cadillac', 'BMW', 'Audi', 'Alfa', 'Chevrolet', 'GMC', 'Lexus', 'Dodge',\n",
              "        'Ford', 'Jaguar'],\n",
              "       dtype='object', name='brand'),\n",
              " Index(['Jeep', 'Toyota', 'Plymouth', 'Kia', 'Lincoln', 'Acura', 'Nissan',\n",
              "        'Volvo', 'INFINITI', 'Honda', 'Volkswagen', 'Subaru', 'Mazda', 'Buick',\n",
              "        'Hummer', 'Mercury', 'Hyundai', 'Mitsubishi', 'FIAT', 'Chrysler',\n",
              "        'MINI', 'Pontiac', 'Saturn'],\n",
              "       dtype='object', name='brand'),\n",
              " Index(['Saab', 'Scion', 'Suzuki', 'smart'], dtype='object', name='brand'))"
            ]
          },
          "metadata": {},
          "execution_count": 58
        }
      ]
    },
    {
      "cell_type": "markdown",
      "source": [
        "**Conclusion**\n",
        "\n",
        "\n",
        "*   We can see that Brands with higher avg prices are mostly sports cars (like Bugatti, Lamborghini) and luxury cars like (Rolls Royce and Bentley)\n",
        "\n",
        "*   Bugatti has comparitively higher avg price as expected\n",
        "\n",
        "*   While Scion which was a sub brand of Toyota has lowest avg price - as the brand was disconitinued and most of the models were absorbed to Toyota's line up\n"
      ],
      "metadata": {
        "id": "uSm7B9Ig3dvM"
      }
    },
    {
      "cell_type": "markdown",
      "source": [
        "**Top 10 Brands with Highest Avg Pricing**"
      ],
      "metadata": {
        "id": "ktIpKbj94CJd"
      }
    },
    {
      "cell_type": "code",
      "source": [
        "temp = df[[\"brand\",\"price\"]].groupby(\"brand\").mean().sort_values(\"price\",ascending = True).tail(10)\n",
        "ax = temp.plot(kind=\"barh\", figsize=(15, 5))\n",
        "for container in ax.containers:\n",
        "    ax.bar_label(container)\n",
        "plt.ylabel(\"Avg Price\")\n",
        "plt.xlabel(\"Brands\")\n",
        "plt.title(\"Top 10 Brand with Highest Avg Price\");"
      ],
      "metadata": {
        "colab": {
          "base_uri": "https://localhost:8080/",
          "height": 404
        },
        "id": "YGkmmL5-4EGw",
        "outputId": "5fa147c0-5cfa-4d34-844f-e0a36e89598f"
      },
      "execution_count": 59,
      "outputs": [
        {
          "output_type": "display_data",
          "data": {
            "text/plain": [
              "<Figure size 1500x500 with 1 Axes>"
            ],
            "image/png": "[encoded data removed]"
          },
          "metadata": {}
        }
      ]
    },
    {
      "cell_type": "markdown",
      "source": [
        "**Brands vs No. of Listings**"
      ],
      "metadata": {
        "id": "COSfHGfE4L51"
      }
    },
    {
      "cell_type": "code",
      "source": [
        "df[\"brand\"].value_counts().plot(kind=\"bar\", figsize=(15, 5))\n",
        "plt.ylabel(\"No. of Listing\")\n",
        "plt.xlabel(\"Brands\")\n",
        "plt.title(\"Brand vs No. of Listing\");"
      ],
      "metadata": {
        "colab": {
          "base_uri": "https://localhost:8080/",
          "height": 510
        },
        "id": "3U-J0N934Ov7",
        "outputId": "7e534c7d-2a42-46b9-d86b-26adea4a51ea"
      },
      "execution_count": 60,
      "outputs": [
        {
          "output_type": "display_data",
          "data": {
            "text/plain": [
              "<Figure size 1500x500 with 1 Axes>"
            ],
            "image/png": "[encoded data removed]"
          },
          "metadata": {}
        }
      ]
    },
    {
      "cell_type": "markdown",
      "source": [
        "**Conclusion**\n",
        "\n",
        "*   Ford has highest number of listings making it common in the used market\n",
        "*   Mercedes Benz, BMW and Chevrolet follows Ford\n"
      ],
      "metadata": {
        "id": "eaR4gJMC4VAO"
      }
    },
    {
      "cell_type": "markdown",
      "source": [
        "**Top 10 Brands with Highest No. of Listings**"
      ],
      "metadata": {
        "id": "w7q9aMFV4h1z"
      }
    },
    {
      "cell_type": "code",
      "source": [
        "ax = df[\"brand\"].value_counts(ascending=True).tail(10).plot(kind=\"barh\", figsize=(15, 5))\n",
        "for container in ax.containers:\n",
        "    ax.bar_label(container)\n",
        "plt.ylabel(\"No. of Listing\")\n",
        "plt.xlabel(\"Brands\")\n",
        "plt.title(\"Brand vs No. of Listing\");"
      ],
      "metadata": {
        "colab": {
          "base_uri": "https://localhost:8080/",
          "height": 405
        },
        "id": "vH0hiTcI4luO",
        "outputId": "b6a4d6c1-2b42-4082-dab9-2969cbc778e2"
      },
      "execution_count": 61,
      "outputs": [
        {
          "output_type": "display_data",
          "data": {
            "text/plain": [
              "<Figure size 1500x500 with 1 Axes>"
            ],
            "image/png": "[encoded data removed]"
          },
          "metadata": {}
        }
      ]
    },
    {
      "cell_type": "markdown",
      "source": [
        "**Analysis on Top 10 Brands vs Accidents**"
      ],
      "metadata": {
        "id": "RhiPAGSg4wTo"
      }
    },
    {
      "cell_type": "code",
      "source": [
        "def with_hue(plot, feature, Number_of_categories, hue_categories):\n",
        "    a = [p.get_height() for p in plot.patches]\n",
        "    patch = [p for p in plot.patches]\n",
        "    for i in range(Number_of_categories):\n",
        "        total = feature.value_counts().values[i]\n",
        "        for j in range(hue_categories):\n",
        "            percentage = '{:.1f}%'.format(100 * a[(j*Number_of_categories + i)]/total)\n",
        "            x = patch[(j*Number_of_categories + i)].get_x() + patch[(j*Number_of_categories + i)].get_width() / 2 - 0.15\n",
        "            y = patch[(j*Number_of_categories + i)].get_y() + patch[(j*Number_of_categories + i)].get_height() + 200\n",
        "            ax.annotate(percentage, (x, y), size = 8)\n",
        "    plt.show()"
      ],
      "metadata": {
        "id": "tiBliTSF4x7O"
      },
      "execution_count": 62,
      "outputs": []
    },
    {
      "cell_type": "code",
      "source": [
        "top_10_df = df[df[\"brand\"].isin(list(df[\"brand\"].value_counts().head(10).index))]\n",
        "order = df[\"brand\"].value_counts().head(10).index\n",
        "plt.figure(figsize=(15,5))\n",
        "ax = sns.countplot(top_10_df, x = \"brand\", hue = \"accident\", order=order)\n",
        "plt.xlabel(\"Brands\")\n",
        "plt.ylabel(\"Count\")\n",
        "plt.title(\"Top 10 Brands with Highest Listings vs Accident History\")\n",
        "with_hue(ax, df[\"brand\"], 10, 3)"
      ],
      "metadata": {
        "colab": {
          "base_uri": "https://localhost:8080/",
          "height": 430
        },
        "id": "9cNUwfVt43ZM",
        "outputId": "b11e76aa-2e8e-4c61-9961-fb854d60ab99"
      },
      "execution_count": 63,
      "outputs": [
        {
          "output_type": "display_data",
          "data": {
            "text/plain": [
              "<Figure size 1500x500 with 1 Axes>"
            ],
            "image/png": "[encoded data removed]"
          },
          "metadata": {}
        }
      ]
    },
    {
      "cell_type": "markdown",
      "source": [
        "# **4. Data Preparation**"
      ],
      "metadata": {
        "id": "6Dl965JQ5GMV"
      }
    },
    {
      "cell_type": "code",
      "source": [
        "df.info()"
      ],
      "metadata": {
        "colab": {
          "base_uri": "https://localhost:8080/"
        },
        "id": "PS7xDPPq5Kix",
        "outputId": "72ce0870-40d6-4f95-f410-055b2926ff0d"
      },
      "execution_count": 64,
      "outputs": [
        {
          "output_type": "stream",
          "name": "stdout",
          "text": [
            "<class 'pandas.core.frame.DataFrame'>\n",
            "Index: 3664 entries, 0 to 4008\n",
            "Data columns (total 15 columns):\n",
            " #   Column           Non-Null Count  Dtype  \n",
            "---  ------           --------------  -----  \n",
            " 0   brand            3664 non-null   object \n",
            " 1   model            3664 non-null   object \n",
            " 2   model_year       3664 non-null   int64  \n",
            " 3   milage           3664 non-null   int64  \n",
            " 4   fuel_type        3664 non-null   object \n",
            " 5   engine           3664 non-null   object \n",
            " 6   transmission     3664 non-null   object \n",
            " 7   ext_col          3664 non-null   object \n",
            " 8   int_col          3664 non-null   object \n",
            " 9   accident         3664 non-null   object \n",
            " 10  clean_title      3664 non-null   object \n",
            " 11  price            3664 non-null   int64  \n",
            " 12  hp               3664 non-null   float64\n",
            " 13  engine_capacity  3664 non-null   float64\n",
            " 14  cylinders        3664 non-null   int64  \n",
            "dtypes: float64(2), int64(4), object(9)\n",
            "memory usage: 458.0+ KB\n"
          ]
        }
      ]
    },
    {
      "cell_type": "markdown",
      "source": [
        "**Preparing Brand Category Attribute**"
      ],
      "metadata": {
        "id": "Pts9Y0oH5hDK"
      }
    },
    {
      "cell_type": "code",
      "source": [
        "def brand_category(x):\n",
        "    if x in luxury_car_brand:\n",
        "        return \"luxury\"\n",
        "    elif x in premium_car_brand:\n",
        "        return \"premium\"\n",
        "    elif x in expensive_car_brand:\n",
        "        return \"expensive\"\n",
        "    elif x in cheap_car_brand:\n",
        "        return \"cheap\"\n",
        "    return \"other\""
      ],
      "metadata": {
        "id": "vfNdClVw5md_"
      },
      "execution_count": 65,
      "outputs": []
    },
    {
      "cell_type": "code",
      "source": [
        "df[\"brand_category\"] = df[\"brand\"].apply(brand_category)\n",
        "df[\"brand_category\"].head()"
      ],
      "metadata": {
        "colab": {
          "base_uri": "https://localhost:8080/",
          "height": 241
        },
        "id": "o_mgmF9Z5tzJ",
        "outputId": "bdb279d4-43eb-464a-fe61-7e32de7e82f7"
      },
      "execution_count": 66,
      "outputs": [
        {
          "output_type": "execute_result",
          "data": {
            "text/plain": [
              "0      premium\n",
              "1    expensive\n",
              "2      premium\n",
              "3    expensive\n",
              "4      premium\n",
              "Name: brand_category, dtype: object"
            ],
            "text/html": [
              "<div>\n",
              "<style scoped>\n",
              "    .dataframe tbody tr th:only-of-type {\n",
              "        vertical-align: middle;\n",
              "    }\n",
              "\n",
              "    .dataframe tbody tr th {\n",
              "        vertical-align: top;\n",
              "    }\n",
              "\n",
              "    .dataframe thead th {\n",
              "        text-align: right;\n",
              "    }\n",
              "</style>\n",
              "<table border=\"1\" class=\"dataframe\">\n",
              "  <thead>\n",
              "    <tr style=\"text-align: right;\">\n",
              "      <th></th>\n",
              "      <th>brand_category</th>\n",
              "    </tr>\n",
              "  </thead>\n",
              "  <tbody>\n",
              "    <tr>\n",
              "      <th>0</th>\n",
              "      <td>premium</td>\n",
              "    </tr>\n",
              "    <tr>\n",
              "      <th>1</th>\n",
              "      <td>expensive</td>\n",
              "    </tr>\n",
              "    <tr>\n",
              "      <th>2</th>\n",
              "      <td>premium</td>\n",
              "    </tr>\n",
              "    <tr>\n",
              "      <th>3</th>\n",
              "      <td>expensive</td>\n",
              "    </tr>\n",
              "    <tr>\n",
              "      <th>4</th>\n",
              "      <td>premium</td>\n",
              "    </tr>\n",
              "  </tbody>\n",
              "</table>\n",
              "</div><br><label><b>dtype:</b> object</label>"
            ]
          },
          "metadata": {},
          "execution_count": 66
        }
      ]
    },
    {
      "cell_type": "markdown",
      "source": [
        "**Preparing Brand Attribute**"
      ],
      "metadata": {
        "id": "AWGojWB654c1"
      }
    },
    {
      "cell_type": "code",
      "source": [
        "top_10_pricing_cars = df[[\"brand\",\"price\"]].groupby(\"brand\").mean().sort_values(\"price\",ascending = True).tail(10).index\n",
        "top_10_listing_cars = df[\"brand\"].value_counts(ascending=True).tail(10).index"
      ],
      "metadata": {
        "id": "-sVaeOO46AcH"
      },
      "execution_count": 67,
      "outputs": []
    },
    {
      "cell_type": "code",
      "source": [
        "def prepare_brand_value(x):\n",
        "    if(x in top_10_pricing_cars or x in top_10_listing_cars):\n",
        "        return x\n",
        "    else:\n",
        "        return \"Other\""
      ],
      "metadata": {
        "id": "KmkwfzuI6HK5"
      },
      "execution_count": 68,
      "outputs": []
    },
    {
      "cell_type": "code",
      "source": [
        "df[\"brand\"] = df[\"brand\"].apply(prepare_brand_value)\n",
        "df[\"brand\"].value_counts()"
      ],
      "metadata": {
        "colab": {
          "base_uri": "https://localhost:8080/",
          "height": 711
        },
        "id": "Pi4eQ52-6M0G",
        "outputId": "862633f0-64a3-40fe-ac9a-35ec4a668749"
      },
      "execution_count": 69,
      "outputs": [
        {
          "output_type": "execute_result",
          "data": {
            "text/plain": [
              "brand\n",
              "Other            1274\n",
              "BMW               365\n",
              "Ford              352\n",
              "Mercedes-Benz     297\n",
              "Chevrolet         279\n",
              "Audi              189\n",
              "Toyota            185\n",
              "Porsche           180\n",
              "Lexus             159\n",
              "Jeep              135\n",
              "Land              125\n",
              "Maserati           33\n",
              "Bentley            32\n",
              "Lamborghini        26\n",
              "Aston               9\n",
              "Ferrari             9\n",
              "Rolls-Royce         8\n",
              "McLaren             6\n",
              "Bugatti             1\n",
              "Name: count, dtype: int64"
            ],
            "text/html": [
              "<div>\n",
              "<style scoped>\n",
              "    .dataframe tbody tr th:only-of-type {\n",
              "        vertical-align: middle;\n",
              "    }\n",
              "\n",
              "    .dataframe tbody tr th {\n",
              "        vertical-align: top;\n",
              "    }\n",
              "\n",
              "    .dataframe thead th {\n",
              "        text-align: right;\n",
              "    }\n",
              "</style>\n",
              "<table border=\"1\" class=\"dataframe\">\n",
              "  <thead>\n",
              "    <tr style=\"text-align: right;\">\n",
              "      <th></th>\n",
              "      <th>count</th>\n",
              "    </tr>\n",
              "    <tr>\n",
              "      <th>brand</th>\n",
              "      <th></th>\n",
              "    </tr>\n",
              "  </thead>\n",
              "  <tbody>\n",
              "    <tr>\n",
              "      <th>Other</th>\n",
              "      <td>1274</td>\n",
              "    </tr>\n",
              "    <tr>\n",
              "      <th>BMW</th>\n",
              "      <td>365</td>\n",
              "    </tr>\n",
              "    <tr>\n",
              "      <th>Ford</th>\n",
              "      <td>352</td>\n",
              "    </tr>\n",
              "    <tr>\n",
              "      <th>Mercedes-Benz</th>\n",
              "      <td>297</td>\n",
              "    </tr>\n",
              "    <tr>\n",
              "      <th>Chevrolet</th>\n",
              "      <td>279</td>\n",
              "    </tr>\n",
              "    <tr>\n",
              "      <th>Audi</th>\n",
              "      <td>189</td>\n",
              "    </tr>\n",
              "    <tr>\n",
              "      <th>Toyota</th>\n",
              "      <td>185</td>\n",
              "    </tr>\n",
              "    <tr>\n",
              "      <th>Porsche</th>\n",
              "      <td>180</td>\n",
              "    </tr>\n",
              "    <tr>\n",
              "      <th>Lexus</th>\n",
              "      <td>159</td>\n",
              "    </tr>\n",
              "    <tr>\n",
              "      <th>Jeep</th>\n",
              "      <td>135</td>\n",
              "    </tr>\n",
              "    <tr>\n",
              "      <th>Land</th>\n",
              "      <td>125</td>\n",
              "    </tr>\n",
              "    <tr>\n",
              "      <th>Maserati</th>\n",
              "      <td>33</td>\n",
              "    </tr>\n",
              "    <tr>\n",
              "      <th>Bentley</th>\n",
              "      <td>32</td>\n",
              "    </tr>\n",
              "    <tr>\n",
              "      <th>Lamborghini</th>\n",
              "      <td>26</td>\n",
              "    </tr>\n",
              "    <tr>\n",
              "      <th>Aston</th>\n",
              "      <td>9</td>\n",
              "    </tr>\n",
              "    <tr>\n",
              "      <th>Ferrari</th>\n",
              "      <td>9</td>\n",
              "    </tr>\n",
              "    <tr>\n",
              "      <th>Rolls-Royce</th>\n",
              "      <td>8</td>\n",
              "    </tr>\n",
              "    <tr>\n",
              "      <th>McLaren</th>\n",
              "      <td>6</td>\n",
              "    </tr>\n",
              "    <tr>\n",
              "      <th>Bugatti</th>\n",
              "      <td>1</td>\n",
              "    </tr>\n",
              "  </tbody>\n",
              "</table>\n",
              "</div><br><label><b>dtype:</b> int64</label>"
            ]
          },
          "metadata": {},
          "execution_count": 69
        }
      ]
    },
    {
      "cell_type": "markdown",
      "source": [
        "**Extracting Age Attribute from model_year**"
      ],
      "metadata": {
        "id": "zei1CoRu6RwV"
      }
    },
    {
      "cell_type": "code",
      "source": [
        "def extract_age(x):\n",
        "    return datetime.now().year - x"
      ],
      "metadata": {
        "id": "RHlyswCR6WoM"
      },
      "execution_count": 70,
      "outputs": []
    },
    {
      "cell_type": "code",
      "source": [
        "df[\"age\"] = df[\"model_year\"].apply(extract_age)\n",
        "df[\"age\"].head()"
      ],
      "metadata": {
        "colab": {
          "base_uri": "https://localhost:8080/",
          "height": 241
        },
        "id": "mmOX_m8S6Zn_",
        "outputId": "615aad8d-9fbc-4506-f56e-c8642a1b3827"
      },
      "execution_count": 71,
      "outputs": [
        {
          "output_type": "execute_result",
          "data": {
            "text/plain": [
              "0    11\n",
              "1     3\n",
              "2     2\n",
              "3     9\n",
              "4     3\n",
              "Name: age, dtype: int64"
            ],
            "text/html": [
              "<div>\n",
              "<style scoped>\n",
              "    .dataframe tbody tr th:only-of-type {\n",
              "        vertical-align: middle;\n",
              "    }\n",
              "\n",
              "    .dataframe tbody tr th {\n",
              "        vertical-align: top;\n",
              "    }\n",
              "\n",
              "    .dataframe thead th {\n",
              "        text-align: right;\n",
              "    }\n",
              "</style>\n",
              "<table border=\"1\" class=\"dataframe\">\n",
              "  <thead>\n",
              "    <tr style=\"text-align: right;\">\n",
              "      <th></th>\n",
              "      <th>age</th>\n",
              "    </tr>\n",
              "  </thead>\n",
              "  <tbody>\n",
              "    <tr>\n",
              "      <th>0</th>\n",
              "      <td>11</td>\n",
              "    </tr>\n",
              "    <tr>\n",
              "      <th>1</th>\n",
              "      <td>3</td>\n",
              "    </tr>\n",
              "    <tr>\n",
              "      <th>2</th>\n",
              "      <td>2</td>\n",
              "    </tr>\n",
              "    <tr>\n",
              "      <th>3</th>\n",
              "      <td>9</td>\n",
              "    </tr>\n",
              "    <tr>\n",
              "      <th>4</th>\n",
              "      <td>3</td>\n",
              "    </tr>\n",
              "  </tbody>\n",
              "</table>\n",
              "</div><br><label><b>dtype:</b> int64</label>"
            ]
          },
          "metadata": {},
          "execution_count": 71
        }
      ]
    },
    {
      "cell_type": "markdown",
      "source": [
        "# **4.1. One Hot Encoding Categorical Values**"
      ],
      "metadata": {
        "id": "Unc4LZx86qz1"
      }
    },
    {
      "cell_type": "code",
      "source": [
        "def one_hot_encode(df, categories, other_col = None):\n",
        "    data = []\n",
        "    col = df.columns[0]\n",
        "    for value in df[col].values:\n",
        "        cat_map = {}\n",
        "        for cat in categories:\n",
        "            if(cat == other_col):\n",
        "                continue\n",
        "            cat_map[col + \"_\" + cat] = 0\n",
        "        if(col + \"_\" + value in cat_map):\n",
        "            cat_map[col + \"_\" + value] = 1\n",
        "        data.append(cat_map)\n",
        "    result = pd.DataFrame.from_dict(data)\n",
        "    result.index = df.index\n",
        "    return result"
      ],
      "metadata": {
        "id": "9o3zJ0536vVI"
      },
      "execution_count": 72,
      "outputs": []
    },
    {
      "cell_type": "code",
      "source": [
        "df = pd.concat([df, one_hot_encode(df[[\"brand\"]], df[\"brand\"].unique(), other_col=\"Other\")], axis=1, ignore_index=False)\n",
        "df.head()"
      ],
      "metadata": {
        "colab": {
          "base_uri": "https://localhost:8080/",
          "height": 568
        },
        "id": "shkqFKqu7BUe",
        "outputId": "0013b363-e74a-4353-aee3-5d44d3d9a181"
      },
      "execution_count": 73,
      "outputs": [
        {
          "output_type": "execute_result",
          "data": {
            "text/plain": [
              "   brand                            model  model_year  milage      fuel_type  \\\n",
              "0   Ford  Utility Police Interceptor Base        2013   51000  E85 Flex Fuel   \n",
              "1  Other                     Palisade SEL        2021   34742       Gasoline   \n",
              "2  Lexus                    RX 350 RX 350        2022   22372       Gasoline   \n",
              "3  Other                 Q50 Hybrid Sport        2015   88900         Hybrid   \n",
              "4   Audi        Q3 45 S line Premium Plus        2021    9835       Gasoline   \n",
              "\n",
              "                                              engine transmission ext_col  \\\n",
              "0  300.0HP 3.7L V6 Cylinder Engine Flex Fuel Capa...    Automatic   black   \n",
              "1                               3.8L V6 24V GDI DOHC    Automatic   other   \n",
              "2                                     3.5 Liter DOHC    Automatic    blue   \n",
              "3  354.0HP 3.5L V6 Cylinder Engine Gas/Electric H...    Automatic   black   \n",
              "4                         2.0L I4 16V GDI DOHC Turbo    Automatic   white   \n",
              "\n",
              "  int_col                                accident  ... brand_Chevrolet  \\\n",
              "0   black  At least 1 accident or damage reported  ...               0   \n",
              "1    gray  At least 1 accident or damage reported  ...               0   \n",
              "2   black                           None reported  ...               0   \n",
              "3   black                           None reported  ...               0   \n",
              "4   black                           None reported  ...               0   \n",
              "\n",
              "   brand_Jeep  brand_Bentley  brand_Porsche  brand_Lamborghini brand_Maserati  \\\n",
              "0           0              0              0                  0              0   \n",
              "1           0              0              0                  0              0   \n",
              "2           0              0              0                  0              0   \n",
              "3           0              0              0                  0              0   \n",
              "4           0              0              0                  0              0   \n",
              "\n",
              "   brand_Ferrari  brand_Bugatti  brand_McLaren  brand_Rolls-Royce  \n",
              "0              0              0              0                  0  \n",
              "1              0              0              0                  0  \n",
              "2              0              0              0                  0  \n",
              "3              0              0              0                  0  \n",
              "4              0              0              0                  0  \n",
              "\n",
              "[5 rows x 35 columns]"
            ],
            "text/html": [
              "\n",
              "  <div id=\"df-675aeeaf-b3e4-4151-8daf-97b9f8bfec54\" class=\"colab-df-container\">\n",
              "    <div>\n",
              "<style scoped>\n",
              "    .dataframe tbody tr th:only-of-type {\n",
              "        vertical-align: middle;\n",
              "    }\n",
              "\n",
              "    .dataframe tbody tr th {\n",
              "        vertical-align: top;\n",
              "    }\n",
              "\n",
              "    .dataframe thead th {\n",
              "        text-align: right;\n",
              "    }\n",
              "</style>\n",
              "<table border=\"1\" class=\"dataframe\">\n",
              "  <thead>\n",
              "    <tr style=\"text-align: right;\">\n",
              "      <th></th>\n",
              "      <th>brand</th>\n",
              "      <th>model</th>\n",
              "      <th>model_year</th>\n",
              "      <th>milage</th>\n",
              "      <th>fuel_type</th>\n",
              "      <th>engine</th>\n",
              "      <th>transmission</th>\n",
              "      <th>ext_col</th>\n",
              "      <th>int_col</th>\n",
              "      <th>accident</th>\n",
              "      <th>...</th>\n",
              "      <th>brand_Chevrolet</th>\n",
              "      <th>brand_Jeep</th>\n",
              "      <th>brand_Bentley</th>\n",
              "      <th>brand_Porsche</th>\n",
              "      <th>brand_Lamborghini</th>\n",
              "      <th>brand_Maserati</th>\n",
              "      <th>brand_Ferrari</th>\n",
              "      <th>brand_Bugatti</th>\n",
              "      <th>brand_McLaren</th>\n",
              "      <th>brand_Rolls-Royce</th>\n",
              "    </tr>\n",
              "  </thead>\n",
              "  <tbody>\n",
              "    <tr>\n",
              "      <th>0</th>\n",
              "      <td>Ford</td>\n",
              "      <td>Utility Police Interceptor Base</td>\n",
              "      <td>2013</td>\n",
              "      <td>51000</td>\n",
              "      <td>E85 Flex Fuel</td>\n",
              "      <td>300.0HP 3.7L V6 Cylinder Engine Flex Fuel Capa...</td>\n",
              "      <td>Automatic</td>\n",
              "      <td>black</td>\n",
              "      <td>black</td>\n",
              "      <td>At least 1 accident or damage reported</td>\n",
              "      <td>...</td>\n",
              "      <td>0</td>\n",
              "      <td>0</td>\n",
              "      <td>0</td>\n",
              "      <td>0</td>\n",
              "      <td>0</td>\n",
              "      <td>0</td>\n",
              "      <td>0</td>\n",
              "      <td>0</td>\n",
              "      <td>0</td>\n",
              "      <td>0</td>\n",
              "    </tr>\n",
              "    <tr>\n",
              "      <th>1</th>\n",
              "      <td>Other</td>\n",
              "      <td>Palisade SEL</td>\n",
              "      <td>2021</td>\n",
              "      <td>34742</td>\n",
              "      <td>Gasoline</td>\n",
              "      <td>3.8L V6 24V GDI DOHC</td>\n",
              "      <td>Automatic</td>\n",
              "      <td>other</td>\n",
              "      <td>gray</td>\n",
              "      <td>At least 1 accident or damage reported</td>\n",
              "      <td>...</td>\n",
              "      <td>0</td>\n",
              "      <td>0</td>\n",
              "      <td>0</td>\n",
              "      <td>0</td>\n",
              "      <td>0</td>\n",
              "      <td>0</td>\n",
              "      <td>0</td>\n",
              "      <td>0</td>\n",
              "      <td>0</td>\n",
              "      <td>0</td>\n",
              "    </tr>\n",
              "    <tr>\n",
              "      <th>2</th>\n",
              "      <td>Lexus</td>\n",
              "      <td>RX 350 RX 350</td>\n",
              "      <td>2022</td>\n",
              "      <td>22372</td>\n",
              "      <td>Gasoline</td>\n",
              "      <td>3.5 Liter DOHC</td>\n",
              "      <td>Automatic</td>\n",
              "      <td>blue</td>\n",
              "      <td>black</td>\n",
              "      <td>None reported</td>\n",
              "      <td>...</td>\n",
              "      <td>0</td>\n",
              "      <td>0</td>\n",
              "      <td>0</td>\n",
              "      <td>0</td>\n",
              "      <td>0</td>\n",
              "      <td>0</td>\n",
              "      <td>0</td>\n",
              "      <td>0</td>\n",
              "      <td>0</td>\n",
              "      <td>0</td>\n",
              "    </tr>\n",
              "    <tr>\n",
              "      <th>3</th>\n",
              "      <td>Other</td>\n",
              "      <td>Q50 Hybrid Sport</td>\n",
              "      <td>2015</td>\n",
              "      <td>88900</td>\n",
              "      <td>Hybrid</td>\n",
              "      <td>354.0HP 3.5L V6 Cylinder Engine Gas/Electric H...</td>\n",
              "      <td>Automatic</td>\n",
              "      <td>black</td>\n",
              "      <td>black</td>\n",
              "      <td>None reported</td>\n",
              "      <td>...</td>\n",
              "      <td>0</td>\n",
              "      <td>0</td>\n",
              "      <td>0</td>\n",
              "      <td>0</td>\n",
              "      <td>0</td>\n",
              "      <td>0</td>\n",
              "      <td>0</td>\n",
              "      <td>0</td>\n",
              "      <td>0</td>\n",
              "      <td>0</td>\n",
              "    </tr>\n",
              "    <tr>\n",
              "      <th>4</th>\n",
              "      <td>Audi</td>\n",
              "      <td>Q3 45 S line Premium Plus</td>\n",
              "      <td>2021</td>\n",
              "      <td>9835</td>\n",
              "      <td>Gasoline</td>\n",
              "      <td>2.0L I4 16V GDI DOHC Turbo</td>\n",
              "      <td>Automatic</td>\n",
              "      <td>white</td>\n",
              "      <td>black</td>\n",
              "      <td>None reported</td>\n",
              "      <td>...</td>\n",
              "      <td>0</td>\n",
              "      <td>0</td>\n",
              "      <td>0</td>\n",
              "      <td>0</td>\n",
              "      <td>0</td>\n",
              "      <td>0</td>\n",
              "      <td>0</td>\n",
              "      <td>0</td>\n",
              "      <td>0</td>\n",
              "      <td>0</td>\n",
              "    </tr>\n",
              "  </tbody>\n",
              "</table>\n",
              "<p>5 rows × 35 columns</p>\n",
              "</div>\n",
              "    <div class=\"colab-df-buttons\">\n",
              "\n",
              "  <div class=\"colab-df-container\">\n",
              "    <button class=\"colab-df-convert\" onclick=\"convertToInteractive('df-675aeeaf-b3e4-4151-8daf-97b9f8bfec54')\"\n",
              "            title=\"Convert this dataframe to an interactive table.\"\n",
              "            style=\"display:none;\">\n",
              "\n",
              "  <svg xmlns=\"http://www.w3.org/2000/svg\" height=\"24px\" viewBox=\"0 -960 960 960\">\n",
              "    <path d=\"M120-120v-720h720v720H120Zm60-500h600v-160H180v160Zm220 220h160v-160H400v160Zm0 220h160v-160H400v160ZM180-400h160v-160H180v160Zm440 0h160v-160H620v160ZM180-180h160v-160H180v160Zm440 0h160v-160H620v160Z\"/>\n",
              "  </svg>\n",
              "    </button>\n",
              "\n",
              "  <style>\n",
              "    .colab-df-container {\n",
              "      display:flex;\n",
              "      gap: 12px;\n",
              "    }\n",
              "\n",
              "    .colab-df-convert {\n",
              "      background-color: #E8F0FE;\n",
              "      border: none;\n",
              "      border-radius: 50%;\n",
              "      cursor: pointer;\n",
              "      display: none;\n",
              "      fill: #1967D2;\n",
              "      height: 32px;\n",
              "      padding: 0 0 0 0;\n",
              "      width: 32px;\n",
              "    }\n",
              "\n",
              "    .colab-df-convert:hover {\n",
              "      background-color: #E2EBFA;\n",
              "      box-shadow: 0px 1px 2px rgba(60, 64, 67, 0.3), 0px 1px 3px 1px rgba(60, 64, 67, 0.15);\n",
              "      fill: #174EA6;\n",
              "    }\n",
              "\n",
              "    .colab-df-buttons div {\n",
              "      margin-bottom: 4px;\n",
              "    }\n",
              "\n",
              "    [theme=dark] .colab-df-convert {\n",
              "      background-color: #3B4455;\n",
              "      fill: #D2E3FC;\n",
              "    }\n",
              "\n",
              "    [theme=dark] .colab-df-convert:hover {\n",
              "      background-color: #434B5C;\n",
              "      box-shadow: 0px 1px 3px 1px rgba(0, 0, 0, 0.15);\n",
              "      filter: drop-shadow(0px 1px 2px rgba(0, 0, 0, 0.3));\n",
              "      fill: #FFFFFF;\n",
              "    }\n",
              "  </style>\n",
              "\n",
              "    <script>\n",
              "      const buttonEl =\n",
              "        document.querySelector('#df-675aeeaf-b3e4-4151-8daf-97b9f8bfec54 button.colab-df-convert');\n",
              "      buttonEl.style.display =\n",
              "        google.colab.kernel.accessAllowed ? 'block' : 'none';\n",
              "\n",
              "      async function convertToInteractive(key) {\n",
              "        const element = document.querySelector('#df-675aeeaf-b3e4-4151-8daf-97b9f8bfec54');\n",
              "        const dataTable =\n",
              "          await google.colab.kernel.invokeFunction('convertToInteractive',\n",
              "                                                    [key], {});\n",
              "        if (!dataTable) return;\n",
              "\n",
              "        const docLinkHtml = 'Like what you see? Visit the ' +\n",
              "          '<a target=\"_blank\" href=https://colab.research.google.com/notebooks/data_table.ipynb>data table notebook</a>'\n",
              "          + ' to learn more about interactive tables.';\n",
              "        element.innerHTML = '';\n",
              "        dataTable['output_type'] = 'display_data';\n",
              "        await google.colab.output.renderOutput(dataTable, element);\n",
              "        const docLink = document.createElement('div');\n",
              "        docLink.innerHTML = docLinkHtml;\n",
              "        element.appendChild(docLink);\n",
              "      }\n",
              "    </script>\n",
              "  </div>\n",
              "\n",
              "\n",
              "<div id=\"df-c61ffbf4-7aa0-4073-a4c6-0546dcc4d8e6\">\n",
              "  <button class=\"colab-df-quickchart\" onclick=\"quickchart('df-c61ffbf4-7aa0-4073-a4c6-0546dcc4d8e6')\"\n",
              "            title=\"Suggest charts\"\n",
              "            style=\"display:none;\">\n",
              "\n",
              "<svg xmlns=\"http://www.w3.org/2000/svg\" height=\"24px\"viewBox=\"0 0 24 24\"\n",
              "     width=\"24px\">\n",
              "    <g>\n",
              "        <path d=\"M19 3H5c-1.1 0-2 .9-2 2v14c0 1.1.9 2 2 2h14c1.1 0 2-.9 2-2V5c0-1.1-.9-2-2-2zM9 17H7v-7h2v7zm4 0h-2V7h2v10zm4 0h-2v-4h2v4z\"/>\n",
              "    </g>\n",
              "</svg>\n",
              "  </button>\n",
              "\n",
              "<style>\n",
              "  .colab-df-quickchart {\n",
              "      --bg-color: #E8F0FE;\n",
              "      --fill-color: #1967D2;\n",
              "      --hover-bg-color: #E2EBFA;\n",
              "      --hover-fill-color: #174EA6;\n",
              "      --disabled-fill-color: #AAA;\n",
              "      --disabled-bg-color: #DDD;\n",
              "  }\n",
              "\n",
              "  [theme=dark] .colab-df-quickchart {\n",
              "      --bg-color: #3B4455;\n",
              "      --fill-color: #D2E3FC;\n",
              "      --hover-bg-color: #434B5C;\n",
              "      --hover-fill-color: #FFFFFF;\n",
              "      --disabled-bg-color: #3B4455;\n",
              "      --disabled-fill-color: #666;\n",
              "  }\n",
              "\n",
              "  .colab-df-quickchart {\n",
              "    background-color: var(--bg-color);\n",
              "    border: none;\n",
              "    border-radius: 50%;\n",
              "    cursor: pointer;\n",
              "    display: none;\n",
              "    fill: var(--fill-color);\n",
              "    height: 32px;\n",
              "    padding: 0;\n",
              "    width: 32px;\n",
              "  }\n",
              "\n",
              "  .colab-df-quickchart:hover {\n",
              "    background-color: var(--hover-bg-color);\n",
              "    box-shadow: 0 1px 2px rgba(60, 64, 67, 0.3), 0 1px 3px 1px rgba(60, 64, 67, 0.15);\n",
              "    fill: var(--button-hover-fill-color);\n",
              "  }\n",
              "\n",
              "  .colab-df-quickchart-complete:disabled,\n",
              "  .colab-df-quickchart-complete:disabled:hover {\n",
              "    background-color: var(--disabled-bg-color);\n",
              "    fill: var(--disabled-fill-color);\n",
              "    box-shadow: none;\n",
              "  }\n",
              "\n",
              "  .colab-df-spinner {\n",
              "    border: 2px solid var(--fill-color);\n",
              "    border-color: transparent;\n",
              "    border-bottom-color: var(--fill-color);\n",
              "    animation:\n",
              "      spin 1s steps(1) infinite;\n",
              "  }\n",
              "\n",
              "  @keyframes spin {\n",
              "    0% {\n",
              "      border-color: transparent;\n",
              "      border-bottom-color: var(--fill-color);\n",
              "      border-left-color: var(--fill-color);\n",
              "    }\n",
              "    20% {\n",
              "      border-color: transparent;\n",
              "      border-left-color: var(--fill-color);\n",
              "      border-top-color: var(--fill-color);\n",
              "    }\n",
              "    30% {\n",
              "      border-color: transparent;\n",
              "      border-left-color: var(--fill-color);\n",
              "      border-top-color: var(--fill-color);\n",
              "      border-right-color: var(--fill-color);\n",
              "    }\n",
              "    40% {\n",
              "      border-color: transparent;\n",
              "      border-right-color: var(--fill-color);\n",
              "      border-top-color: var(--fill-color);\n",
              "    }\n",
              "    60% {\n",
              "      border-color: transparent;\n",
              "      border-right-color: var(--fill-color);\n",
              "    }\n",
              "    80% {\n",
              "      border-color: transparent;\n",
              "      border-right-color: var(--fill-color);\n",
              "      border-bottom-color: var(--fill-color);\n",
              "    }\n",
              "    90% {\n",
              "      border-color: transparent;\n",
              "      border-bottom-color: var(--fill-color);\n",
              "    }\n",
              "  }\n",
              "</style>\n",
              "\n",
              "  <script>\n",
              "    async function quickchart(key) {\n",
              "      const quickchartButtonEl =\n",
              "        document.querySelector('#' + key + ' button');\n",
              "      quickchartButtonEl.disabled = true;  // To prevent multiple clicks.\n",
              "      quickchartButtonEl.classList.add('colab-df-spinner');\n",
              "      try {\n",
              "        const charts = await google.colab.kernel.invokeFunction(\n",
              "            'suggestCharts', [key], {});\n",
              "      } catch (error) {\n",
              "        console.error('Error during call to suggestCharts:', error);\n",
              "      }\n",
              "      quickchartButtonEl.classList.remove('colab-df-spinner');\n",
              "      quickchartButtonEl.classList.add('colab-df-quickchart-complete');\n",
              "    }\n",
              "    (() => {\n",
              "      let quickchartButtonEl =\n",
              "        document.querySelector('#df-c61ffbf4-7aa0-4073-a4c6-0546dcc4d8e6 button');\n",
              "      quickchartButtonEl.style.display =\n",
              "        google.colab.kernel.accessAllowed ? 'block' : 'none';\n",
              "    })();\n",
              "  </script>\n",
              "</div>\n",
              "\n",
              "    </div>\n",
              "  </div>\n"
            ],
            "application/vnd.google.colaboratory.intrinsic+json": {
              "type": "dataframe",
              "variable_name": "df"
            }
          },
          "metadata": {},
          "execution_count": 73
        }
      ]
    },
    {
      "cell_type": "code",
      "source": [
        "df = pd.concat([df, one_hot_encode(df[[\"brand_category\"]], df[\"brand_category\"].unique(), other_col=\"other\")], axis=1, ignore_index=False)\n",
        "df.head()"
      ],
      "metadata": {
        "colab": {
          "base_uri": "https://localhost:8080/",
          "height": 568
        },
        "id": "UFtIh8PE7UwE",
        "outputId": "d751a80c-d83a-4864-9090-7d4512fa7508"
      },
      "execution_count": 74,
      "outputs": [
        {
          "output_type": "execute_result",
          "data": {
            "text/plain": [
              "   brand                            model  model_year  milage      fuel_type  \\\n",
              "0   Ford  Utility Police Interceptor Base        2013   51000  E85 Flex Fuel   \n",
              "1  Other                     Palisade SEL        2021   34742       Gasoline   \n",
              "2  Lexus                    RX 350 RX 350        2022   22372       Gasoline   \n",
              "3  Other                 Q50 Hybrid Sport        2015   88900         Hybrid   \n",
              "4   Audi        Q3 45 S line Premium Plus        2021    9835       Gasoline   \n",
              "\n",
              "                                              engine transmission ext_col  \\\n",
              "0  300.0HP 3.7L V6 Cylinder Engine Flex Fuel Capa...    Automatic   black   \n",
              "1                               3.8L V6 24V GDI DOHC    Automatic   other   \n",
              "2                                     3.5 Liter DOHC    Automatic    blue   \n",
              "3  354.0HP 3.5L V6 Cylinder Engine Gas/Electric H...    Automatic   black   \n",
              "4                         2.0L I4 16V GDI DOHC Turbo    Automatic   white   \n",
              "\n",
              "  int_col                                accident  ... brand_Lamborghini  \\\n",
              "0   black  At least 1 accident or damage reported  ...                 0   \n",
              "1    gray  At least 1 accident or damage reported  ...                 0   \n",
              "2   black                           None reported  ...                 0   \n",
              "3   black                           None reported  ...                 0   \n",
              "4   black                           None reported  ...                 0   \n",
              "\n",
              "   brand_Maserati  brand_Ferrari  brand_Bugatti  brand_McLaren  \\\n",
              "0               0              0              0              0   \n",
              "1               0              0              0              0   \n",
              "2               0              0              0              0   \n",
              "3               0              0              0              0   \n",
              "4               0              0              0              0   \n",
              "\n",
              "  brand_Rolls-Royce  brand_category_premium  brand_category_expensive  \\\n",
              "0                 0                       1                         0   \n",
              "1                 0                       0                         1   \n",
              "2                 0                       1                         0   \n",
              "3                 0                       0                         1   \n",
              "4                 0                       1                         0   \n",
              "\n",
              "   brand_category_luxury  brand_category_cheap  \n",
              "0                      0                     0  \n",
              "1                      0                     0  \n",
              "2                      0                     0  \n",
              "3                      0                     0  \n",
              "4                      0                     0  \n",
              "\n",
              "[5 rows x 39 columns]"
            ],
            "text/html": [
              "\n",
              "  <div id=\"df-9c287596-74f7-4770-ac5f-d5e5bea57125\" class=\"colab-df-container\">\n",
              "    <div>\n",
              "<style scoped>\n",
              "    .dataframe tbody tr th:only-of-type {\n",
              "        vertical-align: middle;\n",
              "    }\n",
              "\n",
              "    .dataframe tbody tr th {\n",
              "        vertical-align: top;\n",
              "    }\n",
              "\n",
              "    .dataframe thead th {\n",
              "        text-align: right;\n",
              "    }\n",
              "</style>\n",
              "<table border=\"1\" class=\"dataframe\">\n",
              "  <thead>\n",
              "    <tr style=\"text-align: right;\">\n",
              "      <th></th>\n",
              "      <th>brand</th>\n",
              "      <th>model</th>\n",
              "      <th>model_year</th>\n",
              "      <th>milage</th>\n",
              "      <th>fuel_type</th>\n",
              "      <th>engine</th>\n",
              "      <th>transmission</th>\n",
              "      <th>ext_col</th>\n",
              "      <th>int_col</th>\n",
              "      <th>accident</th>\n",
              "      <th>...</th>\n",
              "      <th>brand_Lamborghini</th>\n",
              "      <th>brand_Maserati</th>\n",
              "      <th>brand_Ferrari</th>\n",
              "      <th>brand_Bugatti</th>\n",
              "      <th>brand_McLaren</th>\n",
              "      <th>brand_Rolls-Royce</th>\n",
              "      <th>brand_category_premium</th>\n",
              "      <th>brand_category_expensive</th>\n",
              "      <th>brand_category_luxury</th>\n",
              "      <th>brand_category_cheap</th>\n",
              "    </tr>\n",
              "  </thead>\n",
              "  <tbody>\n",
              "    <tr>\n",
              "      <th>0</th>\n",
              "      <td>Ford</td>\n",
              "      <td>Utility Police Interceptor Base</td>\n",
              "      <td>2013</td>\n",
              "      <td>51000</td>\n",
              "      <td>E85 Flex Fuel</td>\n",
              "      <td>300.0HP 3.7L V6 Cylinder Engine Flex Fuel Capa...</td>\n",
              "      <td>Automatic</td>\n",
              "      <td>black</td>\n",
              "      <td>black</td>\n",
              "      <td>At least 1 accident or damage reported</td>\n",
              "      <td>...</td>\n",
              "      <td>0</td>\n",
              "      <td>0</td>\n",
              "      <td>0</td>\n",
              "      <td>0</td>\n",
              "      <td>0</td>\n",
              "      <td>0</td>\n",
              "      <td>1</td>\n",
              "      <td>0</td>\n",
              "      <td>0</td>\n",
              "      <td>0</td>\n",
              "    </tr>\n",
              "    <tr>\n",
              "      <th>1</th>\n",
              "      <td>Other</td>\n",
              "      <td>Palisade SEL</td>\n",
              "      <td>2021</td>\n",
              "      <td>34742</td>\n",
              "      <td>Gasoline</td>\n",
              "      <td>3.8L V6 24V GDI DOHC</td>\n",
              "      <td>Automatic</td>\n",
              "      <td>other</td>\n",
              "      <td>gray</td>\n",
              "      <td>At least 1 accident or damage reported</td>\n",
              "      <td>...</td>\n",
              "      <td>0</td>\n",
              "      <td>0</td>\n",
              "      <td>0</td>\n",
              "      <td>0</td>\n",
              "      <td>0</td>\n",
              "      <td>0</td>\n",
              "      <td>0</td>\n",
              "      <td>1</td>\n",
              "      <td>0</td>\n",
              "      <td>0</td>\n",
              "    </tr>\n",
              "    <tr>\n",
              "      <th>2</th>\n",
              "      <td>Lexus</td>\n",
              "      <td>RX 350 RX 350</td>\n",
              "      <td>2022</td>\n",
              "      <td>22372</td>\n",
              "      <td>Gasoline</td>\n",
              "      <td>3.5 Liter DOHC</td>\n",
              "      <td>Automatic</td>\n",
              "      <td>blue</td>\n",
              "      <td>black</td>\n",
              "      <td>None reported</td>\n",
              "      <td>...</td>\n",
              "      <td>0</td>\n",
              "      <td>0</td>\n",
              "      <td>0</td>\n",
              "      <td>0</td>\n",
              "      <td>0</td>\n",
              "      <td>0</td>\n",
              "      <td>1</td>\n",
              "      <td>0</td>\n",
              "      <td>0</td>\n",
              "      <td>0</td>\n",
              "    </tr>\n",
              "    <tr>\n",
              "      <th>3</th>\n",
              "      <td>Other</td>\n",
              "      <td>Q50 Hybrid Sport</td>\n",
              "      <td>2015</td>\n",
              "      <td>88900</td>\n",
              "      <td>Hybrid</td>\n",
              "      <td>354.0HP 3.5L V6 Cylinder Engine Gas/Electric H...</td>\n",
              "      <td>Automatic</td>\n",
              "      <td>black</td>\n",
              "      <td>black</td>\n",
              "      <td>None reported</td>\n",
              "      <td>...</td>\n",
              "      <td>0</td>\n",
              "      <td>0</td>\n",
              "      <td>0</td>\n",
              "      <td>0</td>\n",
              "      <td>0</td>\n",
              "      <td>0</td>\n",
              "      <td>0</td>\n",
              "      <td>1</td>\n",
              "      <td>0</td>\n",
              "      <td>0</td>\n",
              "    </tr>\n",
              "    <tr>\n",
              "      <th>4</th>\n",
              "      <td>Audi</td>\n",
              "      <td>Q3 45 S line Premium Plus</td>\n",
              "      <td>2021</td>\n",
              "      <td>9835</td>\n",
              "      <td>Gasoline</td>\n",
              "      <td>2.0L I4 16V GDI DOHC Turbo</td>\n",
              "      <td>Automatic</td>\n",
              "      <td>white</td>\n",
              "      <td>black</td>\n",
              "      <td>None reported</td>\n",
              "      <td>...</td>\n",
              "      <td>0</td>\n",
              "      <td>0</td>\n",
              "      <td>0</td>\n",
              "      <td>0</td>\n",
              "      <td>0</td>\n",
              "      <td>0</td>\n",
              "      <td>1</td>\n",
              "      <td>0</td>\n",
              "      <td>0</td>\n",
              "      <td>0</td>\n",
              "    </tr>\n",
              "  </tbody>\n",
              "</table>\n",
              "<p>5 rows × 39 columns</p>\n",
              "</div>\n",
              "    <div class=\"colab-df-buttons\">\n",
              "\n",
              "  <div class=\"colab-df-container\">\n",
              "    <button class=\"colab-df-convert\" onclick=\"convertToInteractive('df-9c287596-74f7-4770-ac5f-d5e5bea57125')\"\n",
              "            title=\"Convert this dataframe to an interactive table.\"\n",
              "            style=\"display:none;\">\n",
              "\n",
              "  <svg xmlns=\"http://www.w3.org/2000/svg\" height=\"24px\" viewBox=\"0 -960 960 960\">\n",
              "    <path d=\"M120-120v-720h720v720H120Zm60-500h600v-160H180v160Zm220 220h160v-160H400v160Zm0 220h160v-160H400v160ZM180-400h160v-160H180v160Zm440 0h160v-160H620v160ZM180-180h160v-160H180v160Zm440 0h160v-160H620v160Z\"/>\n",
              "  </svg>\n",
              "    </button>\n",
              "\n",
              "  <style>\n",
              "    .colab-df-container {\n",
              "      display:flex;\n",
              "      gap: 12px;\n",
              "    }\n",
              "\n",
              "    .colab-df-convert {\n",
              "      background-color: #E8F0FE;\n",
              "      border: none;\n",
              "      border-radius: 50%;\n",
              "      cursor: pointer;\n",
              "      display: none;\n",
              "      fill: #1967D2;\n",
              "      height: 32px;\n",
              "      padding: 0 0 0 0;\n",
              "      width: 32px;\n",
              "    }\n",
              "\n",
              "    .colab-df-convert:hover {\n",
              "      background-color: #E2EBFA;\n",
              "      box-shadow: 0px 1px 2px rgba(60, 64, 67, 0.3), 0px 1px 3px 1px rgba(60, 64, 67, 0.15);\n",
              "      fill: #174EA6;\n",
              "    }\n",
              "\n",
              "    .colab-df-buttons div {\n",
              "      margin-bottom: 4px;\n",
              "    }\n",
              "\n",
              "    [theme=dark] .colab-df-convert {\n",
              "      background-color: #3B4455;\n",
              "      fill: #D2E3FC;\n",
              "    }\n",
              "\n",
              "    [theme=dark] .colab-df-convert:hover {\n",
              "      background-color: #434B5C;\n",
              "      box-shadow: 0px 1px 3px 1px rgba(0, 0, 0, 0.15);\n",
              "      filter: drop-shadow(0px 1px 2px rgba(0, 0, 0, 0.3));\n",
              "      fill: #FFFFFF;\n",
              "    }\n",
              "  </style>\n",
              "\n",
              "    <script>\n",
              "      const buttonEl =\n",
              "        document.querySelector('#df-9c287596-74f7-4770-ac5f-d5e5bea57125 button.colab-df-convert');\n",
              "      buttonEl.style.display =\n",
              "        google.colab.kernel.accessAllowed ? 'block' : 'none';\n",
              "\n",
              "      async function convertToInteractive(key) {\n",
              "        const element = document.querySelector('#df-9c287596-74f7-4770-ac5f-d5e5bea57125');\n",
              "        const dataTable =\n",
              "          await google.colab.kernel.invokeFunction('convertToInteractive',\n",
              "                                                    [key], {});\n",
              "        if (!dataTable) return;\n",
              "\n",
              "        const docLinkHtml = 'Like what you see? Visit the ' +\n",
              "          '<a target=\"_blank\" href=https://colab.research.google.com/notebooks/data_table.ipynb>data table notebook</a>'\n",
              "          + ' to learn more about interactive tables.';\n",
              "        element.innerHTML = '';\n",
              "        dataTable['output_type'] = 'display_data';\n",
              "        await google.colab.output.renderOutput(dataTable, element);\n",
              "        const docLink = document.createElement('div');\n",
              "        docLink.innerHTML = docLinkHtml;\n",
              "        element.appendChild(docLink);\n",
              "      }\n",
              "    </script>\n",
              "  </div>\n",
              "\n",
              "\n",
              "<div id=\"df-06533221-d67b-446a-b356-4f34b6346da6\">\n",
              "  <button class=\"colab-df-quickchart\" onclick=\"quickchart('df-06533221-d67b-446a-b356-4f34b6346da6')\"\n",
              "            title=\"Suggest charts\"\n",
              "            style=\"display:none;\">\n",
              "\n",
              "<svg xmlns=\"http://www.w3.org/2000/svg\" height=\"24px\"viewBox=\"0 0 24 24\"\n",
              "     width=\"24px\">\n",
              "    <g>\n",
              "        <path d=\"M19 3H5c-1.1 0-2 .9-2 2v14c0 1.1.9 2 2 2h14c1.1 0 2-.9 2-2V5c0-1.1-.9-2-2-2zM9 17H7v-7h2v7zm4 0h-2V7h2v10zm4 0h-2v-4h2v4z\"/>\n",
              "    </g>\n",
              "</svg>\n",
              "  </button>\n",
              "\n",
              "<style>\n",
              "  .colab-df-quickchart {\n",
              "      --bg-color: #E8F0FE;\n",
              "      --fill-color: #1967D2;\n",
              "      --hover-bg-color: #E2EBFA;\n",
              "      --hover-fill-color: #174EA6;\n",
              "      --disabled-fill-color: #AAA;\n",
              "      --disabled-bg-color: #DDD;\n",
              "  }\n",
              "\n",
              "  [theme=dark] .colab-df-quickchart {\n",
              "      --bg-color: #3B4455;\n",
              "      --fill-color: #D2E3FC;\n",
              "      --hover-bg-color: #434B5C;\n",
              "      --hover-fill-color: #FFFFFF;\n",
              "      --disabled-bg-color: #3B4455;\n",
              "      --disabled-fill-color: #666;\n",
              "  }\n",
              "\n",
              "  .colab-df-quickchart {\n",
              "    background-color: var(--bg-color);\n",
              "    border: none;\n",
              "    border-radius: 50%;\n",
              "    cursor: pointer;\n",
              "    display: none;\n",
              "    fill: var(--fill-color);\n",
              "    height: 32px;\n",
              "    padding: 0;\n",
              "    width: 32px;\n",
              "  }\n",
              "\n",
              "  .colab-df-quickchart:hover {\n",
              "    background-color: var(--hover-bg-color);\n",
              "    box-shadow: 0 1px 2px rgba(60, 64, 67, 0.3), 0 1px 3px 1px rgba(60, 64, 67, 0.15);\n",
              "    fill: var(--button-hover-fill-color);\n",
              "  }\n",
              "\n",
              "  .colab-df-quickchart-complete:disabled,\n",
              "  .colab-df-quickchart-complete:disabled:hover {\n",
              "    background-color: var(--disabled-bg-color);\n",
              "    fill: var(--disabled-fill-color);\n",
              "    box-shadow: none;\n",
              "  }\n",
              "\n",
              "  .colab-df-spinner {\n",
              "    border: 2px solid var(--fill-color);\n",
              "    border-color: transparent;\n",
              "    border-bottom-color: var(--fill-color);\n",
              "    animation:\n",
              "      spin 1s steps(1) infinite;\n",
              "  }\n",
              "\n",
              "  @keyframes spin {\n",
              "    0% {\n",
              "      border-color: transparent;\n",
              "      border-bottom-color: var(--fill-color);\n",
              "      border-left-color: var(--fill-color);\n",
              "    }\n",
              "    20% {\n",
              "      border-color: transparent;\n",
              "      border-left-color: var(--fill-color);\n",
              "      border-top-color: var(--fill-color);\n",
              "    }\n",
              "    30% {\n",
              "      border-color: transparent;\n",
              "      border-left-color: var(--fill-color);\n",
              "      border-top-color: var(--fill-color);\n",
              "      border-right-color: var(--fill-color);\n",
              "    }\n",
              "    40% {\n",
              "      border-color: transparent;\n",
              "      border-right-color: var(--fill-color);\n",
              "      border-top-color: var(--fill-color);\n",
              "    }\n",
              "    60% {\n",
              "      border-color: transparent;\n",
              "      border-right-color: var(--fill-color);\n",
              "    }\n",
              "    80% {\n",
              "      border-color: transparent;\n",
              "      border-right-color: var(--fill-color);\n",
              "      border-bottom-color: var(--fill-color);\n",
              "    }\n",
              "    90% {\n",
              "      border-color: transparent;\n",
              "      border-bottom-color: var(--fill-color);\n",
              "    }\n",
              "  }\n",
              "</style>\n",
              "\n",
              "  <script>\n",
              "    async function quickchart(key) {\n",
              "      const quickchartButtonEl =\n",
              "        document.querySelector('#' + key + ' button');\n",
              "      quickchartButtonEl.disabled = true;  // To prevent multiple clicks.\n",
              "      quickchartButtonEl.classList.add('colab-df-spinner');\n",
              "      try {\n",
              "        const charts = await google.colab.kernel.invokeFunction(\n",
              "            'suggestCharts', [key], {});\n",
              "      } catch (error) {\n",
              "        console.error('Error during call to suggestCharts:', error);\n",
              "      }\n",
              "      quickchartButtonEl.classList.remove('colab-df-spinner');\n",
              "      quickchartButtonEl.classList.add('colab-df-quickchart-complete');\n",
              "    }\n",
              "    (() => {\n",
              "      let quickchartButtonEl =\n",
              "        document.querySelector('#df-06533221-d67b-446a-b356-4f34b6346da6 button');\n",
              "      quickchartButtonEl.style.display =\n",
              "        google.colab.kernel.accessAllowed ? 'block' : 'none';\n",
              "    })();\n",
              "  </script>\n",
              "</div>\n",
              "\n",
              "    </div>\n",
              "  </div>\n"
            ],
            "application/vnd.google.colaboratory.intrinsic+json": {
              "type": "dataframe",
              "variable_name": "df"
            }
          },
          "metadata": {},
          "execution_count": 74
        }
      ]
    },
    {
      "cell_type": "code",
      "source": [
        "df = pd.concat([df, one_hot_encode(df[[\"transmission\"]], df[\"transmission\"].unique(), other_col=\"Other\")], axis=1, ignore_index=False)\n",
        "df.head()"
      ],
      "metadata": {
        "colab": {
          "base_uri": "https://localhost:8080/",
          "height": 568
        },
        "id": "mCz7zcGV7b01",
        "outputId": "ae96402b-119d-415e-d468-d6b8b924f497"
      },
      "execution_count": 75,
      "outputs": [
        {
          "output_type": "execute_result",
          "data": {
            "text/plain": [
              "   brand                            model  model_year  milage      fuel_type  \\\n",
              "0   Ford  Utility Police Interceptor Base        2013   51000  E85 Flex Fuel   \n",
              "1  Other                     Palisade SEL        2021   34742       Gasoline   \n",
              "2  Lexus                    RX 350 RX 350        2022   22372       Gasoline   \n",
              "3  Other                 Q50 Hybrid Sport        2015   88900         Hybrid   \n",
              "4   Audi        Q3 45 S line Premium Plus        2021    9835       Gasoline   \n",
              "\n",
              "                                              engine transmission ext_col  \\\n",
              "0  300.0HP 3.7L V6 Cylinder Engine Flex Fuel Capa...    Automatic   black   \n",
              "1                               3.8L V6 24V GDI DOHC    Automatic   other   \n",
              "2                                     3.5 Liter DOHC    Automatic    blue   \n",
              "3  354.0HP 3.5L V6 Cylinder Engine Gas/Electric H...    Automatic   black   \n",
              "4                         2.0L I4 16V GDI DOHC Turbo    Automatic   white   \n",
              "\n",
              "  int_col                                accident  ... brand_Bugatti  \\\n",
              "0   black  At least 1 accident or damage reported  ...             0   \n",
              "1    gray  At least 1 accident or damage reported  ...             0   \n",
              "2   black                           None reported  ...             0   \n",
              "3   black                           None reported  ...             0   \n",
              "4   black                           None reported  ...             0   \n",
              "\n",
              "   brand_McLaren  brand_Rolls-Royce  brand_category_premium  \\\n",
              "0              0                  0                       1   \n",
              "1              0                  0                       0   \n",
              "2              0                  0                       1   \n",
              "3              0                  0                       0   \n",
              "4              0                  0                       1   \n",
              "\n",
              "   brand_category_expensive brand_category_luxury  brand_category_cheap  \\\n",
              "0                         0                     0                     0   \n",
              "1                         1                     0                     0   \n",
              "2                         0                     0                     0   \n",
              "3                         1                     0                     0   \n",
              "4                         0                     0                     0   \n",
              "\n",
              "   transmission_Automatic  transmission_CVT  transmission_Manual  \n",
              "0                       1                 0                    0  \n",
              "1                       1                 0                    0  \n",
              "2                       1                 0                    0  \n",
              "3                       1                 0                    0  \n",
              "4                       1                 0                    0  \n",
              "\n",
              "[5 rows x 42 columns]"
            ],
            "text/html": [
              "\n",
              "  <div id=\"df-e9c56db4-bc18-47e6-b081-21d0ac9fbfa4\" class=\"colab-df-container\">\n",
              "    <div>\n",
              "<style scoped>\n",
              "    .dataframe tbody tr th:only-of-type {\n",
              "        vertical-align: middle;\n",
              "    }\n",
              "\n",
              "    .dataframe tbody tr th {\n",
              "        vertical-align: top;\n",
              "    }\n",
              "\n",
              "    .dataframe thead th {\n",
              "        text-align: right;\n",
              "    }\n",
              "</style>\n",
              "<table border=\"1\" class=\"dataframe\">\n",
              "  <thead>\n",
              "    <tr style=\"text-align: right;\">\n",
              "      <th></th>\n",
              "      <th>brand</th>\n",
              "      <th>model</th>\n",
              "      <th>model_year</th>\n",
              "      <th>milage</th>\n",
              "      <th>fuel_type</th>\n",
              "      <th>engine</th>\n",
              "      <th>transmission</th>\n",
              "      <th>ext_col</th>\n",
              "      <th>int_col</th>\n",
              "      <th>accident</th>\n",
              "      <th>...</th>\n",
              "      <th>brand_Bugatti</th>\n",
              "      <th>brand_McLaren</th>\n",
              "      <th>brand_Rolls-Royce</th>\n",
              "      <th>brand_category_premium</th>\n",
              "      <th>brand_category_expensive</th>\n",
              "      <th>brand_category_luxury</th>\n",
              "      <th>brand_category_cheap</th>\n",
              "      <th>transmission_Automatic</th>\n",
              "      <th>transmission_CVT</th>\n",
              "      <th>transmission_Manual</th>\n",
              "    </tr>\n",
              "  </thead>\n",
              "  <tbody>\n",
              "    <tr>\n",
              "      <th>0</th>\n",
              "      <td>Ford</td>\n",
              "      <td>Utility Police Interceptor Base</td>\n",
              "      <td>2013</td>\n",
              "      <td>51000</td>\n",
              "      <td>E85 Flex Fuel</td>\n",
              "      <td>300.0HP 3.7L V6 Cylinder Engine Flex Fuel Capa...</td>\n",
              "      <td>Automatic</td>\n",
              "      <td>black</td>\n",
              "      <td>black</td>\n",
              "      <td>At least 1 accident or damage reported</td>\n",
              "      <td>...</td>\n",
              "      <td>0</td>\n",
              "      <td>0</td>\n",
              "      <td>0</td>\n",
              "      <td>1</td>\n",
              "      <td>0</td>\n",
              "      <td>0</td>\n",
              "      <td>0</td>\n",
              "      <td>1</td>\n",
              "      <td>0</td>\n",
              "      <td>0</td>\n",
              "    </tr>\n",
              "    <tr>\n",
              "      <th>1</th>\n",
              "      <td>Other</td>\n",
              "      <td>Palisade SEL</td>\n",
              "      <td>2021</td>\n",
              "      <td>34742</td>\n",
              "      <td>Gasoline</td>\n",
              "      <td>3.8L V6 24V GDI DOHC</td>\n",
              "      <td>Automatic</td>\n",
              "      <td>other</td>\n",
              "      <td>gray</td>\n",
              "      <td>At least 1 accident or damage reported</td>\n",
              "      <td>...</td>\n",
              "      <td>0</td>\n",
              "      <td>0</td>\n",
              "      <td>0</td>\n",
              "      <td>0</td>\n",
              "      <td>1</td>\n",
              "      <td>0</td>\n",
              "      <td>0</td>\n",
              "      <td>1</td>\n",
              "      <td>0</td>\n",
              "      <td>0</td>\n",
              "    </tr>\n",
              "    <tr>\n",
              "      <th>2</th>\n",
              "      <td>Lexus</td>\n",
              "      <td>RX 350 RX 350</td>\n",
              "      <td>2022</td>\n",
              "      <td>22372</td>\n",
              "      <td>Gasoline</td>\n",
              "      <td>3.5 Liter DOHC</td>\n",
              "      <td>Automatic</td>\n",
              "      <td>blue</td>\n",
              "      <td>black</td>\n",
              "      <td>None reported</td>\n",
              "      <td>...</td>\n",
              "      <td>0</td>\n",
              "      <td>0</td>\n",
              "      <td>0</td>\n",
              "      <td>1</td>\n",
              "      <td>0</td>\n",
              "      <td>0</td>\n",
              "      <td>0</td>\n",
              "      <td>1</td>\n",
              "      <td>0</td>\n",
              "      <td>0</td>\n",
              "    </tr>\n",
              "    <tr>\n",
              "      <th>3</th>\n",
              "      <td>Other</td>\n",
              "      <td>Q50 Hybrid Sport</td>\n",
              "      <td>2015</td>\n",
              "      <td>88900</td>\n",
              "      <td>Hybrid</td>\n",
              "      <td>354.0HP 3.5L V6 Cylinder Engine Gas/Electric H...</td>\n",
              "      <td>Automatic</td>\n",
              "      <td>black</td>\n",
              "      <td>black</td>\n",
              "      <td>None reported</td>\n",
              "      <td>...</td>\n",
              "      <td>0</td>\n",
              "      <td>0</td>\n",
              "      <td>0</td>\n",
              "      <td>0</td>\n",
              "      <td>1</td>\n",
              "      <td>0</td>\n",
              "      <td>0</td>\n",
              "      <td>1</td>\n",
              "      <td>0</td>\n",
              "      <td>0</td>\n",
              "    </tr>\n",
              "    <tr>\n",
              "      <th>4</th>\n",
              "      <td>Audi</td>\n",
              "      <td>Q3 45 S line Premium Plus</td>\n",
              "      <td>2021</td>\n",
              "      <td>9835</td>\n",
              "      <td>Gasoline</td>\n",
              "      <td>2.0L I4 16V GDI DOHC Turbo</td>\n",
              "      <td>Automatic</td>\n",
              "      <td>white</td>\n",
              "      <td>black</td>\n",
              "      <td>None reported</td>\n",
              "      <td>...</td>\n",
              "      <td>0</td>\n",
              "      <td>0</td>\n",
              "      <td>0</td>\n",
              "      <td>1</td>\n",
              "      <td>0</td>\n",
              "      <td>0</td>\n",
              "      <td>0</td>\n",
              "      <td>1</td>\n",
              "      <td>0</td>\n",
              "      <td>0</td>\n",
              "    </tr>\n",
              "  </tbody>\n",
              "</table>\n",
              "<p>5 rows × 42 columns</p>\n",
              "</div>\n",
              "    <div class=\"colab-df-buttons\">\n",
              "\n",
              "  <div class=\"colab-df-container\">\n",
              "    <button class=\"colab-df-convert\" onclick=\"convertToInteractive('df-e9c56db4-bc18-47e6-b081-21d0ac9fbfa4')\"\n",
              "            title=\"Convert this dataframe to an interactive table.\"\n",
              "            style=\"display:none;\">\n",
              "\n",
              "  <svg xmlns=\"http://www.w3.org/2000/svg\" height=\"24px\" viewBox=\"0 -960 960 960\">\n",
              "    <path d=\"M120-120v-720h720v720H120Zm60-500h600v-160H180v160Zm220 220h160v-160H400v160Zm0 220h160v-160H400v160ZM180-400h160v-160H180v160Zm440 0h160v-160H620v160ZM180-180h160v-160H180v160Zm440 0h160v-160H620v160Z\"/>\n",
              "  </svg>\n",
              "    </button>\n",
              "\n",
              "  <style>\n",
              "    .colab-df-container {\n",
              "      display:flex;\n",
              "      gap: 12px;\n",
              "    }\n",
              "\n",
              "    .colab-df-convert {\n",
              "      background-color: #E8F0FE;\n",
              "      border: none;\n",
              "      border-radius: 50%;\n",
              "      cursor: pointer;\n",
              "      display: none;\n",
              "      fill: #1967D2;\n",
              "      height: 32px;\n",
              "      padding: 0 0 0 0;\n",
              "      width: 32px;\n",
              "    }\n",
              "\n",
              "    .colab-df-convert:hover {\n",
              "      background-color: #E2EBFA;\n",
              "      box-shadow: 0px 1px 2px rgba(60, 64, 67, 0.3), 0px 1px 3px 1px rgba(60, 64, 67, 0.15);\n",
              "      fill: #174EA6;\n",
              "    }\n",
              "\n",
              "    .colab-df-buttons div {\n",
              "      margin-bottom: 4px;\n",
              "    }\n",
              "\n",
              "    [theme=dark] .colab-df-convert {\n",
              "      background-color: #3B4455;\n",
              "      fill: #D2E3FC;\n",
              "    }\n",
              "\n",
              "    [theme=dark] .colab-df-convert:hover {\n",
              "      background-color: #434B5C;\n",
              "      box-shadow: 0px 1px 3px 1px rgba(0, 0, 0, 0.15);\n",
              "      filter: drop-shadow(0px 1px 2px rgba(0, 0, 0, 0.3));\n",
              "      fill: #FFFFFF;\n",
              "    }\n",
              "  </style>\n",
              "\n",
              "    <script>\n",
              "      const buttonEl =\n",
              "        document.querySelector('#df-e9c56db4-bc18-47e6-b081-21d0ac9fbfa4 button.colab-df-convert');\n",
              "      buttonEl.style.display =\n",
              "        google.colab.kernel.accessAllowed ? 'block' : 'none';\n",
              "\n",
              "      async function convertToInteractive(key) {\n",
              "        const element = document.querySelector('#df-e9c56db4-bc18-47e6-b081-21d0ac9fbfa4');\n",
              "        const dataTable =\n",
              "          await google.colab.kernel.invokeFunction('convertToInteractive',\n",
              "                                                    [key], {});\n",
              "        if (!dataTable) return;\n",
              "\n",
              "        const docLinkHtml = 'Like what you see? Visit the ' +\n",
              "          '<a target=\"_blank\" href=https://colab.research.google.com/notebooks/data_table.ipynb>data table notebook</a>'\n",
              "          + ' to learn more about interactive tables.';\n",
              "        element.innerHTML = '';\n",
              "        dataTable['output_type'] = 'display_data';\n",
              "        await google.colab.output.renderOutput(dataTable, element);\n",
              "        const docLink = document.createElement('div');\n",
              "        docLink.innerHTML = docLinkHtml;\n",
              "        element.appendChild(docLink);\n",
              "      }\n",
              "    </script>\n",
              "  </div>\n",
              "\n",
              "\n",
              "<div id=\"df-103d29e8-a4e8-41b0-9670-0135846aefca\">\n",
              "  <button class=\"colab-df-quickchart\" onclick=\"quickchart('df-103d29e8-a4e8-41b0-9670-0135846aefca')\"\n",
              "            title=\"Suggest charts\"\n",
              "            style=\"display:none;\">\n",
              "\n",
              "<svg xmlns=\"http://www.w3.org/2000/svg\" height=\"24px\"viewBox=\"0 0 24 24\"\n",
              "     width=\"24px\">\n",
              "    <g>\n",
              "        <path d=\"M19 3H5c-1.1 0-2 .9-2 2v14c0 1.1.9 2 2 2h14c1.1 0 2-.9 2-2V5c0-1.1-.9-2-2-2zM9 17H7v-7h2v7zm4 0h-2V7h2v10zm4 0h-2v-4h2v4z\"/>\n",
              "    </g>\n",
              "</svg>\n",
              "  </button>\n",
              "\n",
              "<style>\n",
              "  .colab-df-quickchart {\n",
              "      --bg-color: #E8F0FE;\n",
              "      --fill-color: #1967D2;\n",
              "      --hover-bg-color: #E2EBFA;\n",
              "      --hover-fill-color: #174EA6;\n",
              "      --disabled-fill-color: #AAA;\n",
              "      --disabled-bg-color: #DDD;\n",
              "  }\n",
              "\n",
              "  [theme=dark] .colab-df-quickchart {\n",
              "      --bg-color: #3B4455;\n",
              "      --fill-color: #D2E3FC;\n",
              "      --hover-bg-color: #434B5C;\n",
              "      --hover-fill-color: #FFFFFF;\n",
              "      --disabled-bg-color: #3B4455;\n",
              "      --disabled-fill-color: #666;\n",
              "  }\n",
              "\n",
              "  .colab-df-quickchart {\n",
              "    background-color: var(--bg-color);\n",
              "    border: none;\n",
              "    border-radius: 50%;\n",
              "    cursor: pointer;\n",
              "    display: none;\n",
              "    fill: var(--fill-color);\n",
              "    height: 32px;\n",
              "    padding: 0;\n",
              "    width: 32px;\n",
              "  }\n",
              "\n",
              "  .colab-df-quickchart:hover {\n",
              "    background-color: var(--hover-bg-color);\n",
              "    box-shadow: 0 1px 2px rgba(60, 64, 67, 0.3), 0 1px 3px 1px rgba(60, 64, 67, 0.15);\n",
              "    fill: var(--button-hover-fill-color);\n",
              "  }\n",
              "\n",
              "  .colab-df-quickchart-complete:disabled,\n",
              "  .colab-df-quickchart-complete:disabled:hover {\n",
              "    background-color: var(--disabled-bg-color);\n",
              "    fill: var(--disabled-fill-color);\n",
              "    box-shadow: none;\n",
              "  }\n",
              "\n",
              "  .colab-df-spinner {\n",
              "    border: 2px solid var(--fill-color);\n",
              "    border-color: transparent;\n",
              "    border-bottom-color: var(--fill-color);\n",
              "    animation:\n",
              "      spin 1s steps(1) infinite;\n",
              "  }\n",
              "\n",
              "  @keyframes spin {\n",
              "    0% {\n",
              "      border-color: transparent;\n",
              "      border-bottom-color: var(--fill-color);\n",
              "      border-left-color: var(--fill-color);\n",
              "    }\n",
              "    20% {\n",
              "      border-color: transparent;\n",
              "      border-left-color: var(--fill-color);\n",
              "      border-top-color: var(--fill-color);\n",
              "    }\n",
              "    30% {\n",
              "      border-color: transparent;\n",
              "      border-left-color: var(--fill-color);\n",
              "      border-top-color: var(--fill-color);\n",
              "      border-right-color: var(--fill-color);\n",
              "    }\n",
              "    40% {\n",
              "      border-color: transparent;\n",
              "      border-right-color: var(--fill-color);\n",
              "      border-top-color: var(--fill-color);\n",
              "    }\n",
              "    60% {\n",
              "      border-color: transparent;\n",
              "      border-right-color: var(--fill-color);\n",
              "    }\n",
              "    80% {\n",
              "      border-color: transparent;\n",
              "      border-right-color: var(--fill-color);\n",
              "      border-bottom-color: var(--fill-color);\n",
              "    }\n",
              "    90% {\n",
              "      border-color: transparent;\n",
              "      border-bottom-color: var(--fill-color);\n",
              "    }\n",
              "  }\n",
              "</style>\n",
              "\n",
              "  <script>\n",
              "    async function quickchart(key) {\n",
              "      const quickchartButtonEl =\n",
              "        document.querySelector('#' + key + ' button');\n",
              "      quickchartButtonEl.disabled = true;  // To prevent multiple clicks.\n",
              "      quickchartButtonEl.classList.add('colab-df-spinner');\n",
              "      try {\n",
              "        const charts = await google.colab.kernel.invokeFunction(\n",
              "            'suggestCharts', [key], {});\n",
              "      } catch (error) {\n",
              "        console.error('Error during call to suggestCharts:', error);\n",
              "      }\n",
              "      quickchartButtonEl.classList.remove('colab-df-spinner');\n",
              "      quickchartButtonEl.classList.add('colab-df-quickchart-complete');\n",
              "    }\n",
              "    (() => {\n",
              "      let quickchartButtonEl =\n",
              "        document.querySelector('#df-103d29e8-a4e8-41b0-9670-0135846aefca button');\n",
              "      quickchartButtonEl.style.display =\n",
              "        google.colab.kernel.accessAllowed ? 'block' : 'none';\n",
              "    })();\n",
              "  </script>\n",
              "</div>\n",
              "\n",
              "    </div>\n",
              "  </div>\n"
            ],
            "application/vnd.google.colaboratory.intrinsic+json": {
              "type": "dataframe",
              "variable_name": "df"
            }
          },
          "metadata": {},
          "execution_count": 75
        }
      ]
    },
    {
      "cell_type": "code",
      "source": [
        "df = pd.concat([df, one_hot_encode(df[[\"fuel_type\"]], df[\"fuel_type\"].unique(), other_col=\"not supported\")], axis=1, ignore_index=False)\n",
        "df.head()"
      ],
      "metadata": {
        "colab": {
          "base_uri": "https://localhost:8080/",
          "height": 568
        },
        "id": "HXVDBADG7h_A",
        "outputId": "ed282ccf-2887-4445-f078-808c2414565e"
      },
      "execution_count": 76,
      "outputs": [
        {
          "output_type": "execute_result",
          "data": {
            "text/plain": [
              "   brand                            model  model_year  milage      fuel_type  \\\n",
              "0   Ford  Utility Police Interceptor Base        2013   51000  E85 Flex Fuel   \n",
              "1  Other                     Palisade SEL        2021   34742       Gasoline   \n",
              "2  Lexus                    RX 350 RX 350        2022   22372       Gasoline   \n",
              "3  Other                 Q50 Hybrid Sport        2015   88900         Hybrid   \n",
              "4   Audi        Q3 45 S line Premium Plus        2021    9835       Gasoline   \n",
              "\n",
              "                                              engine transmission ext_col  \\\n",
              "0  300.0HP 3.7L V6 Cylinder Engine Flex Fuel Capa...    Automatic   black   \n",
              "1                               3.8L V6 24V GDI DOHC    Automatic   other   \n",
              "2                                     3.5 Liter DOHC    Automatic    blue   \n",
              "3  354.0HP 3.5L V6 Cylinder Engine Gas/Electric H...    Automatic   black   \n",
              "4                         2.0L I4 16V GDI DOHC Turbo    Automatic   white   \n",
              "\n",
              "  int_col                                accident  ... brand_category_luxury  \\\n",
              "0   black  At least 1 accident or damage reported  ...                     0   \n",
              "1    gray  At least 1 accident or damage reported  ...                     0   \n",
              "2   black                           None reported  ...                     0   \n",
              "3   black                           None reported  ...                     0   \n",
              "4   black                           None reported  ...                     0   \n",
              "\n",
              "   brand_category_cheap  transmission_Automatic  transmission_CVT  \\\n",
              "0                     0                       1                 0   \n",
              "1                     0                       1                 0   \n",
              "2                     0                       1                 0   \n",
              "3                     0                       1                 0   \n",
              "4                     0                       1                 0   \n",
              "\n",
              "   transmission_Manual fuel_type_E85 Flex Fuel  fuel_type_Gasoline  \\\n",
              "0                    0                       1                   0   \n",
              "1                    0                       0                   1   \n",
              "2                    0                       0                   1   \n",
              "3                    0                       0                   0   \n",
              "4                    0                       0                   1   \n",
              "\n",
              "   fuel_type_Hybrid  fuel_type_Diesel  fuel_type_Plug-In Hybrid  \n",
              "0                 0                 0                         0  \n",
              "1                 0                 0                         0  \n",
              "2                 0                 0                         0  \n",
              "3                 1                 0                         0  \n",
              "4                 0                 0                         0  \n",
              "\n",
              "[5 rows x 47 columns]"
            ],
            "text/html": [
              "\n",
              "  <div id=\"df-1df6a699-8a0b-49db-b21c-dfe3f4848cc4\" class=\"colab-df-container\">\n",
              "    <div>\n",
              "<style scoped>\n",
              "    .dataframe tbody tr th:only-of-type {\n",
              "        vertical-align: middle;\n",
              "    }\n",
              "\n",
              "    .dataframe tbody tr th {\n",
              "        vertical-align: top;\n",
              "    }\n",
              "\n",
              "    .dataframe thead th {\n",
              "        text-align: right;\n",
              "    }\n",
              "</style>\n",
              "<table border=\"1\" class=\"dataframe\">\n",
              "  <thead>\n",
              "    <tr style=\"text-align: right;\">\n",
              "      <th></th>\n",
              "      <th>brand</th>\n",
              "      <th>model</th>\n",
              "      <th>model_year</th>\n",
              "      <th>milage</th>\n",
              "      <th>fuel_type</th>\n",
              "      <th>engine</th>\n",
              "      <th>transmission</th>\n",
              "      <th>ext_col</th>\n",
              "      <th>int_col</th>\n",
              "      <th>accident</th>\n",
              "      <th>...</th>\n",
              "      <th>brand_category_luxury</th>\n",
              "      <th>brand_category_cheap</th>\n",
              "      <th>transmission_Automatic</th>\n",
              "      <th>transmission_CVT</th>\n",
              "      <th>transmission_Manual</th>\n",
              "      <th>fuel_type_E85 Flex Fuel</th>\n",
              "      <th>fuel_type_Gasoline</th>\n",
              "      <th>fuel_type_Hybrid</th>\n",
              "      <th>fuel_type_Diesel</th>\n",
              "      <th>fuel_type_Plug-In Hybrid</th>\n",
              "    </tr>\n",
              "  </thead>\n",
              "  <tbody>\n",
              "    <tr>\n",
              "      <th>0</th>\n",
              "      <td>Ford</td>\n",
              "      <td>Utility Police Interceptor Base</td>\n",
              "      <td>2013</td>\n",
              "      <td>51000</td>\n",
              "      <td>E85 Flex Fuel</td>\n",
              "      <td>300.0HP 3.7L V6 Cylinder Engine Flex Fuel Capa...</td>\n",
              "      <td>Automatic</td>\n",
              "      <td>black</td>\n",
              "      <td>black</td>\n",
              "      <td>At least 1 accident or damage reported</td>\n",
              "      <td>...</td>\n",
              "      <td>0</td>\n",
              "      <td>0</td>\n",
              "      <td>1</td>\n",
              "      <td>0</td>\n",
              "      <td>0</td>\n",
              "      <td>1</td>\n",
              "      <td>0</td>\n",
              "      <td>0</td>\n",
              "      <td>0</td>\n",
              "      <td>0</td>\n",
              "    </tr>\n",
              "    <tr>\n",
              "      <th>1</th>\n",
              "      <td>Other</td>\n",
              "      <td>Palisade SEL</td>\n",
              "      <td>2021</td>\n",
              "      <td>34742</td>\n",
              "      <td>Gasoline</td>\n",
              "      <td>3.8L V6 24V GDI DOHC</td>\n",
              "      <td>Automatic</td>\n",
              "      <td>other</td>\n",
              "      <td>gray</td>\n",
              "      <td>At least 1 accident or damage reported</td>\n",
              "      <td>...</td>\n",
              "      <td>0</td>\n",
              "      <td>0</td>\n",
              "      <td>1</td>\n",
              "      <td>0</td>\n",
              "      <td>0</td>\n",
              "      <td>0</td>\n",
              "      <td>1</td>\n",
              "      <td>0</td>\n",
              "      <td>0</td>\n",
              "      <td>0</td>\n",
              "    </tr>\n",
              "    <tr>\n",
              "      <th>2</th>\n",
              "      <td>Lexus</td>\n",
              "      <td>RX 350 RX 350</td>\n",
              "      <td>2022</td>\n",
              "      <td>22372</td>\n",
              "      <td>Gasoline</td>\n",
              "      <td>3.5 Liter DOHC</td>\n",
              "      <td>Automatic</td>\n",
              "      <td>blue</td>\n",
              "      <td>black</td>\n",
              "      <td>None reported</td>\n",
              "      <td>...</td>\n",
              "      <td>0</td>\n",
              "      <td>0</td>\n",
              "      <td>1</td>\n",
              "      <td>0</td>\n",
              "      <td>0</td>\n",
              "      <td>0</td>\n",
              "      <td>1</td>\n",
              "      <td>0</td>\n",
              "      <td>0</td>\n",
              "      <td>0</td>\n",
              "    </tr>\n",
              "    <tr>\n",
              "      <th>3</th>\n",
              "      <td>Other</td>\n",
              "      <td>Q50 Hybrid Sport</td>\n",
              "      <td>2015</td>\n",
              "      <td>88900</td>\n",
              "      <td>Hybrid</td>\n",
              "      <td>354.0HP 3.5L V6 Cylinder Engine Gas/Electric H...</td>\n",
              "      <td>Automatic</td>\n",
              "      <td>black</td>\n",
              "      <td>black</td>\n",
              "      <td>None reported</td>\n",
              "      <td>...</td>\n",
              "      <td>0</td>\n",
              "      <td>0</td>\n",
              "      <td>1</td>\n",
              "      <td>0</td>\n",
              "      <td>0</td>\n",
              "      <td>0</td>\n",
              "      <td>0</td>\n",
              "      <td>1</td>\n",
              "      <td>0</td>\n",
              "      <td>0</td>\n",
              "    </tr>\n",
              "    <tr>\n",
              "      <th>4</th>\n",
              "      <td>Audi</td>\n",
              "      <td>Q3 45 S line Premium Plus</td>\n",
              "      <td>2021</td>\n",
              "      <td>9835</td>\n",
              "      <td>Gasoline</td>\n",
              "      <td>2.0L I4 16V GDI DOHC Turbo</td>\n",
              "      <td>Automatic</td>\n",
              "      <td>white</td>\n",
              "      <td>black</td>\n",
              "      <td>None reported</td>\n",
              "      <td>...</td>\n",
              "      <td>0</td>\n",
              "      <td>0</td>\n",
              "      <td>1</td>\n",
              "      <td>0</td>\n",
              "      <td>0</td>\n",
              "      <td>0</td>\n",
              "      <td>1</td>\n",
              "      <td>0</td>\n",
              "      <td>0</td>\n",
              "      <td>0</td>\n",
              "    </tr>\n",
              "  </tbody>\n",
              "</table>\n",
              "<p>5 rows × 47 columns</p>\n",
              "</div>\n",
              "    <div class=\"colab-df-buttons\">\n",
              "\n",
              "  <div class=\"colab-df-container\">\n",
              "    <button class=\"colab-df-convert\" onclick=\"convertToInteractive('df-1df6a699-8a0b-49db-b21c-dfe3f4848cc4')\"\n",
              "            title=\"Convert this dataframe to an interactive table.\"\n",
              "            style=\"display:none;\">\n",
              "\n",
              "  <svg xmlns=\"http://www.w3.org/2000/svg\" height=\"24px\" viewBox=\"0 -960 960 960\">\n",
              "    <path d=\"M120-120v-720h720v720H120Zm60-500h600v-160H180v160Zm220 220h160v-160H400v160Zm0 220h160v-160H400v160ZM180-400h160v-160H180v160Zm440 0h160v-160H620v160ZM180-180h160v-160H180v160Zm440 0h160v-160H620v160Z\"/>\n",
              "  </svg>\n",
              "    </button>\n",
              "\n",
              "  <style>\n",
              "    .colab-df-container {\n",
              "      display:flex;\n",
              "      gap: 12px;\n",
              "    }\n",
              "\n",
              "    .colab-df-convert {\n",
              "      background-color: #E8F0FE;\n",
              "      border: none;\n",
              "      border-radius: 50%;\n",
              "      cursor: pointer;\n",
              "      display: none;\n",
              "      fill: #1967D2;\n",
              "      height: 32px;\n",
              "      padding: 0 0 0 0;\n",
              "      width: 32px;\n",
              "    }\n",
              "\n",
              "    .colab-df-convert:hover {\n",
              "      background-color: #E2EBFA;\n",
              "      box-shadow: 0px 1px 2px rgba(60, 64, 67, 0.3), 0px 1px 3px 1px rgba(60, 64, 67, 0.15);\n",
              "      fill: #174EA6;\n",
              "    }\n",
              "\n",
              "    .colab-df-buttons div {\n",
              "      margin-bottom: 4px;\n",
              "    }\n",
              "\n",
              "    [theme=dark] .colab-df-convert {\n",
              "      background-color: #3B4455;\n",
              "      fill: #D2E3FC;\n",
              "    }\n",
              "\n",
              "    [theme=dark] .colab-df-convert:hover {\n",
              "      background-color: #434B5C;\n",
              "      box-shadow: 0px 1px 3px 1px rgba(0, 0, 0, 0.15);\n",
              "      filter: drop-shadow(0px 1px 2px rgba(0, 0, 0, 0.3));\n",
              "      fill: #FFFFFF;\n",
              "    }\n",
              "  </style>\n",
              "\n",
              "    <script>\n",
              "      const buttonEl =\n",
              "        document.querySelector('#df-1df6a699-8a0b-49db-b21c-dfe3f4848cc4 button.colab-df-convert');\n",
              "      buttonEl.style.display =\n",
              "        google.colab.kernel.accessAllowed ? 'block' : 'none';\n",
              "\n",
              "      async function convertToInteractive(key) {\n",
              "        const element = document.querySelector('#df-1df6a699-8a0b-49db-b21c-dfe3f4848cc4');\n",
              "        const dataTable =\n",
              "          await google.colab.kernel.invokeFunction('convertToInteractive',\n",
              "                                                    [key], {});\n",
              "        if (!dataTable) return;\n",
              "\n",
              "        const docLinkHtml = 'Like what you see? Visit the ' +\n",
              "          '<a target=\"_blank\" href=https://colab.research.google.com/notebooks/data_table.ipynb>data table notebook</a>'\n",
              "          + ' to learn more about interactive tables.';\n",
              "        element.innerHTML = '';\n",
              "        dataTable['output_type'] = 'display_data';\n",
              "        await google.colab.output.renderOutput(dataTable, element);\n",
              "        const docLink = document.createElement('div');\n",
              "        docLink.innerHTML = docLinkHtml;\n",
              "        element.appendChild(docLink);\n",
              "      }\n",
              "    </script>\n",
              "  </div>\n",
              "\n",
              "\n",
              "<div id=\"df-e32e8b33-dc1f-4815-a89c-b617234a9878\">\n",
              "  <button class=\"colab-df-quickchart\" onclick=\"quickchart('df-e32e8b33-dc1f-4815-a89c-b617234a9878')\"\n",
              "            title=\"Suggest charts\"\n",
              "            style=\"display:none;\">\n",
              "\n",
              "<svg xmlns=\"http://www.w3.org/2000/svg\" height=\"24px\"viewBox=\"0 0 24 24\"\n",
              "     width=\"24px\">\n",
              "    <g>\n",
              "        <path d=\"M19 3H5c-1.1 0-2 .9-2 2v14c0 1.1.9 2 2 2h14c1.1 0 2-.9 2-2V5c0-1.1-.9-2-2-2zM9 17H7v-7h2v7zm4 0h-2V7h2v10zm4 0h-2v-4h2v4z\"/>\n",
              "    </g>\n",
              "</svg>\n",
              "  </button>\n",
              "\n",
              "<style>\n",
              "  .colab-df-quickchart {\n",
              "      --bg-color: #E8F0FE;\n",
              "      --fill-color: #1967D2;\n",
              "      --hover-bg-color: #E2EBFA;\n",
              "      --hover-fill-color: #174EA6;\n",
              "      --disabled-fill-color: #AAA;\n",
              "      --disabled-bg-color: #DDD;\n",
              "  }\n",
              "\n",
              "  [theme=dark] .colab-df-quickchart {\n",
              "      --bg-color: #3B4455;\n",
              "      --fill-color: #D2E3FC;\n",
              "      --hover-bg-color: #434B5C;\n",
              "      --hover-fill-color: #FFFFFF;\n",
              "      --disabled-bg-color: #3B4455;\n",
              "      --disabled-fill-color: #666;\n",
              "  }\n",
              "\n",
              "  .colab-df-quickchart {\n",
              "    background-color: var(--bg-color);\n",
              "    border: none;\n",
              "    border-radius: 50%;\n",
              "    cursor: pointer;\n",
              "    display: none;\n",
              "    fill: var(--fill-color);\n",
              "    height: 32px;\n",
              "    padding: 0;\n",
              "    width: 32px;\n",
              "  }\n",
              "\n",
              "  .colab-df-quickchart:hover {\n",
              "    background-color: var(--hover-bg-color);\n",
              "    box-shadow: 0 1px 2px rgba(60, 64, 67, 0.3), 0 1px 3px 1px rgba(60, 64, 67, 0.15);\n",
              "    fill: var(--button-hover-fill-color);\n",
              "  }\n",
              "\n",
              "  .colab-df-quickchart-complete:disabled,\n",
              "  .colab-df-quickchart-complete:disabled:hover {\n",
              "    background-color: var(--disabled-bg-color);\n",
              "    fill: var(--disabled-fill-color);\n",
              "    box-shadow: none;\n",
              "  }\n",
              "\n",
              "  .colab-df-spinner {\n",
              "    border: 2px solid var(--fill-color);\n",
              "    border-color: transparent;\n",
              "    border-bottom-color: var(--fill-color);\n",
              "    animation:\n",
              "      spin 1s steps(1) infinite;\n",
              "  }\n",
              "\n",
              "  @keyframes spin {\n",
              "    0% {\n",
              "      border-color: transparent;\n",
              "      border-bottom-color: var(--fill-color);\n",
              "      border-left-color: var(--fill-color);\n",
              "    }\n",
              "    20% {\n",
              "      border-color: transparent;\n",
              "      border-left-color: var(--fill-color);\n",
              "      border-top-color: var(--fill-color);\n",
              "    }\n",
              "    30% {\n",
              "      border-color: transparent;\n",
              "      border-left-color: var(--fill-color);\n",
              "      border-top-color: var(--fill-color);\n",
              "      border-right-color: var(--fill-color);\n",
              "    }\n",
              "    40% {\n",
              "      border-color: transparent;\n",
              "      border-right-color: var(--fill-color);\n",
              "      border-top-color: var(--fill-color);\n",
              "    }\n",
              "    60% {\n",
              "      border-color: transparent;\n",
              "      border-right-color: var(--fill-color);\n",
              "    }\n",
              "    80% {\n",
              "      border-color: transparent;\n",
              "      border-right-color: var(--fill-color);\n",
              "      border-bottom-color: var(--fill-color);\n",
              "    }\n",
              "    90% {\n",
              "      border-color: transparent;\n",
              "      border-bottom-color: var(--fill-color);\n",
              "    }\n",
              "  }\n",
              "</style>\n",
              "\n",
              "  <script>\n",
              "    async function quickchart(key) {\n",
              "      const quickchartButtonEl =\n",
              "        document.querySelector('#' + key + ' button');\n",
              "      quickchartButtonEl.disabled = true;  // To prevent multiple clicks.\n",
              "      quickchartButtonEl.classList.add('colab-df-spinner');\n",
              "      try {\n",
              "        const charts = await google.colab.kernel.invokeFunction(\n",
              "            'suggestCharts', [key], {});\n",
              "      } catch (error) {\n",
              "        console.error('Error during call to suggestCharts:', error);\n",
              "      }\n",
              "      quickchartButtonEl.classList.remove('colab-df-spinner');\n",
              "      quickchartButtonEl.classList.add('colab-df-quickchart-complete');\n",
              "    }\n",
              "    (() => {\n",
              "      let quickchartButtonEl =\n",
              "        document.querySelector('#df-e32e8b33-dc1f-4815-a89c-b617234a9878 button');\n",
              "      quickchartButtonEl.style.display =\n",
              "        google.colab.kernel.accessAllowed ? 'block' : 'none';\n",
              "    })();\n",
              "  </script>\n",
              "</div>\n",
              "\n",
              "    </div>\n",
              "  </div>\n"
            ],
            "application/vnd.google.colaboratory.intrinsic+json": {
              "type": "dataframe",
              "variable_name": "df"
            }
          },
          "metadata": {},
          "execution_count": 76
        }
      ]
    },
    {
      "cell_type": "code",
      "source": [
        "df = pd.concat([df, one_hot_encode(df[[\"accident\"]], df[\"accident\"].unique(), other_col=\"No data\")], axis=1, ignore_index=False)\n",
        "df.head()"
      ],
      "metadata": {
        "colab": {
          "base_uri": "https://localhost:8080/",
          "height": 620
        },
        "id": "V0ice4OH7m7g",
        "outputId": "dbd0acee-e1d7-48a5-e0dd-315675dfbf5d"
      },
      "execution_count": 77,
      "outputs": [
        {
          "output_type": "execute_result",
          "data": {
            "text/plain": [
              "   brand                            model  model_year  milage      fuel_type  \\\n",
              "0   Ford  Utility Police Interceptor Base        2013   51000  E85 Flex Fuel   \n",
              "1  Other                     Palisade SEL        2021   34742       Gasoline   \n",
              "2  Lexus                    RX 350 RX 350        2022   22372       Gasoline   \n",
              "3  Other                 Q50 Hybrid Sport        2015   88900         Hybrid   \n",
              "4   Audi        Q3 45 S line Premium Plus        2021    9835       Gasoline   \n",
              "\n",
              "                                              engine transmission ext_col  \\\n",
              "0  300.0HP 3.7L V6 Cylinder Engine Flex Fuel Capa...    Automatic   black   \n",
              "1                               3.8L V6 24V GDI DOHC    Automatic   other   \n",
              "2                                     3.5 Liter DOHC    Automatic    blue   \n",
              "3  354.0HP 3.5L V6 Cylinder Engine Gas/Electric H...    Automatic   black   \n",
              "4                         2.0L I4 16V GDI DOHC Turbo    Automatic   white   \n",
              "\n",
              "  int_col                                accident  ... transmission_Automatic  \\\n",
              "0   black  At least 1 accident or damage reported  ...                      1   \n",
              "1    gray  At least 1 accident or damage reported  ...                      1   \n",
              "2   black                           None reported  ...                      1   \n",
              "3   black                           None reported  ...                      1   \n",
              "4   black                           None reported  ...                      1   \n",
              "\n",
              "   transmission_CVT  transmission_Manual  fuel_type_E85 Flex Fuel  \\\n",
              "0                 0                    0                        1   \n",
              "1                 0                    0                        0   \n",
              "2                 0                    0                        0   \n",
              "3                 0                    0                        0   \n",
              "4                 0                    0                        0   \n",
              "\n",
              "   fuel_type_Gasoline fuel_type_Hybrid  fuel_type_Diesel  \\\n",
              "0                   0                0                 0   \n",
              "1                   1                0                 0   \n",
              "2                   1                0                 0   \n",
              "3                   0                1                 0   \n",
              "4                   1                0                 0   \n",
              "\n",
              "   fuel_type_Plug-In Hybrid  accident_At least 1 accident or damage reported  \\\n",
              "0                         0                                                1   \n",
              "1                         0                                                1   \n",
              "2                         0                                                0   \n",
              "3                         0                                                0   \n",
              "4                         0                                                0   \n",
              "\n",
              "   accident_None reported  \n",
              "0                       0  \n",
              "1                       0  \n",
              "2                       1  \n",
              "3                       1  \n",
              "4                       1  \n",
              "\n",
              "[5 rows x 49 columns]"
            ],
            "text/html": [
              "\n",
              "  <div id=\"df-d86f9d02-89a3-4739-8582-246be6c03e68\" class=\"colab-df-container\">\n",
              "    <div>\n",
              "<style scoped>\n",
              "    .dataframe tbody tr th:only-of-type {\n",
              "        vertical-align: middle;\n",
              "    }\n",
              "\n",
              "    .dataframe tbody tr th {\n",
              "        vertical-align: top;\n",
              "    }\n",
              "\n",
              "    .dataframe thead th {\n",
              "        text-align: right;\n",
              "    }\n",
              "</style>\n",
              "<table border=\"1\" class=\"dataframe\">\n",
              "  <thead>\n",
              "    <tr style=\"text-align: right;\">\n",
              "      <th></th>\n",
              "      <th>brand</th>\n",
              "      <th>model</th>\n",
              "      <th>model_year</th>\n",
              "      <th>milage</th>\n",
              "      <th>fuel_type</th>\n",
              "      <th>engine</th>\n",
              "      <th>transmission</th>\n",
              "      <th>ext_col</th>\n",
              "      <th>int_col</th>\n",
              "      <th>accident</th>\n",
              "      <th>...</th>\n",
              "      <th>transmission_Automatic</th>\n",
              "      <th>transmission_CVT</th>\n",
              "      <th>transmission_Manual</th>\n",
              "      <th>fuel_type_E85 Flex Fuel</th>\n",
              "      <th>fuel_type_Gasoline</th>\n",
              "      <th>fuel_type_Hybrid</th>\n",
              "      <th>fuel_type_Diesel</th>\n",
              "      <th>fuel_type_Plug-In Hybrid</th>\n",
              "      <th>accident_At least 1 accident or damage reported</th>\n",
              "      <th>accident_None reported</th>\n",
              "    </tr>\n",
              "  </thead>\n",
              "  <tbody>\n",
              "    <tr>\n",
              "      <th>0</th>\n",
              "      <td>Ford</td>\n",
              "      <td>Utility Police Interceptor Base</td>\n",
              "      <td>2013</td>\n",
              "      <td>51000</td>\n",
              "      <td>E85 Flex Fuel</td>\n",
              "      <td>300.0HP 3.7L V6 Cylinder Engine Flex Fuel Capa...</td>\n",
              "      <td>Automatic</td>\n",
              "      <td>black</td>\n",
              "      <td>black</td>\n",
              "      <td>At least 1 accident or damage reported</td>\n",
              "      <td>...</td>\n",
              "      <td>1</td>\n",
              "      <td>0</td>\n",
              "      <td>0</td>\n",
              "      <td>1</td>\n",
              "      <td>0</td>\n",
              "      <td>0</td>\n",
              "      <td>0</td>\n",
              "      <td>0</td>\n",
              "      <td>1</td>\n",
              "      <td>0</td>\n",
              "    </tr>\n",
              "    <tr>\n",
              "      <th>1</th>\n",
              "      <td>Other</td>\n",
              "      <td>Palisade SEL</td>\n",
              "      <td>2021</td>\n",
              "      <td>34742</td>\n",
              "      <td>Gasoline</td>\n",
              "      <td>3.8L V6 24V GDI DOHC</td>\n",
              "      <td>Automatic</td>\n",
              "      <td>other</td>\n",
              "      <td>gray</td>\n",
              "      <td>At least 1 accident or damage reported</td>\n",
              "      <td>...</td>\n",
              "      <td>1</td>\n",
              "      <td>0</td>\n",
              "      <td>0</td>\n",
              "      <td>0</td>\n",
              "      <td>1</td>\n",
              "      <td>0</td>\n",
              "      <td>0</td>\n",
              "      <td>0</td>\n",
              "      <td>1</td>\n",
              "      <td>0</td>\n",
              "    </tr>\n",
              "    <tr>\n",
              "      <th>2</th>\n",
              "      <td>Lexus</td>\n",
              "      <td>RX 350 RX 350</td>\n",
              "      <td>2022</td>\n",
              "      <td>22372</td>\n",
              "      <td>Gasoline</td>\n",
              "      <td>3.5 Liter DOHC</td>\n",
              "      <td>Automatic</td>\n",
              "      <td>blue</td>\n",
              "      <td>black</td>\n",
              "      <td>None reported</td>\n",
              "      <td>...</td>\n",
              "      <td>1</td>\n",
              "      <td>0</td>\n",
              "      <td>0</td>\n",
              "      <td>0</td>\n",
              "      <td>1</td>\n",
              "      <td>0</td>\n",
              "      <td>0</td>\n",
              "      <td>0</td>\n",
              "      <td>0</td>\n",
              "      <td>1</td>\n",
              "    </tr>\n",
              "    <tr>\n",
              "      <th>3</th>\n",
              "      <td>Other</td>\n",
              "      <td>Q50 Hybrid Sport</td>\n",
              "      <td>2015</td>\n",
              "      <td>88900</td>\n",
              "      <td>Hybrid</td>\n",
              "      <td>354.0HP 3.5L V6 Cylinder Engine Gas/Electric H...</td>\n",
              "      <td>Automatic</td>\n",
              "      <td>black</td>\n",
              "      <td>black</td>\n",
              "      <td>None reported</td>\n",
              "      <td>...</td>\n",
              "      <td>1</td>\n",
              "      <td>0</td>\n",
              "      <td>0</td>\n",
              "      <td>0</td>\n",
              "      <td>0</td>\n",
              "      <td>1</td>\n",
              "      <td>0</td>\n",
              "      <td>0</td>\n",
              "      <td>0</td>\n",
              "      <td>1</td>\n",
              "    </tr>\n",
              "    <tr>\n",
              "      <th>4</th>\n",
              "      <td>Audi</td>\n",
              "      <td>Q3 45 S line Premium Plus</td>\n",
              "      <td>2021</td>\n",
              "      <td>9835</td>\n",
              "      <td>Gasoline</td>\n",
              "      <td>2.0L I4 16V GDI DOHC Turbo</td>\n",
              "      <td>Automatic</td>\n",
              "      <td>white</td>\n",
              "      <td>black</td>\n",
              "      <td>None reported</td>\n",
              "      <td>...</td>\n",
              "      <td>1</td>\n",
              "      <td>0</td>\n",
              "      <td>0</td>\n",
              "      <td>0</td>\n",
              "      <td>1</td>\n",
              "      <td>0</td>\n",
              "      <td>0</td>\n",
              "      <td>0</td>\n",
              "      <td>0</td>\n",
              "      <td>1</td>\n",
              "    </tr>\n",
              "  </tbody>\n",
              "</table>\n",
              "<p>5 rows × 49 columns</p>\n",
              "</div>\n",
              "    <div class=\"colab-df-buttons\">\n",
              "\n",
              "  <div class=\"colab-df-container\">\n",
              "    <button class=\"colab-df-convert\" onclick=\"convertToInteractive('df-d86f9d02-89a3-4739-8582-246be6c03e68')\"\n",
              "            title=\"Convert this dataframe to an interactive table.\"\n",
              "            style=\"display:none;\">\n",
              "\n",
              "  <svg xmlns=\"http://www.w3.org/2000/svg\" height=\"24px\" viewBox=\"0 -960 960 960\">\n",
              "    <path d=\"M120-120v-720h720v720H120Zm60-500h600v-160H180v160Zm220 220h160v-160H400v160Zm0 220h160v-160H400v160ZM180-400h160v-160H180v160Zm440 0h160v-160H620v160ZM180-180h160v-160H180v160Zm440 0h160v-160H620v160Z\"/>\n",
              "  </svg>\n",
              "    </button>\n",
              "\n",
              "  <style>\n",
              "    .colab-df-container {\n",
              "      display:flex;\n",
              "      gap: 12px;\n",
              "    }\n",
              "\n",
              "    .colab-df-convert {\n",
              "      background-color: #E8F0FE;\n",
              "      border: none;\n",
              "      border-radius: 50%;\n",
              "      cursor: pointer;\n",
              "      display: none;\n",
              "      fill: #1967D2;\n",
              "      height: 32px;\n",
              "      padding: 0 0 0 0;\n",
              "      width: 32px;\n",
              "    }\n",
              "\n",
              "    .colab-df-convert:hover {\n",
              "      background-color: #E2EBFA;\n",
              "      box-shadow: 0px 1px 2px rgba(60, 64, 67, 0.3), 0px 1px 3px 1px rgba(60, 64, 67, 0.15);\n",
              "      fill: #174EA6;\n",
              "    }\n",
              "\n",
              "    .colab-df-buttons div {\n",
              "      margin-bottom: 4px;\n",
              "    }\n",
              "\n",
              "    [theme=dark] .colab-df-convert {\n",
              "      background-color: #3B4455;\n",
              "      fill: #D2E3FC;\n",
              "    }\n",
              "\n",
              "    [theme=dark] .colab-df-convert:hover {\n",
              "      background-color: #434B5C;\n",
              "      box-shadow: 0px 1px 3px 1px rgba(0, 0, 0, 0.15);\n",
              "      filter: drop-shadow(0px 1px 2px rgba(0, 0, 0, 0.3));\n",
              "      fill: #FFFFFF;\n",
              "    }\n",
              "  </style>\n",
              "\n",
              "    <script>\n",
              "      const buttonEl =\n",
              "        document.querySelector('#df-d86f9d02-89a3-4739-8582-246be6c03e68 button.colab-df-convert');\n",
              "      buttonEl.style.display =\n",
              "        google.colab.kernel.accessAllowed ? 'block' : 'none';\n",
              "\n",
              "      async function convertToInteractive(key) {\n",
              "        const element = document.querySelector('#df-d86f9d02-89a3-4739-8582-246be6c03e68');\n",
              "        const dataTable =\n",
              "          await google.colab.kernel.invokeFunction('convertToInteractive',\n",
              "                                                    [key], {});\n",
              "        if (!dataTable) return;\n",
              "\n",
              "        const docLinkHtml = 'Like what you see? Visit the ' +\n",
              "          '<a target=\"_blank\" href=https://colab.research.google.com/notebooks/data_table.ipynb>data table notebook</a>'\n",
              "          + ' to learn more about interactive tables.';\n",
              "        element.innerHTML = '';\n",
              "        dataTable['output_type'] = 'display_data';\n",
              "        await google.colab.output.renderOutput(dataTable, element);\n",
              "        const docLink = document.createElement('div');\n",
              "        docLink.innerHTML = docLinkHtml;\n",
              "        element.appendChild(docLink);\n",
              "      }\n",
              "    </script>\n",
              "  </div>\n",
              "\n",
              "\n",
              "<div id=\"df-f78e33a4-bd92-4e16-91c3-fa1cb1345fcd\">\n",
              "  <button class=\"colab-df-quickchart\" onclick=\"quickchart('df-f78e33a4-bd92-4e16-91c3-fa1cb1345fcd')\"\n",
              "            title=\"Suggest charts\"\n",
              "            style=\"display:none;\">\n",
              "\n",
              "<svg xmlns=\"http://www.w3.org/2000/svg\" height=\"24px\"viewBox=\"0 0 24 24\"\n",
              "     width=\"24px\">\n",
              "    <g>\n",
              "        <path d=\"M19 3H5c-1.1 0-2 .9-2 2v14c0 1.1.9 2 2 2h14c1.1 0 2-.9 2-2V5c0-1.1-.9-2-2-2zM9 17H7v-7h2v7zm4 0h-2V7h2v10zm4 0h-2v-4h2v4z\"/>\n",
              "    </g>\n",
              "</svg>\n",
              "  </button>\n",
              "\n",
              "<style>\n",
              "  .colab-df-quickchart {\n",
              "      --bg-color: #E8F0FE;\n",
              "      --fill-color: #1967D2;\n",
              "      --hover-bg-color: #E2EBFA;\n",
              "      --hover-fill-color: #174EA6;\n",
              "      --disabled-fill-color: #AAA;\n",
              "      --disabled-bg-color: #DDD;\n",
              "  }\n",
              "\n",
              "  [theme=dark] .colab-df-quickchart {\n",
              "      --bg-color: #3B4455;\n",
              "      --fill-color: #D2E3FC;\n",
              "      --hover-bg-color: #434B5C;\n",
              "      --hover-fill-color: #FFFFFF;\n",
              "      --disabled-bg-color: #3B4455;\n",
              "      --disabled-fill-color: #666;\n",
              "  }\n",
              "\n",
              "  .colab-df-quickchart {\n",
              "    background-color: var(--bg-color);\n",
              "    border: none;\n",
              "    border-radius: 50%;\n",
              "    cursor: pointer;\n",
              "    display: none;\n",
              "    fill: var(--fill-color);\n",
              "    height: 32px;\n",
              "    padding: 0;\n",
              "    width: 32px;\n",
              "  }\n",
              "\n",
              "  .colab-df-quickchart:hover {\n",
              "    background-color: var(--hover-bg-color);\n",
              "    box-shadow: 0 1px 2px rgba(60, 64, 67, 0.3), 0 1px 3px 1px rgba(60, 64, 67, 0.15);\n",
              "    fill: var(--button-hover-fill-color);\n",
              "  }\n",
              "\n",
              "  .colab-df-quickchart-complete:disabled,\n",
              "  .colab-df-quickchart-complete:disabled:hover {\n",
              "    background-color: var(--disabled-bg-color);\n",
              "    fill: var(--disabled-fill-color);\n",
              "    box-shadow: none;\n",
              "  }\n",
              "\n",
              "  .colab-df-spinner {\n",
              "    border: 2px solid var(--fill-color);\n",
              "    border-color: transparent;\n",
              "    border-bottom-color: var(--fill-color);\n",
              "    animation:\n",
              "      spin 1s steps(1) infinite;\n",
              "  }\n",
              "\n",
              "  @keyframes spin {\n",
              "    0% {\n",
              "      border-color: transparent;\n",
              "      border-bottom-color: var(--fill-color);\n",
              "      border-left-color: var(--fill-color);\n",
              "    }\n",
              "    20% {\n",
              "      border-color: transparent;\n",
              "      border-left-color: var(--fill-color);\n",
              "      border-top-color: var(--fill-color);\n",
              "    }\n",
              "    30% {\n",
              "      border-color: transparent;\n",
              "      border-left-color: var(--fill-color);\n",
              "      border-top-color: var(--fill-color);\n",
              "      border-right-color: var(--fill-color);\n",
              "    }\n",
              "    40% {\n",
              "      border-color: transparent;\n",
              "      border-right-color: var(--fill-color);\n",
              "      border-top-color: var(--fill-color);\n",
              "    }\n",
              "    60% {\n",
              "      border-color: transparent;\n",
              "      border-right-color: var(--fill-color);\n",
              "    }\n",
              "    80% {\n",
              "      border-color: transparent;\n",
              "      border-right-color: var(--fill-color);\n",
              "      border-bottom-color: var(--fill-color);\n",
              "    }\n",
              "    90% {\n",
              "      border-color: transparent;\n",
              "      border-bottom-color: var(--fill-color);\n",
              "    }\n",
              "  }\n",
              "</style>\n",
              "\n",
              "  <script>\n",
              "    async function quickchart(key) {\n",
              "      const quickchartButtonEl =\n",
              "        document.querySelector('#' + key + ' button');\n",
              "      quickchartButtonEl.disabled = true;  // To prevent multiple clicks.\n",
              "      quickchartButtonEl.classList.add('colab-df-spinner');\n",
              "      try {\n",
              "        const charts = await google.colab.kernel.invokeFunction(\n",
              "            'suggestCharts', [key], {});\n",
              "      } catch (error) {\n",
              "        console.error('Error during call to suggestCharts:', error);\n",
              "      }\n",
              "      quickchartButtonEl.classList.remove('colab-df-spinner');\n",
              "      quickchartButtonEl.classList.add('colab-df-quickchart-complete');\n",
              "    }\n",
              "    (() => {\n",
              "      let quickchartButtonEl =\n",
              "        document.querySelector('#df-f78e33a4-bd92-4e16-91c3-fa1cb1345fcd button');\n",
              "      quickchartButtonEl.style.display =\n",
              "        google.colab.kernel.accessAllowed ? 'block' : 'none';\n",
              "    })();\n",
              "  </script>\n",
              "</div>\n",
              "\n",
              "    </div>\n",
              "  </div>\n"
            ],
            "application/vnd.google.colaboratory.intrinsic+json": {
              "type": "dataframe",
              "variable_name": "df"
            }
          },
          "metadata": {},
          "execution_count": 77
        }
      ]
    },
    {
      "cell_type": "code",
      "source": [
        "df = pd.concat([df, one_hot_encode(df[[\"clean_title\"]], df[\"clean_title\"].unique())], axis=1, ignore_index=False)\n",
        "df.head()"
      ],
      "metadata": {
        "colab": {
          "base_uri": "https://localhost:8080/",
          "height": 620
        },
        "id": "KQ558dFT7rQH",
        "outputId": "9d2045b2-5174-4506-9c9d-d0ab2bcbe52c"
      },
      "execution_count": 78,
      "outputs": [
        {
          "output_type": "execute_result",
          "data": {
            "text/plain": [
              "   brand                            model  model_year  milage      fuel_type  \\\n",
              "0   Ford  Utility Police Interceptor Base        2013   51000  E85 Flex Fuel   \n",
              "1  Other                     Palisade SEL        2021   34742       Gasoline   \n",
              "2  Lexus                    RX 350 RX 350        2022   22372       Gasoline   \n",
              "3  Other                 Q50 Hybrid Sport        2015   88900         Hybrid   \n",
              "4   Audi        Q3 45 S line Premium Plus        2021    9835       Gasoline   \n",
              "\n",
              "                                              engine transmission ext_col  \\\n",
              "0  300.0HP 3.7L V6 Cylinder Engine Flex Fuel Capa...    Automatic   black   \n",
              "1                               3.8L V6 24V GDI DOHC    Automatic   other   \n",
              "2                                     3.5 Liter DOHC    Automatic    blue   \n",
              "3  354.0HP 3.5L V6 Cylinder Engine Gas/Electric H...    Automatic   black   \n",
              "4                         2.0L I4 16V GDI DOHC Turbo    Automatic   white   \n",
              "\n",
              "  int_col                                accident  ... transmission_Manual  \\\n",
              "0   black  At least 1 accident or damage reported  ...                   0   \n",
              "1    gray  At least 1 accident or damage reported  ...                   0   \n",
              "2   black                           None reported  ...                   0   \n",
              "3   black                           None reported  ...                   0   \n",
              "4   black                           None reported  ...                   0   \n",
              "\n",
              "   fuel_type_E85 Flex Fuel  fuel_type_Gasoline  fuel_type_Hybrid  \\\n",
              "0                        1                   0                 0   \n",
              "1                        0                   1                 0   \n",
              "2                        0                   1                 0   \n",
              "3                        0                   0                 1   \n",
              "4                        0                   1                 0   \n",
              "\n",
              "   fuel_type_Diesel fuel_type_Plug-In Hybrid  \\\n",
              "0                 0                        0   \n",
              "1                 0                        0   \n",
              "2                 0                        0   \n",
              "3                 0                        0   \n",
              "4                 0                        0   \n",
              "\n",
              "   accident_At least 1 accident or damage reported  accident_None reported  \\\n",
              "0                                                1                       0   \n",
              "1                                                1                       0   \n",
              "2                                                0                       1   \n",
              "3                                                0                       1   \n",
              "4                                                0                       1   \n",
              "\n",
              "   clean_title_Yes  clean_title_No  \n",
              "0                1               0  \n",
              "1                1               0  \n",
              "2                0               1  \n",
              "3                1               0  \n",
              "4                0               1  \n",
              "\n",
              "[5 rows x 51 columns]"
            ],
            "text/html": [
              "\n",
              "  <div id=\"df-504d9464-c18b-42b8-95d0-7ea86842e416\" class=\"colab-df-container\">\n",
              "    <div>\n",
              "<style scoped>\n",
              "    .dataframe tbody tr th:only-of-type {\n",
              "        vertical-align: middle;\n",
              "    }\n",
              "\n",
              "    .dataframe tbody tr th {\n",
              "        vertical-align: top;\n",
              "    }\n",
              "\n",
              "    .dataframe thead th {\n",
              "        text-align: right;\n",
              "    }\n",
              "</style>\n",
              "<table border=\"1\" class=\"dataframe\">\n",
              "  <thead>\n",
              "    <tr style=\"text-align: right;\">\n",
              "      <th></th>\n",
              "      <th>brand</th>\n",
              "      <th>model</th>\n",
              "      <th>model_year</th>\n",
              "      <th>milage</th>\n",
              "      <th>fuel_type</th>\n",
              "      <th>engine</th>\n",
              "      <th>transmission</th>\n",
              "      <th>ext_col</th>\n",
              "      <th>int_col</th>\n",
              "      <th>accident</th>\n",
              "      <th>...</th>\n",
              "      <th>transmission_Manual</th>\n",
              "      <th>fuel_type_E85 Flex Fuel</th>\n",
              "      <th>fuel_type_Gasoline</th>\n",
              "      <th>fuel_type_Hybrid</th>\n",
              "      <th>fuel_type_Diesel</th>\n",
              "      <th>fuel_type_Plug-In Hybrid</th>\n",
              "      <th>accident_At least 1 accident or damage reported</th>\n",
              "      <th>accident_None reported</th>\n",
              "      <th>clean_title_Yes</th>\n",
              "      <th>clean_title_No</th>\n",
              "    </tr>\n",
              "  </thead>\n",
              "  <tbody>\n",
              "    <tr>\n",
              "      <th>0</th>\n",
              "      <td>Ford</td>\n",
              "      <td>Utility Police Interceptor Base</td>\n",
              "      <td>2013</td>\n",
              "      <td>51000</td>\n",
              "      <td>E85 Flex Fuel</td>\n",
              "      <td>300.0HP 3.7L V6 Cylinder Engine Flex Fuel Capa...</td>\n",
              "      <td>Automatic</td>\n",
              "      <td>black</td>\n",
              "      <td>black</td>\n",
              "      <td>At least 1 accident or damage reported</td>\n",
              "      <td>...</td>\n",
              "      <td>0</td>\n",
              "      <td>1</td>\n",
              "      <td>0</td>\n",
              "      <td>0</td>\n",
              "      <td>0</td>\n",
              "      <td>0</td>\n",
              "      <td>1</td>\n",
              "      <td>0</td>\n",
              "      <td>1</td>\n",
              "      <td>0</td>\n",
              "    </tr>\n",
              "    <tr>\n",
              "      <th>1</th>\n",
              "      <td>Other</td>\n",
              "      <td>Palisade SEL</td>\n",
              "      <td>2021</td>\n",
              "      <td>34742</td>\n",
              "      <td>Gasoline</td>\n",
              "      <td>3.8L V6 24V GDI DOHC</td>\n",
              "      <td>Automatic</td>\n",
              "      <td>other</td>\n",
              "      <td>gray</td>\n",
              "      <td>At least 1 accident or damage reported</td>\n",
              "      <td>...</td>\n",
              "      <td>0</td>\n",
              "      <td>0</td>\n",
              "      <td>1</td>\n",
              "      <td>0</td>\n",
              "      <td>0</td>\n",
              "      <td>0</td>\n",
              "      <td>1</td>\n",
              "      <td>0</td>\n",
              "      <td>1</td>\n",
              "      <td>0</td>\n",
              "    </tr>\n",
              "    <tr>\n",
              "      <th>2</th>\n",
              "      <td>Lexus</td>\n",
              "      <td>RX 350 RX 350</td>\n",
              "      <td>2022</td>\n",
              "      <td>22372</td>\n",
              "      <td>Gasoline</td>\n",
              "      <td>3.5 Liter DOHC</td>\n",
              "      <td>Automatic</td>\n",
              "      <td>blue</td>\n",
              "      <td>black</td>\n",
              "      <td>None reported</td>\n",
              "      <td>...</td>\n",
              "      <td>0</td>\n",
              "      <td>0</td>\n",
              "      <td>1</td>\n",
              "      <td>0</td>\n",
              "      <td>0</td>\n",
              "      <td>0</td>\n",
              "      <td>0</td>\n",
              "      <td>1</td>\n",
              "      <td>0</td>\n",
              "      <td>1</td>\n",
              "    </tr>\n",
              "    <tr>\n",
              "      <th>3</th>\n",
              "      <td>Other</td>\n",
              "      <td>Q50 Hybrid Sport</td>\n",
              "      <td>2015</td>\n",
              "      <td>88900</td>\n",
              "      <td>Hybrid</td>\n",
              "      <td>354.0HP 3.5L V6 Cylinder Engine Gas/Electric H...</td>\n",
              "      <td>Automatic</td>\n",
              "      <td>black</td>\n",
              "      <td>black</td>\n",
              "      <td>None reported</td>\n",
              "      <td>...</td>\n",
              "      <td>0</td>\n",
              "      <td>0</td>\n",
              "      <td>0</td>\n",
              "      <td>1</td>\n",
              "      <td>0</td>\n",
              "      <td>0</td>\n",
              "      <td>0</td>\n",
              "      <td>1</td>\n",
              "      <td>1</td>\n",
              "      <td>0</td>\n",
              "    </tr>\n",
              "    <tr>\n",
              "      <th>4</th>\n",
              "      <td>Audi</td>\n",
              "      <td>Q3 45 S line Premium Plus</td>\n",
              "      <td>2021</td>\n",
              "      <td>9835</td>\n",
              "      <td>Gasoline</td>\n",
              "      <td>2.0L I4 16V GDI DOHC Turbo</td>\n",
              "      <td>Automatic</td>\n",
              "      <td>white</td>\n",
              "      <td>black</td>\n",
              "      <td>None reported</td>\n",
              "      <td>...</td>\n",
              "      <td>0</td>\n",
              "      <td>0</td>\n",
              "      <td>1</td>\n",
              "      <td>0</td>\n",
              "      <td>0</td>\n",
              "      <td>0</td>\n",
              "      <td>0</td>\n",
              "      <td>1</td>\n",
              "      <td>0</td>\n",
              "      <td>1</td>\n",
              "    </tr>\n",
              "  </tbody>\n",
              "</table>\n",
              "<p>5 rows × 51 columns</p>\n",
              "</div>\n",
              "    <div class=\"colab-df-buttons\">\n",
              "\n",
              "  <div class=\"colab-df-container\">\n",
              "    <button class=\"colab-df-convert\" onclick=\"convertToInteractive('df-504d9464-c18b-42b8-95d0-7ea86842e416')\"\n",
              "            title=\"Convert this dataframe to an interactive table.\"\n",
              "            style=\"display:none;\">\n",
              "\n",
              "  <svg xmlns=\"http://www.w3.org/2000/svg\" height=\"24px\" viewBox=\"0 -960 960 960\">\n",
              "    <path d=\"M120-120v-720h720v720H120Zm60-500h600v-160H180v160Zm220 220h160v-160H400v160Zm0 220h160v-160H400v160ZM180-400h160v-160H180v160Zm440 0h160v-160H620v160ZM180-180h160v-160H180v160Zm440 0h160v-160H620v160Z\"/>\n",
              "  </svg>\n",
              "    </button>\n",
              "\n",
              "  <style>\n",
              "    .colab-df-container {\n",
              "      display:flex;\n",
              "      gap: 12px;\n",
              "    }\n",
              "\n",
              "    .colab-df-convert {\n",
              "      background-color: #E8F0FE;\n",
              "      border: none;\n",
              "      border-radius: 50%;\n",
              "      cursor: pointer;\n",
              "      display: none;\n",
              "      fill: #1967D2;\n",
              "      height: 32px;\n",
              "      padding: 0 0 0 0;\n",
              "      width: 32px;\n",
              "    }\n",
              "\n",
              "    .colab-df-convert:hover {\n",
              "      background-color: #E2EBFA;\n",
              "      box-shadow: 0px 1px 2px rgba(60, 64, 67, 0.3), 0px 1px 3px 1px rgba(60, 64, 67, 0.15);\n",
              "      fill: #174EA6;\n",
              "    }\n",
              "\n",
              "    .colab-df-buttons div {\n",
              "      margin-bottom: 4px;\n",
              "    }\n",
              "\n",
              "    [theme=dark] .colab-df-convert {\n",
              "      background-color: #3B4455;\n",
              "      fill: #D2E3FC;\n",
              "    }\n",
              "\n",
              "    [theme=dark] .colab-df-convert:hover {\n",
              "      background-color: #434B5C;\n",
              "      box-shadow: 0px 1px 3px 1px rgba(0, 0, 0, 0.15);\n",
              "      filter: drop-shadow(0px 1px 2px rgba(0, 0, 0, 0.3));\n",
              "      fill: #FFFFFF;\n",
              "    }\n",
              "  </style>\n",
              "\n",
              "    <script>\n",
              "      const buttonEl =\n",
              "        document.querySelector('#df-504d9464-c18b-42b8-95d0-7ea86842e416 button.colab-df-convert');\n",
              "      buttonEl.style.display =\n",
              "        google.colab.kernel.accessAllowed ? 'block' : 'none';\n",
              "\n",
              "      async function convertToInteractive(key) {\n",
              "        const element = document.querySelector('#df-504d9464-c18b-42b8-95d0-7ea86842e416');\n",
              "        const dataTable =\n",
              "          await google.colab.kernel.invokeFunction('convertToInteractive',\n",
              "                                                    [key], {});\n",
              "        if (!dataTable) return;\n",
              "\n",
              "        const docLinkHtml = 'Like what you see? Visit the ' +\n",
              "          '<a target=\"_blank\" href=https://colab.research.google.com/notebooks/data_table.ipynb>data table notebook</a>'\n",
              "          + ' to learn more about interactive tables.';\n",
              "        element.innerHTML = '';\n",
              "        dataTable['output_type'] = 'display_data';\n",
              "        await google.colab.output.renderOutput(dataTable, element);\n",
              "        const docLink = document.createElement('div');\n",
              "        docLink.innerHTML = docLinkHtml;\n",
              "        element.appendChild(docLink);\n",
              "      }\n",
              "    </script>\n",
              "  </div>\n",
              "\n",
              "\n",
              "<div id=\"df-76518642-3dbb-4417-9bdd-91dbfdf7d3cf\">\n",
              "  <button class=\"colab-df-quickchart\" onclick=\"quickchart('df-76518642-3dbb-4417-9bdd-91dbfdf7d3cf')\"\n",
              "            title=\"Suggest charts\"\n",
              "            style=\"display:none;\">\n",
              "\n",
              "<svg xmlns=\"http://www.w3.org/2000/svg\" height=\"24px\"viewBox=\"0 0 24 24\"\n",
              "     width=\"24px\">\n",
              "    <g>\n",
              "        <path d=\"M19 3H5c-1.1 0-2 .9-2 2v14c0 1.1.9 2 2 2h14c1.1 0 2-.9 2-2V5c0-1.1-.9-2-2-2zM9 17H7v-7h2v7zm4 0h-2V7h2v10zm4 0h-2v-4h2v4z\"/>\n",
              "    </g>\n",
              "</svg>\n",
              "  </button>\n",
              "\n",
              "<style>\n",
              "  .colab-df-quickchart {\n",
              "      --bg-color: #E8F0FE;\n",
              "      --fill-color: #1967D2;\n",
              "      --hover-bg-color: #E2EBFA;\n",
              "      --hover-fill-color: #174EA6;\n",
              "      --disabled-fill-color: #AAA;\n",
              "      --disabled-bg-color: #DDD;\n",
              "  }\n",
              "\n",
              "  [theme=dark] .colab-df-quickchart {\n",
              "      --bg-color: #3B4455;\n",
              "      --fill-color: #D2E3FC;\n",
              "      --hover-bg-color: #434B5C;\n",
              "      --hover-fill-color: #FFFFFF;\n",
              "      --disabled-bg-color: #3B4455;\n",
              "      --disabled-fill-color: #666;\n",
              "  }\n",
              "\n",
              "  .colab-df-quickchart {\n",
              "    background-color: var(--bg-color);\n",
              "    border: none;\n",
              "    border-radius: 50%;\n",
              "    cursor: pointer;\n",
              "    display: none;\n",
              "    fill: var(--fill-color);\n",
              "    height: 32px;\n",
              "    padding: 0;\n",
              "    width: 32px;\n",
              "  }\n",
              "\n",
              "  .colab-df-quickchart:hover {\n",
              "    background-color: var(--hover-bg-color);\n",
              "    box-shadow: 0 1px 2px rgba(60, 64, 67, 0.3), 0 1px 3px 1px rgba(60, 64, 67, 0.15);\n",
              "    fill: var(--button-hover-fill-color);\n",
              "  }\n",
              "\n",
              "  .colab-df-quickchart-complete:disabled,\n",
              "  .colab-df-quickchart-complete:disabled:hover {\n",
              "    background-color: var(--disabled-bg-color);\n",
              "    fill: var(--disabled-fill-color);\n",
              "    box-shadow: none;\n",
              "  }\n",
              "\n",
              "  .colab-df-spinner {\n",
              "    border: 2px solid var(--fill-color);\n",
              "    border-color: transparent;\n",
              "    border-bottom-color: var(--fill-color);\n",
              "    animation:\n",
              "      spin 1s steps(1) infinite;\n",
              "  }\n",
              "\n",
              "  @keyframes spin {\n",
              "    0% {\n",
              "      border-color: transparent;\n",
              "      border-bottom-color: var(--fill-color);\n",
              "      border-left-color: var(--fill-color);\n",
              "    }\n",
              "    20% {\n",
              "      border-color: transparent;\n",
              "      border-left-color: var(--fill-color);\n",
              "      border-top-color: var(--fill-color);\n",
              "    }\n",
              "    30% {\n",
              "      border-color: transparent;\n",
              "      border-left-color: var(--fill-color);\n",
              "      border-top-color: var(--fill-color);\n",
              "      border-right-color: var(--fill-color);\n",
              "    }\n",
              "    40% {\n",
              "      border-color: transparent;\n",
              "      border-right-color: var(--fill-color);\n",
              "      border-top-color: var(--fill-color);\n",
              "    }\n",
              "    60% {\n",
              "      border-color: transparent;\n",
              "      border-right-color: var(--fill-color);\n",
              "    }\n",
              "    80% {\n",
              "      border-color: transparent;\n",
              "      border-right-color: var(--fill-color);\n",
              "      border-bottom-color: var(--fill-color);\n",
              "    }\n",
              "    90% {\n",
              "      border-color: transparent;\n",
              "      border-bottom-color: var(--fill-color);\n",
              "    }\n",
              "  }\n",
              "</style>\n",
              "\n",
              "  <script>\n",
              "    async function quickchart(key) {\n",
              "      const quickchartButtonEl =\n",
              "        document.querySelector('#' + key + ' button');\n",
              "      quickchartButtonEl.disabled = true;  // To prevent multiple clicks.\n",
              "      quickchartButtonEl.classList.add('colab-df-spinner');\n",
              "      try {\n",
              "        const charts = await google.colab.kernel.invokeFunction(\n",
              "            'suggestCharts', [key], {});\n",
              "      } catch (error) {\n",
              "        console.error('Error during call to suggestCharts:', error);\n",
              "      }\n",
              "      quickchartButtonEl.classList.remove('colab-df-spinner');\n",
              "      quickchartButtonEl.classList.add('colab-df-quickchart-complete');\n",
              "    }\n",
              "    (() => {\n",
              "      let quickchartButtonEl =\n",
              "        document.querySelector('#df-76518642-3dbb-4417-9bdd-91dbfdf7d3cf button');\n",
              "      quickchartButtonEl.style.display =\n",
              "        google.colab.kernel.accessAllowed ? 'block' : 'none';\n",
              "    })();\n",
              "  </script>\n",
              "</div>\n",
              "\n",
              "    </div>\n",
              "  </div>\n"
            ],
            "application/vnd.google.colaboratory.intrinsic+json": {
              "type": "dataframe",
              "variable_name": "df"
            }
          },
          "metadata": {},
          "execution_count": 78
        }
      ]
    },
    {
      "cell_type": "code",
      "source": [
        "df.info()"
      ],
      "metadata": {
        "colab": {
          "base_uri": "https://localhost:8080/"
        },
        "id": "smwL1gco7t4-",
        "outputId": "a42c4479-1fcf-4db3-cbe8-bebed1dbd509"
      },
      "execution_count": 79,
      "outputs": [
        {
          "output_type": "stream",
          "name": "stdout",
          "text": [
            "<class 'pandas.core.frame.DataFrame'>\n",
            "Index: 3664 entries, 0 to 4008\n",
            "Data columns (total 51 columns):\n",
            " #   Column                                           Non-Null Count  Dtype  \n",
            "---  ------                                           --------------  -----  \n",
            " 0   brand                                            3664 non-null   object \n",
            " 1   model                                            3664 non-null   object \n",
            " 2   model_year                                       3664 non-null   int64  \n",
            " 3   milage                                           3664 non-null   int64  \n",
            " 4   fuel_type                                        3664 non-null   object \n",
            " 5   engine                                           3664 non-null   object \n",
            " 6   transmission                                     3664 non-null   object \n",
            " 7   ext_col                                          3664 non-null   object \n",
            " 8   int_col                                          3664 non-null   object \n",
            " 9   accident                                         3664 non-null   object \n",
            " 10  clean_title                                      3664 non-null   object \n",
            " 11  price                                            3664 non-null   int64  \n",
            " 12  hp                                               3664 non-null   float64\n",
            " 13  engine_capacity                                  3664 non-null   float64\n",
            " 14  cylinders                                        3664 non-null   int64  \n",
            " 15  brand_category                                   3664 non-null   object \n",
            " 16  age                                              3664 non-null   int64  \n",
            " 17  brand_Ford                                       3664 non-null   int64  \n",
            " 18  brand_Lexus                                      3664 non-null   int64  \n",
            " 19  brand_Audi                                       3664 non-null   int64  \n",
            " 20  brand_BMW                                        3664 non-null   int64  \n",
            " 21  brand_Land                                       3664 non-null   int64  \n",
            " 22  brand_Aston                                      3664 non-null   int64  \n",
            " 23  brand_Toyota                                     3664 non-null   int64  \n",
            " 24  brand_Mercedes-Benz                              3664 non-null   int64  \n",
            " 25  brand_Chevrolet                                  3664 non-null   int64  \n",
            " 26  brand_Jeep                                       3664 non-null   int64  \n",
            " 27  brand_Bentley                                    3664 non-null   int64  \n",
            " 28  brand_Porsche                                    3664 non-null   int64  \n",
            " 29  brand_Lamborghini                                3664 non-null   int64  \n",
            " 30  brand_Maserati                                   3664 non-null   int64  \n",
            " 31  brand_Ferrari                                    3664 non-null   int64  \n",
            " 32  brand_Bugatti                                    3664 non-null   int64  \n",
            " 33  brand_McLaren                                    3664 non-null   int64  \n",
            " 34  brand_Rolls-Royce                                3664 non-null   int64  \n",
            " 35  brand_category_premium                           3664 non-null   int64  \n",
            " 36  brand_category_expensive                         3664 non-null   int64  \n",
            " 37  brand_category_luxury                            3664 non-null   int64  \n",
            " 38  brand_category_cheap                             3664 non-null   int64  \n",
            " 39  transmission_Automatic                           3664 non-null   int64  \n",
            " 40  transmission_CVT                                 3664 non-null   int64  \n",
            " 41  transmission_Manual                              3664 non-null   int64  \n",
            " 42  fuel_type_E85 Flex Fuel                          3664 non-null   int64  \n",
            " 43  fuel_type_Gasoline                               3664 non-null   int64  \n",
            " 44  fuel_type_Hybrid                                 3664 non-null   int64  \n",
            " 45  fuel_type_Diesel                                 3664 non-null   int64  \n",
            " 46  fuel_type_Plug-In Hybrid                         3664 non-null   int64  \n",
            " 47  accident_At least 1 accident or damage reported  3664 non-null   int64  \n",
            " 48  accident_None reported                           3664 non-null   int64  \n",
            " 49  clean_title_Yes                                  3664 non-null   int64  \n",
            " 50  clean_title_No                                   3664 non-null   int64  \n",
            "dtypes: float64(2), int64(39), object(10)\n",
            "memory usage: 1.5+ MB\n"
          ]
        }
      ]
    },
    {
      "cell_type": "markdown",
      "source": [
        "**Dropping Unwanted Columns**"
      ],
      "metadata": {
        "id": "DwD1XZaR73lk"
      }
    },
    {
      "cell_type": "code",
      "source": [
        "cols_to_drop = [\"model\", \"engine\", \"ext_col\", \"int_col\", \"accident\", \"fuel_type\", \"clean_title\", \"brand\", \"brand_category\", \"transmission\", \"model_year\"]\n",
        "train_df = df.drop(cols_to_drop, axis=1)\n",
        "train_df.info()"
      ],
      "metadata": {
        "colab": {
          "base_uri": "https://localhost:8080/"
        },
        "id": "Gi3EQKqv72C6",
        "outputId": "cbd21077-9b40-4b37-91e1-715f85f89324"
      },
      "execution_count": 80,
      "outputs": [
        {
          "output_type": "stream",
          "name": "stdout",
          "text": [
            "<class 'pandas.core.frame.DataFrame'>\n",
            "Index: 3664 entries, 0 to 4008\n",
            "Data columns (total 40 columns):\n",
            " #   Column                                           Non-Null Count  Dtype  \n",
            "---  ------                                           --------------  -----  \n",
            " 0   milage                                           3664 non-null   int64  \n",
            " 1   price                                            3664 non-null   int64  \n",
            " 2   hp                                               3664 non-null   float64\n",
            " 3   engine_capacity                                  3664 non-null   float64\n",
            " 4   cylinders                                        3664 non-null   int64  \n",
            " 5   age                                              3664 non-null   int64  \n",
            " 6   brand_Ford                                       3664 non-null   int64  \n",
            " 7   brand_Lexus                                      3664 non-null   int64  \n",
            " 8   brand_Audi                                       3664 non-null   int64  \n",
            " 9   brand_BMW                                        3664 non-null   int64  \n",
            " 10  brand_Land                                       3664 non-null   int64  \n",
            " 11  brand_Aston                                      3664 non-null   int64  \n",
            " 12  brand_Toyota                                     3664 non-null   int64  \n",
            " 13  brand_Mercedes-Benz                              3664 non-null   int64  \n",
            " 14  brand_Chevrolet                                  3664 non-null   int64  \n",
            " 15  brand_Jeep                                       3664 non-null   int64  \n",
            " 16  brand_Bentley                                    3664 non-null   int64  \n",
            " 17  brand_Porsche                                    3664 non-null   int64  \n",
            " 18  brand_Lamborghini                                3664 non-null   int64  \n",
            " 19  brand_Maserati                                   3664 non-null   int64  \n",
            " 20  brand_Ferrari                                    3664 non-null   int64  \n",
            " 21  brand_Bugatti                                    3664 non-null   int64  \n",
            " 22  brand_McLaren                                    3664 non-null   int64  \n",
            " 23  brand_Rolls-Royce                                3664 non-null   int64  \n",
            " 24  brand_category_premium                           3664 non-null   int64  \n",
            " 25  brand_category_expensive                         3664 non-null   int64  \n",
            " 26  brand_category_luxury                            3664 non-null   int64  \n",
            " 27  brand_category_cheap                             3664 non-null   int64  \n",
            " 28  transmission_Automatic                           3664 non-null   int64  \n",
            " 29  transmission_CVT                                 3664 non-null   int64  \n",
            " 30  transmission_Manual                              3664 non-null   int64  \n",
            " 31  fuel_type_E85 Flex Fuel                          3664 non-null   int64  \n",
            " 32  fuel_type_Gasoline                               3664 non-null   int64  \n",
            " 33  fuel_type_Hybrid                                 3664 non-null   int64  \n",
            " 34  fuel_type_Diesel                                 3664 non-null   int64  \n",
            " 35  fuel_type_Plug-In Hybrid                         3664 non-null   int64  \n",
            " 36  accident_At least 1 accident or damage reported  3664 non-null   int64  \n",
            " 37  accident_None reported                           3664 non-null   int64  \n",
            " 38  clean_title_Yes                                  3664 non-null   int64  \n",
            " 39  clean_title_No                                   3664 non-null   int64  \n",
            "dtypes: float64(2), int64(38)\n",
            "memory usage: 1.1 MB\n"
          ]
        }
      ]
    },
    {
      "cell_type": "markdown",
      "source": [
        "# **5. Modeling**"
      ],
      "metadata": {
        "id": "_VmFhjDX8HoX"
      }
    },
    {
      "cell_type": "code",
      "source": [
        "x = train_df.drop(\"price\", axis = 1)\n",
        "y = df[\"price\"]"
      ],
      "metadata": {
        "id": "ggRQuwfG8LzX"
      },
      "execution_count": 81,
      "outputs": []
    },
    {
      "cell_type": "markdown",
      "source": [
        "## **5.1. Model Selection**"
      ],
      "metadata": {
        "id": "3IFC78gn8OT-"
      }
    },
    {
      "cell_type": "markdown",
      "source": [
        "**Gradient Boosting**"
      ],
      "metadata": {
        "id": "GSJaZhlS8aEu"
      }
    },
    {
      "cell_type": "code",
      "source": [
        "math.sqrt(cv(GradientBoostingRegressor(), x, y, n_jobs=-1, cv=3, scoring='neg_mean_squared_error').mean() * -1)"
      ],
      "metadata": {
        "colab": {
          "base_uri": "https://localhost:8080/"
        },
        "id": "QRVoQ0Y28R7K",
        "outputId": "387d9e85-9d87-4f6f-a3af-c4b41ce51f91"
      },
      "execution_count": 82,
      "outputs": [
        {
          "output_type": "execute_result",
          "data": {
            "text/plain": [
              "66543.01259674464"
            ]
          },
          "metadata": {},
          "execution_count": 82
        }
      ]
    },
    {
      "cell_type": "markdown",
      "source": [
        "**ElasticNet**"
      ],
      "metadata": {
        "id": "vtHnlYFz8eBG"
      }
    },
    {
      "cell_type": "code",
      "source": [
        "math.sqrt(cv(ElasticNet(), x, y, n_jobs=-1, cv=3, scoring='neg_mean_squared_error').mean() * -1)"
      ],
      "metadata": {
        "colab": {
          "base_uri": "https://localhost:8080/"
        },
        "id": "o2suUEsb8iyt",
        "outputId": "810127da-9fbd-4244-cd27-7379b7a07a87"
      },
      "execution_count": 83,
      "outputs": [
        {
          "output_type": "execute_result",
          "data": {
            "text/plain": [
              "74543.96463323629"
            ]
          },
          "metadata": {},
          "execution_count": 83
        }
      ]
    },
    {
      "cell_type": "markdown",
      "source": [
        "**SGD Regressor Model**"
      ],
      "metadata": {
        "id": "PRXE90Z98qY6"
      }
    },
    {
      "cell_type": "code",
      "source": [
        "math.sqrt(cv(SGDRegressor(), x, y, n_jobs=-1, cv=3, scoring='neg_mean_squared_error').mean() * -1)"
      ],
      "metadata": {
        "colab": {
          "base_uri": "https://localhost:8080/"
        },
        "id": "unBn3wQK8slI",
        "outputId": "3fc3da94-907a-46f3-b26d-a6c4de70d55f"
      },
      "execution_count": 84,
      "outputs": [
        {
          "output_type": "execute_result",
          "data": {
            "text/plain": [
              "3.863347312271905e+18"
            ]
          },
          "metadata": {},
          "execution_count": 84
        }
      ]
    },
    {
      "cell_type": "markdown",
      "source": [
        "**CatBoost Model**"
      ],
      "metadata": {
        "id": "VMNkO2Gq8ymX"
      }
    },
    {
      "cell_type": "code",
      "source": [
        "# model4 = CatBoostRegressor(iterations = 200, learning_rate=0.07)\n",
        "math.sqrt(cv(CatBoostRegressor(iterations = 500, learning_rate=0.019, verbose=500), x, y, n_jobs=-1, cv=3, scoring='neg_mean_squared_error').mean() * -1)"
      ],
      "metadata": {
        "colab": {
          "base_uri": "https://localhost:8080/"
        },
        "id": "DSp-e3DC8z0J",
        "outputId": "83d27700-8c29-420b-c7e5-5b1fad0bcee0"
      },
      "execution_count": 85,
      "outputs": [
        {
          "output_type": "execute_result",
          "data": {
            "text/plain": [
              "66820.89041305296"
            ]
          },
          "metadata": {},
          "execution_count": 85
        }
      ]
    },
    {
      "cell_type": "markdown",
      "source": [
        "**XGB Model**"
      ],
      "metadata": {
        "id": "2KfMxtgF85dh"
      }
    },
    {
      "cell_type": "code",
      "source": [
        "math.sqrt(cv(XGBRegressor(), x, y, n_jobs=-1, cv=3, scoring='neg_mean_squared_error').mean() * -1)\n"
      ],
      "metadata": {
        "colab": {
          "base_uri": "https://localhost:8080/"
        },
        "id": "8DEVPKZb86mF",
        "outputId": "7f7899f9-4063-40f2-dd67-ea6e3f8780d8"
      },
      "execution_count": 86,
      "outputs": [
        {
          "output_type": "execute_result",
          "data": {
            "text/plain": [
              "63676.06225192998"
            ]
          },
          "metadata": {},
          "execution_count": 86
        }
      ]
    },
    {
      "cell_type": "markdown",
      "source": [
        "**LGBMRegressor Model¶**"
      ],
      "metadata": {
        "id": "zQ4lJUJk8_zb"
      }
    },
    {
      "cell_type": "code",
      "source": [
        "math.sqrt(cv(LGBMRegressor(), x, y, n_jobs=-1, cv=3, scoring='neg_mean_squared_error').mean() * -1)"
      ],
      "metadata": {
        "colab": {
          "base_uri": "https://localhost:8080/"
        },
        "id": "8_UCQlUL9Bcn",
        "outputId": "417f80ed-5b3d-4e90-dc3f-c07651b52c5c"
      },
      "execution_count": 87,
      "outputs": [
        {
          "output_type": "execute_result",
          "data": {
            "text/plain": [
              "64587.63062001381"
            ]
          },
          "metadata": {},
          "execution_count": 87
        }
      ]
    },
    {
      "cell_type": "markdown",
      "source": [
        "**Final Model & Optimization - Optuna**"
      ],
      "metadata": {
        "id": "Ge_vM7DF9H1F"
      }
    },
    {
      "cell_type": "code",
      "source": [
        "# GB Regressor\n",
        "def objective_gb(trial):\n",
        "    params = {\n",
        "        \"n_estimators\": trial.suggest_int('n_estimators', 50, 500),\n",
        "        \"learning_rate\": trial.suggest_float('learning_rate', 0.01, 0.3),\n",
        "        \"max_depth\": trial.suggest_int('max_depth', 2, 10),\n",
        "        \"min_samples_split\": trial.suggest_int('min_samples_split', 2, 5),\n",
        "        \"min_samples_leaf\": trial.suggest_int('min_samples_leaf', 1, 5),\n",
        "        \"subsample\": trial.suggest_float('subsample', 0.4, 0.8)\n",
        "    }\n",
        "\n",
        "    model = GradientBoostingRegressor(**params)\n",
        "    return math.sqrt(cv(model, x, y, n_jobs=-1, cv=3, scoring='neg_mean_squared_error').mean() * -1)"
      ],
      "metadata": {
        "id": "N_fBb1Bp9JUF"
      },
      "execution_count": 88,
      "outputs": []
    },
    {
      "cell_type": "code",
      "source": [
        "# cat regressor\n",
        "def objective_lgbm(trial):\n",
        "    params = {\n",
        "        \"learning_rate\": trial.suggest_float('learning_rate', 0.01, 0.3),\n",
        "        \"iterations\": trial.suggest_int('iterations', 100, 2000),\n",
        "        \"depth\": trial.suggest_int('depth', 4, 10),\n",
        "        \"l2_leaf_reg\": trial.suggest_float('l2_leaf_reg', 0.03, 10.0),\n",
        "        \"random_strength\": trial.suggest_float('random_strength', 0.5, 10),\n",
        "        \"bagging_temperature\": trial.suggest_float('bagging_temperature', 0.0, 1.0)\n",
        "    }\n",
        "\n",
        "    model = LB(**params, verbose=0)\n",
        "    return math.sqrt(cv(model, x, y, n_jobs=-1, cv=3, scoring='neg_mean_squared_error').mean() * -1)"
      ],
      "metadata": {
        "id": "fwBtHWWW9Ong"
      },
      "execution_count": 89,
      "outputs": []
    },
    {
      "cell_type": "code",
      "source": [
        "model_cat = CatBoostRegressor(iterations = 500, learning_rate=0.019, verbose=0)\n",
        "model_cat.fit(x, y)"
      ],
      "metadata": {
        "colab": {
          "base_uri": "https://localhost:8080/"
        },
        "id": "SzL6jWst_IyG",
        "outputId": "ae0898ff-3925-45cb-c9e8-a333be8c0602"
      },
      "execution_count": 96,
      "outputs": [
        {
          "output_type": "execute_result",
          "data": {
            "text/plain": [
              "<catboost.core.CatBoostRegressor at 0x7ab294158790>"
            ]
          },
          "metadata": {},
          "execution_count": 96
        }
      ]
    },
    {
      "cell_type": "markdown",
      "source": [
        "**Prediction on test data¶**"
      ],
      "metadata": {
        "id": "KQqZzPOL9TPz"
      }
    },
    {
      "cell_type": "code",
      "source": [
        "def transform_df(test_df, train_cols):\n",
        "    test_df[\"age\"] = test_df[\"model_year\"].apply(extract_age)\n",
        "    test_df[\"fuel_type\"] = test_df[\"fuel_type\"].fillna(\"not supported\")\n",
        "    test_df[\"fuel_type\"] = test_df[\"fuel_type\"].replace({\"–\":\"not supported\"})\n",
        "    test_df[\"accident\"] = test_df[\"accident\"].fillna(\"No data\")\n",
        "    test_df[\"accident\"] = test_df[\"accident\"].replace({\"–\":\"No data\"})\n",
        "    test_df[\"clean_title\"] = test_df[\"clean_title\"].fillna(\"No\")\n",
        "    test_df[\"clean_title\"] = test_df[\"clean_title\"].replace({\"–\":\"No\"})\n",
        "    test_df[\"hp\"] = test_df[\"engine\"].apply(extract_hp)\n",
        "    test_df[\"brand_category\"] = test_df[\"brand\"].apply(brand_category)\n",
        "    test_df[\"brand\"] = test_df[\"brand\"].apply(prepare_brand_value)\n",
        "    test_df[\"engine_capacity\"] = test_df[\"engine\"].apply(extract_engine_capacity)\n",
        "    test_df[\"cylinders\"] = test_df[\"engine\"].apply(extract_cylinder)\n",
        "    test_df[\"transmission\"] = test_df[\"transmission\"].apply(extract_transmission_type)\n",
        "    test_df[\"ext_col\"] = test_df[\"ext_col\"].apply(get_matplot_color)\n",
        "    test_df[\"ext_col\"] = test_df[\"ext_col\"].apply(lambda x: top_10_cols(x, top_10_ext_cols))\n",
        "    test_df[\"int_col\"] = test_df[\"int_col\"].apply(get_matplot_color)\n",
        "    test_df[\"int_col\"] = test_df[\"int_col\"].apply(lambda x: top_10_cols(x, top_10_int_cols))\n",
        "#     test_df = extract_availability(df = test_df, threshold=OrderedDict({\"common\":500, \"moderate\":100, \"rare\":0}), else_label = \"rare\")\n",
        "    test_df = pd.concat([test_df, one_hot_encode(test_df[[\"brand\"]], df[\"brand\"].unique(), other_col=\"Other\")], axis=1, ignore_index=False)\n",
        "    test_df = pd.concat([test_df, one_hot_encode(test_df[[\"brand_category\"]], df[\"brand_category\"].unique(), other_col=\"other\")], axis=1, ignore_index=False)\n",
        "    test_df = pd.concat([test_df, one_hot_encode(test_df[[\"transmission\"]], df[\"transmission\"].unique(), other_col=\"Other\")], axis=1, ignore_index=False)\n",
        "    test_df = pd.concat([test_df, one_hot_encode(test_df[[\"fuel_type\"]], df[\"fuel_type\"].unique(), other_col=\"not supported\")], axis=1, ignore_index=False)\n",
        "#     test_df = pd.concat([test_df, one_hot_encode(test_df[[\"availability\"]], df[\"availability\"].unique())], axis=1, ignore_index=False)\n",
        "#     test_df = pd.concat([test_df, one_hot_encode(test_df[[\"ext_col\"]], df[\"ext_col\"].unique(), other_col=\"other\")], axis=1, ignore_index=False)\n",
        "#     test_df = pd.concat([test_df, one_hot_encode(test_df[[\"int_col\"]], df[\"int_col\"].unique(), other_col=\"other\")], axis=1, ignore_index=False)\n",
        "    test_df = pd.concat([test_df, one_hot_encode(test_df[[\"accident\"]], df[\"accident\"].unique(), other_col=\"No data\")], axis=1, ignore_index=False)\n",
        "    test_df = pd.concat([test_df, one_hot_encode(test_df[[\"clean_title\"]], df[\"clean_title\"].unique())], axis=1, ignore_index=False)\n",
        "    test_df = test_df.drop(cols_to_drop, axis=1)\n",
        "\n",
        "    return test_df[train_cols]\n",
        "\n"
      ],
      "metadata": {
        "id": "2qlVQaIl9VRs"
      },
      "execution_count": 90,
      "outputs": []
    },
    {
      "cell_type": "code",
      "source": [
        "test_df = pd.read_csv(\"test.csv\", index_col=\"id\")\n",
        "test_df.info()"
      ],
      "metadata": {
        "colab": {
          "base_uri": "https://localhost:8080/"
        },
        "id": "lIYVU5Wc9hqL",
        "outputId": "5870fdc0-de67-4242-d31f-52ec2b3ea483"
      },
      "execution_count": 92,
      "outputs": [
        {
          "output_type": "stream",
          "name": "stdout",
          "text": [
            "<class 'pandas.core.frame.DataFrame'>\n",
            "Index: 125690 entries, 188533 to 314222\n",
            "Data columns (total 11 columns):\n",
            " #   Column        Non-Null Count   Dtype \n",
            "---  ------        --------------   ----- \n",
            " 0   brand         125690 non-null  object\n",
            " 1   model         125690 non-null  object\n",
            " 2   model_year    125690 non-null  int64 \n",
            " 3   milage        125690 non-null  int64 \n",
            " 4   fuel_type     122307 non-null  object\n",
            " 5   engine        125690 non-null  object\n",
            " 6   transmission  125690 non-null  object\n",
            " 7   ext_col       125690 non-null  object\n",
            " 8   int_col       125690 non-null  object\n",
            " 9   accident      124058 non-null  object\n",
            " 10  clean_title   111451 non-null  object\n",
            "dtypes: int64(2), object(9)\n",
            "memory usage: 11.5+ MB\n"
          ]
        }
      ]
    },
    {
      "cell_type": "code",
      "source": [
        "test_df = transform_df(test_df, train_cols=x.columns)"
      ],
      "metadata": {
        "id": "TaZywmrO-v_F"
      },
      "execution_count": 93,
      "outputs": []
    },
    {
      "cell_type": "code",
      "source": [
        "test_df.head()"
      ],
      "metadata": {
        "colab": {
          "base_uri": "https://localhost:8080/",
          "height": 356
        },
        "id": "laMNuYjC-1LK",
        "outputId": "7fa44185-d5b3-46ee-93e6-23c85acdd114"
      },
      "execution_count": 94,
      "outputs": [
        {
          "output_type": "execute_result",
          "data": {
            "text/plain": [
              "        milage     hp  engine_capacity  cylinders  age  brand_Ford  \\\n",
              "id                                                                   \n",
              "188533   98000  240.0              2.0          4    9           0   \n",
              "188534    9142  395.0              3.0          6    4           0   \n",
              "188535   28121    0.0              3.5          0    2           1   \n",
              "188536   61258    0.0              0.0          0    8           0   \n",
              "188537   59000  252.0              2.0          4    6           0   \n",
              "\n",
              "        brand_Lexus  brand_Audi  brand_BMW  brand_Land  ...  \\\n",
              "id                                                      ...   \n",
              "188533            0           0          0           1  ...   \n",
              "188534            0           0          0           1  ...   \n",
              "188535            0           0          0           0  ...   \n",
              "188536            0           1          0           0  ...   \n",
              "188537            0           1          0           0  ...   \n",
              "\n",
              "        transmission_Manual  fuel_type_E85 Flex Fuel  fuel_type_Gasoline  \\\n",
              "id                                                                         \n",
              "188533                    0                        0                   1   \n",
              "188534                    0                        0                   0   \n",
              "188535                    0                        0                   1   \n",
              "188536                    0                        0                   1   \n",
              "188537                    0                        0                   1   \n",
              "\n",
              "        fuel_type_Hybrid  fuel_type_Diesel  fuel_type_Plug-In Hybrid  \\\n",
              "id                                                                     \n",
              "188533                 0                 0                         0   \n",
              "188534                 1                 0                         0   \n",
              "188535                 0                 0                         0   \n",
              "188536                 0                 0                         0   \n",
              "188537                 0                 0                         0   \n",
              "\n",
              "        accident_At least 1 accident or damage reported  \\\n",
              "id                                                        \n",
              "188533                                                0   \n",
              "188534                                                0   \n",
              "188535                                                0   \n",
              "188536                                                0   \n",
              "188537                                                0   \n",
              "\n",
              "        accident_None reported  clean_title_Yes  clean_title_No  \n",
              "id                                                               \n",
              "188533                       1                1               0  \n",
              "188534                       1                1               0  \n",
              "188535                       1                0               1  \n",
              "188536                       1                0               1  \n",
              "188537                       1                1               0  \n",
              "\n",
              "[5 rows x 39 columns]"
            ],
            "text/html": [
              "\n",
              "  <div id=\"df-13432399-ef79-4a9f-957c-ecc8d1b97f38\" class=\"colab-df-container\">\n",
              "    <div>\n",
              "<style scoped>\n",
              "    .dataframe tbody tr th:only-of-type {\n",
              "        vertical-align: middle;\n",
              "    }\n",
              "\n",
              "    .dataframe tbody tr th {\n",
              "        vertical-align: top;\n",
              "    }\n",
              "\n",
              "    .dataframe thead th {\n",
              "        text-align: right;\n",
              "    }\n",
              "</style>\n",
              "<table border=\"1\" class=\"dataframe\">\n",
              "  <thead>\n",
              "    <tr style=\"text-align: right;\">\n",
              "      <th></th>\n",
              "      <th>milage</th>\n",
              "      <th>hp</th>\n",
              "      <th>engine_capacity</th>\n",
              "      <th>cylinders</th>\n",
              "      <th>age</th>\n",
              "      <th>brand_Ford</th>\n",
              "      <th>brand_Lexus</th>\n",
              "      <th>brand_Audi</th>\n",
              "      <th>brand_BMW</th>\n",
              "      <th>brand_Land</th>\n",
              "      <th>...</th>\n",
              "      <th>transmission_Manual</th>\n",
              "      <th>fuel_type_E85 Flex Fuel</th>\n",
              "      <th>fuel_type_Gasoline</th>\n",
              "      <th>fuel_type_Hybrid</th>\n",
              "      <th>fuel_type_Diesel</th>\n",
              "      <th>fuel_type_Plug-In Hybrid</th>\n",
              "      <th>accident_At least 1 accident or damage reported</th>\n",
              "      <th>accident_None reported</th>\n",
              "      <th>clean_title_Yes</th>\n",
              "      <th>clean_title_No</th>\n",
              "    </tr>\n",
              "    <tr>\n",
              "      <th>id</th>\n",
              "      <th></th>\n",
              "      <th></th>\n",
              "      <th></th>\n",
              "      <th></th>\n",
              "      <th></th>\n",
              "      <th></th>\n",
              "      <th></th>\n",
              "      <th></th>\n",
              "      <th></th>\n",
              "      <th></th>\n",
              "      <th></th>\n",
              "      <th></th>\n",
              "      <th></th>\n",
              "      <th></th>\n",
              "      <th></th>\n",
              "      <th></th>\n",
              "      <th></th>\n",
              "      <th></th>\n",
              "      <th></th>\n",
              "      <th></th>\n",
              "      <th></th>\n",
              "    </tr>\n",
              "  </thead>\n",
              "  <tbody>\n",
              "    <tr>\n",
              "      <th>188533</th>\n",
              "      <td>98000</td>\n",
              "      <td>240.0</td>\n",
              "      <td>2.0</td>\n",
              "      <td>4</td>\n",
              "      <td>9</td>\n",
              "      <td>0</td>\n",
              "      <td>0</td>\n",
              "      <td>0</td>\n",
              "      <td>0</td>\n",
              "      <td>1</td>\n",
              "      <td>...</td>\n",
              "      <td>0</td>\n",
              "      <td>0</td>\n",
              "      <td>1</td>\n",
              "      <td>0</td>\n",
              "      <td>0</td>\n",
              "      <td>0</td>\n",
              "      <td>0</td>\n",
              "      <td>1</td>\n",
              "      <td>1</td>\n",
              "      <td>0</td>\n",
              "    </tr>\n",
              "    <tr>\n",
              "      <th>188534</th>\n",
              "      <td>9142</td>\n",
              "      <td>395.0</td>\n",
              "      <td>3.0</td>\n",
              "      <td>6</td>\n",
              "      <td>4</td>\n",
              "      <td>0</td>\n",
              "      <td>0</td>\n",
              "      <td>0</td>\n",
              "      <td>0</td>\n",
              "      <td>1</td>\n",
              "      <td>...</td>\n",
              "      <td>0</td>\n",
              "      <td>0</td>\n",
              "      <td>0</td>\n",
              "      <td>1</td>\n",
              "      <td>0</td>\n",
              "      <td>0</td>\n",
              "      <td>0</td>\n",
              "      <td>1</td>\n",
              "      <td>1</td>\n",
              "      <td>0</td>\n",
              "    </tr>\n",
              "    <tr>\n",
              "      <th>188535</th>\n",
              "      <td>28121</td>\n",
              "      <td>0.0</td>\n",
              "      <td>3.5</td>\n",
              "      <td>0</td>\n",
              "      <td>2</td>\n",
              "      <td>1</td>\n",
              "      <td>0</td>\n",
              "      <td>0</td>\n",
              "      <td>0</td>\n",
              "      <td>0</td>\n",
              "      <td>...</td>\n",
              "      <td>0</td>\n",
              "      <td>0</td>\n",
              "      <td>1</td>\n",
              "      <td>0</td>\n",
              "      <td>0</td>\n",
              "      <td>0</td>\n",
              "      <td>0</td>\n",
              "      <td>1</td>\n",
              "      <td>0</td>\n",
              "      <td>1</td>\n",
              "    </tr>\n",
              "    <tr>\n",
              "      <th>188536</th>\n",
              "      <td>61258</td>\n",
              "      <td>0.0</td>\n",
              "      <td>0.0</td>\n",
              "      <td>0</td>\n",
              "      <td>8</td>\n",
              "      <td>0</td>\n",
              "      <td>0</td>\n",
              "      <td>1</td>\n",
              "      <td>0</td>\n",
              "      <td>0</td>\n",
              "      <td>...</td>\n",
              "      <td>0</td>\n",
              "      <td>0</td>\n",
              "      <td>1</td>\n",
              "      <td>0</td>\n",
              "      <td>0</td>\n",
              "      <td>0</td>\n",
              "      <td>0</td>\n",
              "      <td>1</td>\n",
              "      <td>0</td>\n",
              "      <td>1</td>\n",
              "    </tr>\n",
              "    <tr>\n",
              "      <th>188537</th>\n",
              "      <td>59000</td>\n",
              "      <td>252.0</td>\n",
              "      <td>2.0</td>\n",
              "      <td>4</td>\n",
              "      <td>6</td>\n",
              "      <td>0</td>\n",
              "      <td>0</td>\n",
              "      <td>1</td>\n",
              "      <td>0</td>\n",
              "      <td>0</td>\n",
              "      <td>...</td>\n",
              "      <td>0</td>\n",
              "      <td>0</td>\n",
              "      <td>1</td>\n",
              "      <td>0</td>\n",
              "      <td>0</td>\n",
              "      <td>0</td>\n",
              "      <td>0</td>\n",
              "      <td>1</td>\n",
              "      <td>1</td>\n",
              "      <td>0</td>\n",
              "    </tr>\n",
              "  </tbody>\n",
              "</table>\n",
              "<p>5 rows × 39 columns</p>\n",
              "</div>\n",
              "    <div class=\"colab-df-buttons\">\n",
              "\n",
              "  <div class=\"colab-df-container\">\n",
              "    <button class=\"colab-df-convert\" onclick=\"convertToInteractive('df-13432399-ef79-4a9f-957c-ecc8d1b97f38')\"\n",
              "            title=\"Convert this dataframe to an interactive table.\"\n",
              "            style=\"display:none;\">\n",
              "\n",
              "  <svg xmlns=\"http://www.w3.org/2000/svg\" height=\"24px\" viewBox=\"0 -960 960 960\">\n",
              "    <path d=\"M120-120v-720h720v720H120Zm60-500h600v-160H180v160Zm220 220h160v-160H400v160Zm0 220h160v-160H400v160ZM180-400h160v-160H180v160Zm440 0h160v-160H620v160ZM180-180h160v-160H180v160Zm440 0h160v-160H620v160Z\"/>\n",
              "  </svg>\n",
              "    </button>\n",
              "\n",
              "  <style>\n",
              "    .colab-df-container {\n",
              "      display:flex;\n",
              "      gap: 12px;\n",
              "    }\n",
              "\n",
              "    .colab-df-convert {\n",
              "      background-color: #E8F0FE;\n",
              "      border: none;\n",
              "      border-radius: 50%;\n",
              "      cursor: pointer;\n",
              "      display: none;\n",
              "      fill: #1967D2;\n",
              "      height: 32px;\n",
              "      padding: 0 0 0 0;\n",
              "      width: 32px;\n",
              "    }\n",
              "\n",
              "    .colab-df-convert:hover {\n",
              "      background-color: #E2EBFA;\n",
              "      box-shadow: 0px 1px 2px rgba(60, 64, 67, 0.3), 0px 1px 3px 1px rgba(60, 64, 67, 0.15);\n",
              "      fill: #174EA6;\n",
              "    }\n",
              "\n",
              "    .colab-df-buttons div {\n",
              "      margin-bottom: 4px;\n",
              "    }\n",
              "\n",
              "    [theme=dark] .colab-df-convert {\n",
              "      background-color: #3B4455;\n",
              "      fill: #D2E3FC;\n",
              "    }\n",
              "\n",
              "    [theme=dark] .colab-df-convert:hover {\n",
              "      background-color: #434B5C;\n",
              "      box-shadow: 0px 1px 3px 1px rgba(0, 0, 0, 0.15);\n",
              "      filter: drop-shadow(0px 1px 2px rgba(0, 0, 0, 0.3));\n",
              "      fill: #FFFFFF;\n",
              "    }\n",
              "  </style>\n",
              "\n",
              "    <script>\n",
              "      const buttonEl =\n",
              "        document.querySelector('#df-13432399-ef79-4a9f-957c-ecc8d1b97f38 button.colab-df-convert');\n",
              "      buttonEl.style.display =\n",
              "        google.colab.kernel.accessAllowed ? 'block' : 'none';\n",
              "\n",
              "      async function convertToInteractive(key) {\n",
              "        const element = document.querySelector('#df-13432399-ef79-4a9f-957c-ecc8d1b97f38');\n",
              "        const dataTable =\n",
              "          await google.colab.kernel.invokeFunction('convertToInteractive',\n",
              "                                                    [key], {});\n",
              "        if (!dataTable) return;\n",
              "\n",
              "        const docLinkHtml = 'Like what you see? Visit the ' +\n",
              "          '<a target=\"_blank\" href=https://colab.research.google.com/notebooks/data_table.ipynb>data table notebook</a>'\n",
              "          + ' to learn more about interactive tables.';\n",
              "        element.innerHTML = '';\n",
              "        dataTable['output_type'] = 'display_data';\n",
              "        await google.colab.output.renderOutput(dataTable, element);\n",
              "        const docLink = document.createElement('div');\n",
              "        docLink.innerHTML = docLinkHtml;\n",
              "        element.appendChild(docLink);\n",
              "      }\n",
              "    </script>\n",
              "  </div>\n",
              "\n",
              "\n",
              "<div id=\"df-8fe01e74-3ae7-4e5b-ac79-246a57387a5a\">\n",
              "  <button class=\"colab-df-quickchart\" onclick=\"quickchart('df-8fe01e74-3ae7-4e5b-ac79-246a57387a5a')\"\n",
              "            title=\"Suggest charts\"\n",
              "            style=\"display:none;\">\n",
              "\n",
              "<svg xmlns=\"http://www.w3.org/2000/svg\" height=\"24px\"viewBox=\"0 0 24 24\"\n",
              "     width=\"24px\">\n",
              "    <g>\n",
              "        <path d=\"M19 3H5c-1.1 0-2 .9-2 2v14c0 1.1.9 2 2 2h14c1.1 0 2-.9 2-2V5c0-1.1-.9-2-2-2zM9 17H7v-7h2v7zm4 0h-2V7h2v10zm4 0h-2v-4h2v4z\"/>\n",
              "    </g>\n",
              "</svg>\n",
              "  </button>\n",
              "\n",
              "<style>\n",
              "  .colab-df-quickchart {\n",
              "      --bg-color: #E8F0FE;\n",
              "      --fill-color: #1967D2;\n",
              "      --hover-bg-color: #E2EBFA;\n",
              "      --hover-fill-color: #174EA6;\n",
              "      --disabled-fill-color: #AAA;\n",
              "      --disabled-bg-color: #DDD;\n",
              "  }\n",
              "\n",
              "  [theme=dark] .colab-df-quickchart {\n",
              "      --bg-color: #3B4455;\n",
              "      --fill-color: #D2E3FC;\n",
              "      --hover-bg-color: #434B5C;\n",
              "      --hover-fill-color: #FFFFFF;\n",
              "      --disabled-bg-color: #3B4455;\n",
              "      --disabled-fill-color: #666;\n",
              "  }\n",
              "\n",
              "  .colab-df-quickchart {\n",
              "    background-color: var(--bg-color);\n",
              "    border: none;\n",
              "    border-radius: 50%;\n",
              "    cursor: pointer;\n",
              "    display: none;\n",
              "    fill: var(--fill-color);\n",
              "    height: 32px;\n",
              "    padding: 0;\n",
              "    width: 32px;\n",
              "  }\n",
              "\n",
              "  .colab-df-quickchart:hover {\n",
              "    background-color: var(--hover-bg-color);\n",
              "    box-shadow: 0 1px 2px rgba(60, 64, 67, 0.3), 0 1px 3px 1px rgba(60, 64, 67, 0.15);\n",
              "    fill: var(--button-hover-fill-color);\n",
              "  }\n",
              "\n",
              "  .colab-df-quickchart-complete:disabled,\n",
              "  .colab-df-quickchart-complete:disabled:hover {\n",
              "    background-color: var(--disabled-bg-color);\n",
              "    fill: var(--disabled-fill-color);\n",
              "    box-shadow: none;\n",
              "  }\n",
              "\n",
              "  .colab-df-spinner {\n",
              "    border: 2px solid var(--fill-color);\n",
              "    border-color: transparent;\n",
              "    border-bottom-color: var(--fill-color);\n",
              "    animation:\n",
              "      spin 1s steps(1) infinite;\n",
              "  }\n",
              "\n",
              "  @keyframes spin {\n",
              "    0% {\n",
              "      border-color: transparent;\n",
              "      border-bottom-color: var(--fill-color);\n",
              "      border-left-color: var(--fill-color);\n",
              "    }\n",
              "    20% {\n",
              "      border-color: transparent;\n",
              "      border-left-color: var(--fill-color);\n",
              "      border-top-color: var(--fill-color);\n",
              "    }\n",
              "    30% {\n",
              "      border-color: transparent;\n",
              "      border-left-color: var(--fill-color);\n",
              "      border-top-color: var(--fill-color);\n",
              "      border-right-color: var(--fill-color);\n",
              "    }\n",
              "    40% {\n",
              "      border-color: transparent;\n",
              "      border-right-color: var(--fill-color);\n",
              "      border-top-color: var(--fill-color);\n",
              "    }\n",
              "    60% {\n",
              "      border-color: transparent;\n",
              "      border-right-color: var(--fill-color);\n",
              "    }\n",
              "    80% {\n",
              "      border-color: transparent;\n",
              "      border-right-color: var(--fill-color);\n",
              "      border-bottom-color: var(--fill-color);\n",
              "    }\n",
              "    90% {\n",
              "      border-color: transparent;\n",
              "      border-bottom-color: var(--fill-color);\n",
              "    }\n",
              "  }\n",
              "</style>\n",
              "\n",
              "  <script>\n",
              "    async function quickchart(key) {\n",
              "      const quickchartButtonEl =\n",
              "        document.querySelector('#' + key + ' button');\n",
              "      quickchartButtonEl.disabled = true;  // To prevent multiple clicks.\n",
              "      quickchartButtonEl.classList.add('colab-df-spinner');\n",
              "      try {\n",
              "        const charts = await google.colab.kernel.invokeFunction(\n",
              "            'suggestCharts', [key], {});\n",
              "      } catch (error) {\n",
              "        console.error('Error during call to suggestCharts:', error);\n",
              "      }\n",
              "      quickchartButtonEl.classList.remove('colab-df-spinner');\n",
              "      quickchartButtonEl.classList.add('colab-df-quickchart-complete');\n",
              "    }\n",
              "    (() => {\n",
              "      let quickchartButtonEl =\n",
              "        document.querySelector('#df-8fe01e74-3ae7-4e5b-ac79-246a57387a5a button');\n",
              "      quickchartButtonEl.style.display =\n",
              "        google.colab.kernel.accessAllowed ? 'block' : 'none';\n",
              "    })();\n",
              "  </script>\n",
              "</div>\n",
              "\n",
              "    </div>\n",
              "  </div>\n"
            ],
            "application/vnd.google.colaboratory.intrinsic+json": {
              "type": "dataframe",
              "variable_name": "test_df"
            }
          },
          "metadata": {},
          "execution_count": 94
        }
      ]
    },
    {
      "cell_type": "code",
      "source": [
        "predict_cat = model_cat.predict(test_df)\n",
        "# predict_gb = model_gb.predict(test_df)"
      ],
      "metadata": {
        "id": "0qVNkFqp-7Vs"
      },
      "execution_count": 97,
      "outputs": []
    },
    {
      "cell_type": "code",
      "source": [
        "# prediction = predict_gb * 0.6 + predict_cat * 0.4\n",
        "prediction = predict_cat\n",
        "prediction[:5]"
      ],
      "metadata": {
        "colab": {
          "base_uri": "https://localhost:8080/"
        },
        "id": "RAhvJ_ai_Pth",
        "outputId": "878e90d7-0075-4768-d268-bd1d461b2547"
      },
      "execution_count": 98,
      "outputs": [
        {
          "output_type": "execute_result",
          "data": {
            "text/plain": [
              "array([19165.06355984, 66330.49489997, 46942.79428894, 26850.29850037,\n",
              "       26378.51901221])"
            ]
          },
          "metadata": {},
          "execution_count": 98
        }
      ]
    },
    {
      "cell_type": "code",
      "source": [
        "result_df = pd.DataFrame(prediction)\n",
        "result_df.index = test_df.index\n",
        "result_df.to_csv(\"submission.csv\")"
      ],
      "metadata": {
        "id": "GZRd9XPG_TYX"
      },
      "execution_count": 99,
      "outputs": []
    }
  ]
}